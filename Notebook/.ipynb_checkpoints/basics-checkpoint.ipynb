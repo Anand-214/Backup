{
 "cells": [
  {
   "cell_type": "code",
   "execution_count": 4,
   "id": "b30d2fb8",
   "metadata": {},
   "outputs": [],
   "source": [
    "my_dogs = '100'\n",
    "my_cats = '250'\n",
    "total_pets = my_dogs + my_cats"
   ]
  },
  {
   "cell_type": "code",
   "execution_count": 5,
   "id": "fed1fa46",
   "metadata": {},
   "outputs": [
    {
     "name": "stdout",
     "output_type": "stream",
     "text": [
      "total_pets\n"
     ]
    }
   ],
   "source": [
    "print(\"total_pets\")"
   ]
  },
  {
   "cell_type": "code",
   "execution_count": 6,
   "id": "566dcd81",
   "metadata": {},
   "outputs": [
    {
     "name": "stdout",
     "output_type": "stream",
     "text": [
      "100250\n"
     ]
    }
   ],
   "source": [
    "print(total_pets)"
   ]
  },
  {
   "cell_type": "code",
   "execution_count": 10,
   "id": "567e96f7",
   "metadata": {},
   "outputs": [
    {
     "data": {
      "text/plain": [
       "'n'"
      ]
     },
     "execution_count": 10,
     "metadata": {},
     "output_type": "execute_result"
    }
   ],
   "source": [
    "##normally it starts from 0 and while reverse order it starts from 1\n",
    "string = \"Anand Mirafra\"\n",
    "string[-10]"
   ]
  },
  {
   "cell_type": "code",
   "execution_count": 37,
   "id": "f91557cc",
   "metadata": {},
   "outputs": [
    {
     "name": "stdout",
     "output_type": "stream",
     "text": [
      "Anand Mirafra\n"
     ]
    }
   ],
   "source": [
    "print(string)"
   ]
  },
  {
   "cell_type": "code",
   "execution_count": 38,
   "id": "63672d74",
   "metadata": {},
   "outputs": [
    {
     "name": "stdout",
     "output_type": "stream",
     "text": [
      "string\n"
     ]
    }
   ],
   "source": [
    "print(\"string\")"
   ]
  },
  {
   "cell_type": "code",
   "execution_count": 39,
   "id": "f8b48023",
   "metadata": {},
   "outputs": [
    {
     "data": {
      "text/plain": [
       "'Anand Mirafra'"
      ]
     },
     "execution_count": 39,
     "metadata": {},
     "output_type": "execute_result"
    }
   ],
   "source": [
    "string[::1]"
   ]
  },
  {
   "cell_type": "code",
   "execution_count": 40,
   "id": "36be82ec",
   "metadata": {},
   "outputs": [
    {
     "data": {
      "text/plain": [
       "'AadMrfa'"
      ]
     },
     "execution_count": 40,
     "metadata": {},
     "output_type": "execute_result"
    }
   ],
   "source": [
    "string[::2]"
   ]
  },
  {
   "cell_type": "code",
   "execution_count": 41,
   "id": "66832851",
   "metadata": {},
   "outputs": [
    {
     "data": {
      "text/plain": [
       "' iar'"
      ]
     },
     "execution_count": 41,
     "metadata": {},
     "output_type": "execute_result"
    }
   ],
   "source": [
    "string[5:12:2]"
   ]
  },
  {
   "cell_type": "code",
   "execution_count": 42,
   "id": "779085b3",
   "metadata": {},
   "outputs": [],
   "source": [
    "string = 'abcdefghijk'"
   ]
  },
  {
   "cell_type": "code",
   "execution_count": 51,
   "id": "8578c499",
   "metadata": {},
   "outputs": [
    {
     "data": {
      "text/plain": [
       "'kjihgfedcba'"
      ]
     },
     "execution_count": 51,
     "metadata": {},
     "output_type": "execute_result"
    }
   ],
   "source": [
    "string[::-1]"
   ]
  },
  {
   "cell_type": "code",
   "execution_count": 52,
   "id": "135ddada",
   "metadata": {},
   "outputs": [
    {
     "name": "stdout",
     "output_type": "stream",
     "text": [
      "abcdefghijk\n"
     ]
    }
   ],
   "source": [
    "print(string)"
   ]
  },
  {
   "cell_type": "code",
   "execution_count": 11,
   "id": "1163ace9",
   "metadata": {},
   "outputs": [
    {
     "name": "stdout",
     "output_type": "stream",
     "text": [
      "I am best\n"
     ]
    }
   ],
   "source": [
    "print('I am best')"
   ]
  },
  {
   "cell_type": "code",
   "execution_count": 55,
   "id": "7ef13d45",
   "metadata": {},
   "outputs": [
    {
     "name": "stdout",
     "output_type": "stream",
     "text": [
      "I started python\n",
      "I am perfect in python\n",
      "I can program\n",
      " in python\n"
     ]
    }
   ],
   "source": [
    "print(\"I started python\")\n",
    "print(\"I am perfect in python\")\n",
    "print(\"I can program\\n in python\")"
   ]
  },
  {
   "cell_type": "code",
   "execution_count": 56,
   "id": "c4daed49",
   "metadata": {},
   "outputs": [
    {
     "data": {
      "text/plain": [
       "'I am a string'"
      ]
     },
     "execution_count": 56,
     "metadata": {},
     "output_type": "execute_result"
    }
   ],
   "source": [
    "\"I am a string\""
   ]
  },
  {
   "cell_type": "code",
   "execution_count": 57,
   "id": "999baf82",
   "metadata": {},
   "outputs": [
    {
     "name": "stdout",
     "output_type": "stream",
     "text": [
      "I am a string\n"
     ]
    }
   ],
   "source": [
    "print(\"I am a string\")"
   ]
  },
  {
   "cell_type": "code",
   "execution_count": 60,
   "id": "3ee572df",
   "metadata": {},
   "outputs": [
    {
     "name": "stdout",
     "output_type": "stream",
     "text": [
      "I have started\n",
      "learning python\n"
     ]
    }
   ],
   "source": [
    "print(\"I have started\")\n",
    "print(\"learning python\")"
   ]
  },
  {
   "cell_type": "code",
   "execution_count": 61,
   "id": "e3b02e10",
   "metadata": {},
   "outputs": [
    {
     "data": {
      "text/plain": [
       "11"
      ]
     },
     "execution_count": 61,
     "metadata": {},
     "output_type": "execute_result"
    }
   ],
   "source": [
    "len(string)"
   ]
  },
  {
   "cell_type": "code",
   "execution_count": 13,
   "id": "2237fc4e",
   "metadata": {},
   "outputs": [
    {
     "data": {
      "text/plain": [
       "7"
      ]
     },
     "execution_count": 13,
     "metadata": {},
     "output_type": "execute_result"
    }
   ],
   "source": [
    "len('Mirafra')"
   ]
  },
  {
   "cell_type": "code",
   "execution_count": 63,
   "id": "ee7267b5",
   "metadata": {},
   "outputs": [
    {
     "data": {
      "text/plain": [
       "'abcdefghijk'"
      ]
     },
     "execution_count": 63,
     "metadata": {},
     "output_type": "execute_result"
    }
   ],
   "source": [
    "string"
   ]
  },
  {
   "cell_type": "code",
   "execution_count": 64,
   "id": "77c843e0",
   "metadata": {},
   "outputs": [
    {
     "data": {
      "text/plain": [
       "'b'"
      ]
     },
     "execution_count": 64,
     "metadata": {},
     "output_type": "execute_result"
    }
   ],
   "source": [
    "string[-10]"
   ]
  },
  {
   "cell_type": "code",
   "execution_count": 65,
   "id": "8b21170e",
   "metadata": {},
   "outputs": [],
   "source": [
    "string = \"abcdefghijk\""
   ]
  },
  {
   "cell_type": "code",
   "execution_count": 73,
   "id": "382c1f51",
   "metadata": {},
   "outputs": [
    {
     "data": {
      "text/plain": [
       "'acegik'"
      ]
     },
     "execution_count": 73,
     "metadata": {},
     "output_type": "execute_result"
    }
   ],
   "source": [
    "string[::2]"
   ]
  },
  {
   "cell_type": "code",
   "execution_count": 78,
   "id": "4dfc4236",
   "metadata": {},
   "outputs": [
    {
     "data": {
      "text/plain": [
       "'d'"
      ]
     },
     "execution_count": 78,
     "metadata": {},
     "output_type": "execute_result"
    }
   ],
   "source": [
    "'Anand'[4]"
   ]
  },
  {
   "cell_type": "code",
   "execution_count": 15,
   "id": "7f812025",
   "metadata": {},
   "outputs": [],
   "source": [
    "name = \"Sam\""
   ]
  },
  {
   "cell_type": "code",
   "execution_count": 16,
   "id": "c1c6b093",
   "metadata": {},
   "outputs": [
    {
     "name": "stdout",
     "output_type": "stream",
     "text": [
      "Sam\n"
     ]
    }
   ],
   "source": [
    "print(name)"
   ]
  },
  {
   "cell_type": "code",
   "execution_count": 81,
   "id": "1585d69a",
   "metadata": {},
   "outputs": [
    {
     "data": {
      "text/plain": [
       "'am'"
      ]
     },
     "execution_count": 81,
     "metadata": {},
     "output_type": "execute_result"
    }
   ],
   "source": [
    "name[1:]"
   ]
  },
  {
   "cell_type": "code",
   "execution_count": 82,
   "id": "d2487d5e",
   "metadata": {},
   "outputs": [
    {
     "data": {
      "text/plain": [
       "'Pam'"
      ]
     },
     "execution_count": 82,
     "metadata": {},
     "output_type": "execute_result"
    }
   ],
   "source": [
    "'P' + name[1:]"
   ]
  },
  {
   "cell_type": "code",
   "execution_count": 17,
   "id": "d7d08c53",
   "metadata": {},
   "outputs": [],
   "source": [
    "initial = 'P'\n",
    "final = initial + name[1:]"
   ]
  },
  {
   "cell_type": "code",
   "execution_count": 18,
   "id": "25ac7d4b",
   "metadata": {},
   "outputs": [
    {
     "name": "stdout",
     "output_type": "stream",
     "text": [
      "Pam\n"
     ]
    }
   ],
   "source": [
    "print(final)"
   ]
  },
  {
   "cell_type": "code",
   "execution_count": 85,
   "id": "cd2af02b",
   "metadata": {},
   "outputs": [],
   "source": [
    "name = \"Anand Kulkarni\"\n",
    "first = name[1:5]"
   ]
  },
  {
   "cell_type": "code",
   "execution_count": 86,
   "id": "ad38ee0b",
   "metadata": {},
   "outputs": [
    {
     "data": {
      "text/plain": [
       "'nand'"
      ]
     },
     "execution_count": 86,
     "metadata": {},
     "output_type": "execute_result"
    }
   ],
   "source": [
    "first"
   ]
  },
  {
   "cell_type": "code",
   "execution_count": 87,
   "id": "3888a2db",
   "metadata": {},
   "outputs": [],
   "source": [
    "first_1 = 'K' + name[1:5]\n"
   ]
  },
  {
   "cell_type": "code",
   "execution_count": 88,
   "id": "8a91306f",
   "metadata": {},
   "outputs": [
    {
     "data": {
      "text/plain": [
       "'Knand'"
      ]
     },
     "execution_count": 88,
     "metadata": {},
     "output_type": "execute_result"
    }
   ],
   "source": [
    "first_1"
   ]
  },
  {
   "cell_type": "code",
   "execution_count": 136,
   "id": "6e65f2bb",
   "metadata": {},
   "outputs": [],
   "source": [
    "last = name[7:]"
   ]
  },
  {
   "cell_type": "code",
   "execution_count": 137,
   "id": "3539b8f9",
   "metadata": {},
   "outputs": [
    {
     "data": {
      "text/plain": [
       "'ulkarni'"
      ]
     },
     "execution_count": 137,
     "metadata": {},
     "output_type": "execute_result"
    }
   ],
   "source": [
    "last"
   ]
  },
  {
   "cell_type": "code",
   "execution_count": 155,
   "id": "b166f114",
   "metadata": {},
   "outputs": [
    {
     "name": "stdout",
     "output_type": "stream",
     "text": [
      "ANAND KULKARNI MIRAFRA\n",
      "anand kulkarni mirafra\n",
      "['Anand', 'Kulkarni', 'Mirafra']\n"
     ]
    }
   ],
   "source": [
    "x = \"Anand Kulkarni Mirafra\"\n",
    "print(x.upper())\n",
    "print(x.lower())\n",
    "print(x.split())"
   ]
  },
  {
   "cell_type": "code",
   "execution_count": null,
   "id": "20c3c799",
   "metadata": {},
   "outputs": [],
   "source": [
    "#String Interpolation i.e stick a variable inside string."
   ]
  },
  {
   "cell_type": "code",
   "execution_count": 143,
   "id": "0f4f424b",
   "metadata": {},
   "outputs": [
    {
     "name": "stdout",
     "output_type": "stream",
     "text": [
      "Hello Hose\n"
     ]
    }
   ],
   "source": [
    "my_name = \"Hose\"\n",
    "print(\"Hello \" + my_name)"
   ]
  },
  {
   "cell_type": "code",
   "execution_count": 146,
   "id": "cec080b3",
   "metadata": {},
   "outputs": [
    {
     "name": "stdout",
     "output_type": "stream",
     "text": [
      "The fox quick brown\n"
     ]
    }
   ],
   "source": [
    "print('The {2} {0} {1}'.format('quick','brown','fox'))"
   ]
  },
  {
   "cell_type": "code",
   "execution_count": 147,
   "id": "7b41452d",
   "metadata": {},
   "outputs": [
    {
     "name": "stdout",
     "output_type": "stream",
     "text": [
      "This is a string inserted\n"
     ]
    }
   ],
   "source": [
    "print(\"This is a string {}\".format('inserted'))"
   ]
  },
  {
   "cell_type": "code",
   "execution_count": 148,
   "id": "8b090d73",
   "metadata": {},
   "outputs": [
    {
     "name": "stdout",
     "output_type": "stream",
     "text": [
      "this is a string INSERTED\n"
     ]
    }
   ],
   "source": [
    "print(\"this is a string {}\" .format(\"INSERTED\"))"
   ]
  },
  {
   "cell_type": "code",
   "execution_count": 150,
   "id": "0d5004e2",
   "metadata": {},
   "outputs": [
    {
     "name": "stdout",
     "output_type": "stream",
     "text": [
      "The quick brown fox\n"
     ]
    }
   ],
   "source": [
    "print('The {q} {b} {f}'.format(q='quick',b='brown',f='fox'))"
   ]
  },
  {
   "cell_type": "code",
   "execution_count": 164,
   "id": "01bd3bef",
   "metadata": {},
   "outputs": [
    {
     "name": "stdout",
     "output_type": "stream",
     "text": [
      "The result is     0.1429\n"
     ]
    }
   ],
   "source": [
    "num1 = 100\n",
    "num2 = 700\n",
    "res = num1 / num2\n",
    "print(\"The result is {r:10.4f}\".format(r = res))"
   ]
  },
  {
   "cell_type": "code",
   "execution_count": 177,
   "id": "168022f9",
   "metadata": {},
   "outputs": [
    {
     "name": "stdout",
     "output_type": "stream",
     "text": [
      "The result is 1.0000000000\n"
     ]
    }
   ],
   "source": [
    "var = 3\n",
    "var1 = 2\n",
    "res = var % var1\n",
    "print(\"The result is {r:10.10f}\".format(r =res))"
   ]
  },
  {
   "cell_type": "code",
   "execution_count": 1,
   "id": "81ad258f",
   "metadata": {},
   "outputs": [
    {
     "data": {
      "text/plain": [
       "3"
      ]
     },
     "execution_count": 1,
     "metadata": {},
     "output_type": "execute_result"
    }
   ],
   "source": [
    "2+1"
   ]
  },
  {
   "cell_type": "code",
   "execution_count": 10,
   "id": "7f63736f",
   "metadata": {},
   "outputs": [
    {
     "data": {
      "text/plain": [
       "1"
      ]
     },
     "execution_count": 10,
     "metadata": {},
     "output_type": "execute_result"
    }
   ],
   "source": [
    "16%3"
   ]
  },
  {
   "cell_type": "code",
   "execution_count": 11,
   "id": "d5b13657",
   "metadata": {},
   "outputs": [],
   "source": [
    "x='Hello'"
   ]
  },
  {
   "cell_type": "code",
   "execution_count": 12,
   "id": "cc054750",
   "metadata": {},
   "outputs": [
    {
     "data": {
      "text/plain": [
       "'HELLO'"
      ]
     },
     "execution_count": 12,
     "metadata": {},
     "output_type": "execute_result"
    }
   ],
   "source": [
    "x.upper()"
   ]
  },
  {
   "cell_type": "code",
   "execution_count": 15,
   "id": "d89983cf",
   "metadata": {},
   "outputs": [
    {
     "name": "stdout",
     "output_type": "stream",
     "text": [
      "His name is Hose\n"
     ]
    }
   ],
   "source": [
    "name = 'Hose'\n",
    "print(f'His name is {name}')"
   ]
  },
  {
   "cell_type": "code",
   "execution_count": 16,
   "id": "cf9a9cbb",
   "metadata": {},
   "outputs": [
    {
     "name": "stdout",
     "output_type": "stream",
     "text": [
      "The name if company is mirafra\n"
     ]
    }
   ],
   "source": [
    "emp = 'mirafra'\n",
    "print(f'The name if company is {emp}')"
   ]
  },
  {
   "cell_type": "code",
   "execution_count": 24,
   "id": "5dadbca9",
   "metadata": {},
   "outputs": [
    {
     "name": "stdout",
     "output_type": "stream",
     "text": [
      "my name is Anand\n"
     ]
    }
   ],
   "source": [
    "var = 'Anand'\n",
    "print('my name is {}'.format(var))"
   ]
  },
  {
   "cell_type": "code",
   "execution_count": 30,
   "id": "3d387fc2",
   "metadata": {},
   "outputs": [
    {
     "name": "stdout",
     "output_type": "stream",
     "text": [
      "The sky is blue\n"
     ]
    }
   ],
   "source": [
    "print(\"The {s} {i} {b}\".format(s='sky',i='is',b='blue'))"
   ]
  },
  {
   "cell_type": "code",
   "execution_count": 32,
   "id": "97cfbdd6",
   "metadata": {},
   "outputs": [
    {
     "name": "stdout",
     "output_type": "stream",
     "text": [
      "The sky is blue\n"
     ]
    }
   ],
   "source": [
    "\n",
    "print(\"The sky is {}\".format('blue'))"
   ]
  },
  {
   "cell_type": "code",
   "execution_count": 35,
   "id": "a0a7951c",
   "metadata": {},
   "outputs": [
    {
     "name": "stdout",
     "output_type": "stream",
     "text": [
      "is sky blue ?\n"
     ]
    }
   ],
   "source": [
    "print(\"{1} {0} {2} {3}\".format('sky','is','blue','?'))"
   ]
  },
  {
   "cell_type": "code",
   "execution_count": 36,
   "id": "99d27d9d",
   "metadata": {},
   "outputs": [
    {
     "name": "stdout",
     "output_type": "stream",
     "text": [
      "My name is Hose\n"
     ]
    }
   ],
   "source": [
    "print(f'My name is {name}')"
   ]
  },
  {
   "cell_type": "code",
   "execution_count": 37,
   "id": "cd718fb8",
   "metadata": {},
   "outputs": [
    {
     "data": {
      "text/plain": [
       "'Hose'"
      ]
     },
     "execution_count": 37,
     "metadata": {},
     "output_type": "execute_result"
    }
   ],
   "source": [
    "name"
   ]
  },
  {
   "cell_type": "code",
   "execution_count": 38,
   "id": "1b1fd08e",
   "metadata": {},
   "outputs": [
    {
     "data": {
      "text/plain": [
       "'Anand'"
      ]
     },
     "execution_count": 38,
     "metadata": {},
     "output_type": "execute_result"
    }
   ],
   "source": [
    "var"
   ]
  },
  {
   "cell_type": "code",
   "execution_count": 41,
   "id": "7532f7d0",
   "metadata": {},
   "outputs": [
    {
     "data": {
      "text/plain": [
       "'Anand'"
      ]
     },
     "execution_count": 41,
     "metadata": {},
     "output_type": "execute_result"
    }
   ],
   "source": [
    "var"
   ]
  },
  {
   "cell_type": "code",
   "execution_count": 42,
   "id": "d5c86563",
   "metadata": {},
   "outputs": [
    {
     "name": "stdout",
     "output_type": "stream",
     "text": [
      "My name is Anand, Address is N-9, M-2, city is Aurangabad\n"
     ]
    }
   ],
   "source": [
    "name = 'Anand'\n",
    "address = 'N-9, M-2'\n",
    "city = \"Aurangabad\"\n",
    "print(f'My name is {name}, Address is {address}, city is {city}')"
   ]
  },
  {
   "cell_type": "code",
   "execution_count": 45,
   "id": "282f2e1b",
   "metadata": {},
   "outputs": [
    {
     "data": {
      "text/plain": [
       "7"
      ]
     },
     "execution_count": 45,
     "metadata": {},
     "output_type": "execute_result"
    }
   ],
   "source": [
    "random = \"My name\"\n",
    "len(random)"
   ]
  },
  {
   "cell_type": "code",
   "execution_count": 46,
   "id": "d68985c9",
   "metadata": {},
   "outputs": [
    {
     "data": {
      "text/plain": [
       "'Hello world'"
      ]
     },
     "execution_count": 46,
     "metadata": {},
     "output_type": "execute_result"
    }
   ],
   "source": [
    "str = \"Hello world\"\n",
    "str"
   ]
  },
  {
   "cell_type": "code",
   "execution_count": 47,
   "id": "4d1a8005",
   "metadata": {},
   "outputs": [
    {
     "data": {
      "text/plain": [
       "'Hello world'"
      ]
     },
     "execution_count": 47,
     "metadata": {},
     "output_type": "execute_result"
    }
   ],
   "source": [
    "str"
   ]
  },
  {
   "cell_type": "code",
   "execution_count": 48,
   "id": "c354505d",
   "metadata": {},
   "outputs": [
    {
     "data": {
      "text/plain": [
       "11"
      ]
     },
     "execution_count": 48,
     "metadata": {},
     "output_type": "execute_result"
    }
   ],
   "source": [
    "len(str)"
   ]
  },
  {
   "cell_type": "code",
   "execution_count": 49,
   "id": "4a9af1d2",
   "metadata": {},
   "outputs": [
    {
     "data": {
      "text/plain": [
       "'dlrow olleH'"
      ]
     },
     "execution_count": 49,
     "metadata": {},
     "output_type": "execute_result"
    }
   ],
   "source": [
    "str[::-1]"
   ]
  },
  {
   "cell_type": "code",
   "execution_count": 50,
   "id": "98c2f7bb",
   "metadata": {},
   "outputs": [
    {
     "data": {
      "text/plain": [
       "'Hello worl'"
      ]
     },
     "execution_count": 50,
     "metadata": {},
     "output_type": "execute_result"
    }
   ],
   "source": [
    "str[:-1]"
   ]
  },
  {
   "cell_type": "code",
   "execution_count": 56,
   "id": "41cd6219",
   "metadata": {},
   "outputs": [],
   "source": [
    "str = str.upper()"
   ]
  },
  {
   "cell_type": "code",
   "execution_count": 57,
   "id": "f83b39a0",
   "metadata": {},
   "outputs": [
    {
     "data": {
      "text/plain": [
       "'HELLO WORLD'"
      ]
     },
     "execution_count": 57,
     "metadata": {},
     "output_type": "execute_result"
    }
   ],
   "source": [
    "str"
   ]
  },
  {
   "cell_type": "code",
   "execution_count": 58,
   "id": "c2b163b9",
   "metadata": {},
   "outputs": [
    {
     "name": "stdout",
     "output_type": "stream",
     "text": [
      "Python Rules!\n"
     ]
    }
   ],
   "source": [
    "print(\"{} {}\".format('Python','Rules!'))"
   ]
  },
  {
   "cell_type": "code",
   "execution_count": 59,
   "id": "eed53750",
   "metadata": {},
   "outputs": [
    {
     "data": {
      "text/plain": [
       "'Anand'"
      ]
     },
     "execution_count": 59,
     "metadata": {},
     "output_type": "execute_result"
    }
   ],
   "source": [
    "name"
   ]
  },
  {
   "cell_type": "code",
   "execution_count": 61,
   "id": "93300d81",
   "metadata": {},
   "outputs": [
    {
     "name": "stdout",
     "output_type": "stream",
     "text": [
      "My name is Anand\n"
     ]
    }
   ],
   "source": [
    "print(f'My name is {name}')"
   ]
  },
  {
   "cell_type": "code",
   "execution_count": 63,
   "id": "f4225185",
   "metadata": {},
   "outputs": [
    {
     "name": "stdout",
     "output_type": "stream",
     "text": [
      "My name is name\n"
     ]
    }
   ],
   "source": [
    "print(\"My name is {}\".format('name'))"
   ]
  },
  {
   "cell_type": "code",
   "execution_count": 69,
   "id": "38375b4b",
   "metadata": {},
   "outputs": [],
   "source": [
    "my_list = ['String',100.5,234,'Anand',\"Mirafra\"]"
   ]
  },
  {
   "cell_type": "code",
   "execution_count": 70,
   "id": "bfdd9098",
   "metadata": {},
   "outputs": [
    {
     "data": {
      "text/plain": [
       "5"
      ]
     },
     "execution_count": 70,
     "metadata": {},
     "output_type": "execute_result"
    }
   ],
   "source": [
    "len(my_list)"
   ]
  },
  {
   "cell_type": "code",
   "execution_count": 71,
   "id": "db6761a0",
   "metadata": {},
   "outputs": [
    {
     "data": {
      "text/plain": [
       "['String', 100.5, 234, 'Anand', 'Mirafra']"
      ]
     },
     "execution_count": 71,
     "metadata": {},
     "output_type": "execute_result"
    }
   ],
   "source": [
    "my_list[::]"
   ]
  },
  {
   "cell_type": "code",
   "execution_count": 72,
   "id": "9e11eb9d",
   "metadata": {},
   "outputs": [
    {
     "data": {
      "text/plain": [
       "[100.5]"
      ]
     },
     "execution_count": 72,
     "metadata": {},
     "output_type": "execute_result"
    }
   ],
   "source": [
    "my_list[1:2:1]"
   ]
  },
  {
   "cell_type": "code",
   "execution_count": 73,
   "id": "113a11fc",
   "metadata": {},
   "outputs": [
    {
     "data": {
      "text/plain": [
       "'Mirafra'"
      ]
     },
     "execution_count": 73,
     "metadata": {},
     "output_type": "execute_result"
    }
   ],
   "source": [
    "my_list[4]"
   ]
  },
  {
   "cell_type": "code",
   "execution_count": 74,
   "id": "5cce970b",
   "metadata": {},
   "outputs": [
    {
     "data": {
      "text/plain": [
       "['String', 100.5, 234, 'Anand', 'Mirafra']"
      ]
     },
     "execution_count": 74,
     "metadata": {},
     "output_type": "execute_result"
    }
   ],
   "source": [
    "my_list"
   ]
  },
  {
   "cell_type": "code",
   "execution_count": 75,
   "id": "16741638",
   "metadata": {},
   "outputs": [],
   "source": [
    "new_list = [\"Hello\",\"World\"]"
   ]
  },
  {
   "cell_type": "code",
   "execution_count": 77,
   "id": "5165883d",
   "metadata": {},
   "outputs": [],
   "source": [
    "total_list = my_list + new_list"
   ]
  },
  {
   "cell_type": "code",
   "execution_count": 78,
   "id": "e302807c",
   "metadata": {},
   "outputs": [
    {
     "data": {
      "text/plain": [
       "['String', 100.5, 234, 'Anand', 'Mirafra', 'Hello', 'World']"
      ]
     },
     "execution_count": 78,
     "metadata": {},
     "output_type": "execute_result"
    }
   ],
   "source": [
    "total_list"
   ]
  },
  {
   "cell_type": "code",
   "execution_count": 79,
   "id": "29081fb4",
   "metadata": {},
   "outputs": [],
   "source": [
    "total_list.append('last')"
   ]
  },
  {
   "cell_type": "code",
   "execution_count": 86,
   "id": "63bf6658",
   "metadata": {},
   "outputs": [
    {
     "name": "stdout",
     "output_type": "stream",
     "text": [
      "['String', 100.5, 234, 'Anand', 'Mirafra', 'Hello', 'World', 'last', 'new']\n"
     ]
    }
   ],
   "source": [
    "print(total_list)"
   ]
  },
  {
   "cell_type": "code",
   "execution_count": 100,
   "id": "b11d5888",
   "metadata": {},
   "outputs": [],
   "source": [
    "total_list.append('new')"
   ]
  },
  {
   "cell_type": "code",
   "execution_count": 101,
   "id": "6e94eeea",
   "metadata": {},
   "outputs": [
    {
     "name": "stdout",
     "output_type": "stream",
     "text": [
      "[100.5, 234, 'Anand', 'Hello', 'World', 'last', 'new', 'new', 'new']\n"
     ]
    }
   ],
   "source": [
    "print(total_list)"
   ]
  },
  {
   "cell_type": "code",
   "execution_count": 104,
   "id": "5b198818",
   "metadata": {},
   "outputs": [],
   "source": [
    "popped_item = total_list.pop(-1)"
   ]
  },
  {
   "cell_type": "code",
   "execution_count": 105,
   "id": "99ca6925",
   "metadata": {},
   "outputs": [
    {
     "data": {
      "text/plain": [
       "'new'"
      ]
     },
     "execution_count": 105,
     "metadata": {},
     "output_type": "execute_result"
    }
   ],
   "source": [
    "popped_item"
   ]
  },
  {
   "cell_type": "code",
   "execution_count": 106,
   "id": "79a61b6d",
   "metadata": {},
   "outputs": [
    {
     "name": "stdout",
     "output_type": "stream",
     "text": [
      "[100.5, 234, 'Anand', 'Hello', 'World', 'last', 'new']\n"
     ]
    }
   ],
   "source": [
    "print(total_list)"
   ]
  },
  {
   "cell_type": "code",
   "execution_count": 107,
   "id": "ffd989b4",
   "metadata": {},
   "outputs": [
    {
     "ename": "TypeError",
     "evalue": "'<' not supported between instances of 'str' and 'int'",
     "output_type": "error",
     "traceback": [
      "\u001b[1;31m---------------------------------------------------------------------------\u001b[0m",
      "\u001b[1;31mTypeError\u001b[0m                                 Traceback (most recent call last)",
      "\u001b[1;32m~\\AppData\\Local\\Temp/ipykernel_16236/2556449397.py\u001b[0m in \u001b[0;36m<module>\u001b[1;34m\u001b[0m\n\u001b[1;32m----> 1\u001b[1;33m \u001b[0mtotal_list\u001b[0m\u001b[1;33m.\u001b[0m\u001b[0msort\u001b[0m\u001b[1;33m(\u001b[0m\u001b[1;33m)\u001b[0m\u001b[1;33m\u001b[0m\u001b[1;33m\u001b[0m\u001b[0m\n\u001b[0m",
      "\u001b[1;31mTypeError\u001b[0m: '<' not supported between instances of 'str' and 'int'"
     ]
    }
   ],
   "source": [
    "total_list.sort()"
   ]
  },
  {
   "cell_type": "code",
   "execution_count": 110,
   "id": "c41cef29",
   "metadata": {},
   "outputs": [],
   "source": [
    "total_list = [10,22,5,94,65]"
   ]
  },
  {
   "cell_type": "code",
   "execution_count": 111,
   "id": "f9557906",
   "metadata": {},
   "outputs": [
    {
     "data": {
      "text/plain": [
       "[10, 22, 5, 94, 65]"
      ]
     },
     "execution_count": 111,
     "metadata": {},
     "output_type": "execute_result"
    }
   ],
   "source": [
    "total_list"
   ]
  },
  {
   "cell_type": "code",
   "execution_count": 112,
   "id": "1db8349b",
   "metadata": {},
   "outputs": [],
   "source": [
    "total_list.sort()"
   ]
  },
  {
   "cell_type": "code",
   "execution_count": 113,
   "id": "bd2b90fd",
   "metadata": {},
   "outputs": [
    {
     "data": {
      "text/plain": [
       "[5, 10, 22, 65, 94]"
      ]
     },
     "execution_count": 113,
     "metadata": {},
     "output_type": "execute_result"
    }
   ],
   "source": [
    "total_list"
   ]
  },
  {
   "cell_type": "code",
   "execution_count": 117,
   "id": "67ac19eb",
   "metadata": {},
   "outputs": [],
   "source": [
    "string_list = ['Q','L','F','Z']"
   ]
  },
  {
   "cell_type": "code",
   "execution_count": 118,
   "id": "a58f6e2f",
   "metadata": {},
   "outputs": [],
   "source": [
    "string_list.sort()"
   ]
  },
  {
   "cell_type": "code",
   "execution_count": 119,
   "id": "e58ea1ff",
   "metadata": {},
   "outputs": [
    {
     "data": {
      "text/plain": [
       "['F', 'L', 'Q', 'Z']"
      ]
     },
     "execution_count": 119,
     "metadata": {},
     "output_type": "execute_result"
    }
   ],
   "source": [
    "string_list"
   ]
  },
  {
   "cell_type": "code",
   "execution_count": 122,
   "id": "8c4b7958",
   "metadata": {},
   "outputs": [],
   "source": [
    "string_list.append('J')"
   ]
  },
  {
   "cell_type": "code",
   "execution_count": 123,
   "id": "e202fd30",
   "metadata": {},
   "outputs": [
    {
     "data": {
      "text/plain": [
       "['F', 'L', 'Q', 'Z', 'J', 'J']"
      ]
     },
     "execution_count": 123,
     "metadata": {},
     "output_type": "execute_result"
    }
   ],
   "source": [
    "string_list"
   ]
  },
  {
   "cell_type": "code",
   "execution_count": 125,
   "id": "a7c98288",
   "metadata": {},
   "outputs": [
    {
     "data": {
      "text/plain": [
       "'J'"
      ]
     },
     "execution_count": 125,
     "metadata": {},
     "output_type": "execute_result"
    }
   ],
   "source": [
    "string_list.pop()"
   ]
  },
  {
   "cell_type": "code",
   "execution_count": 126,
   "id": "d3c5cb60",
   "metadata": {},
   "outputs": [
    {
     "data": {
      "text/plain": [
       "['F', 'L', 'Q', 'Z']"
      ]
     },
     "execution_count": 126,
     "metadata": {},
     "output_type": "execute_result"
    }
   ],
   "source": [
    "string_list"
   ]
  },
  {
   "cell_type": "code",
   "execution_count": 127,
   "id": "29017e2f",
   "metadata": {},
   "outputs": [],
   "source": [
    "string_list.reverse()"
   ]
  },
  {
   "cell_type": "code",
   "execution_count": 128,
   "id": "d96c7112",
   "metadata": {},
   "outputs": [
    {
     "data": {
      "text/plain": [
       "['Z', 'Q', 'L', 'F']"
      ]
     },
     "execution_count": 128,
     "metadata": {},
     "output_type": "execute_result"
    }
   ],
   "source": [
    "string_list"
   ]
  },
  {
   "cell_type": "code",
   "execution_count": 129,
   "id": "cf8ded71",
   "metadata": {},
   "outputs": [],
   "source": [
    "total_list.reverse()"
   ]
  },
  {
   "cell_type": "code",
   "execution_count": 130,
   "id": "859b8c41",
   "metadata": {},
   "outputs": [
    {
     "data": {
      "text/plain": [
       "[94, 65, 22, 10, 5]"
      ]
     },
     "execution_count": 130,
     "metadata": {},
     "output_type": "execute_result"
    }
   ],
   "source": [
    "total_list"
   ]
  },
  {
   "cell_type": "code",
   "execution_count": 131,
   "id": "a7075f23",
   "metadata": {},
   "outputs": [
    {
     "data": {
      "text/plain": [
       "'HELLO WORLD'"
      ]
     },
     "execution_count": 131,
     "metadata": {},
     "output_type": "execute_result"
    }
   ],
   "source": [
    "str"
   ]
  },
  {
   "cell_type": "code",
   "execution_count": 136,
   "id": "04e110b9",
   "metadata": {},
   "outputs": [],
   "source": [
    "string_list.reverse()"
   ]
  },
  {
   "cell_type": "code",
   "execution_count": 137,
   "id": "826d62ea",
   "metadata": {},
   "outputs": [
    {
     "data": {
      "text/plain": [
       "['F', 'L', 'Q', 'Z']"
      ]
     },
     "execution_count": 137,
     "metadata": {},
     "output_type": "execute_result"
    }
   ],
   "source": [
    "string_list"
   ]
  },
  {
   "cell_type": "code",
   "execution_count": 138,
   "id": "f7492533",
   "metadata": {},
   "outputs": [],
   "source": [
    "my_dict = {'key1':'value1','key2':'value2'}"
   ]
  },
  {
   "cell_type": "code",
   "execution_count": 139,
   "id": "d82a740a",
   "metadata": {},
   "outputs": [
    {
     "data": {
      "text/plain": [
       "{'key1': 'value1', 'key2': 'value2'}"
      ]
     },
     "execution_count": 139,
     "metadata": {},
     "output_type": "execute_result"
    }
   ],
   "source": [
    "my_dict"
   ]
  },
  {
   "cell_type": "code",
   "execution_count": 142,
   "id": "3f887e52",
   "metadata": {},
   "outputs": [
    {
     "data": {
      "text/plain": [
       "'value2'"
      ]
     },
     "execution_count": 142,
     "metadata": {},
     "output_type": "execute_result"
    }
   ],
   "source": [
    "my_dict['key2']"
   ]
  },
  {
   "cell_type": "code",
   "execution_count": 147,
   "id": "eb4cdf17",
   "metadata": {},
   "outputs": [],
   "source": [
    "fruit_prices = {'Mangoes':250,'Apples':200,'oranges':80}"
   ]
  },
  {
   "cell_type": "code",
   "execution_count": 148,
   "id": "aa5b6b09",
   "metadata": {},
   "outputs": [
    {
     "name": "stdout",
     "output_type": "stream",
     "text": [
      "The price of mangoes is 250\n"
     ]
    }
   ],
   "source": [
    "print(\"The price of mangoes is {}\".format(fruit_prices['Mangoes']))"
   ]
  },
  {
   "cell_type": "code",
   "execution_count": 156,
   "id": "09a850f6",
   "metadata": {},
   "outputs": [
    {
     "name": "stdout",
     "output_type": "stream",
     "text": [
      "The price of apple is 200\n"
     ]
    }
   ],
   "source": [
    "print('The price of apple is {}'.format(fruit_prices['Apples']))"
   ]
  },
  {
   "cell_type": "code",
   "execution_count": 157,
   "id": "7ff341a3",
   "metadata": {},
   "outputs": [
    {
     "data": {
      "text/plain": [
       "['String', 100.5, 234, 'Anand', 'Mirafra']"
      ]
     },
     "execution_count": 157,
     "metadata": {},
     "output_type": "execute_result"
    }
   ],
   "source": [
    "my_list"
   ]
  },
  {
   "cell_type": "code",
   "execution_count": 159,
   "id": "62dd8f63",
   "metadata": {},
   "outputs": [
    {
     "name": "stdout",
     "output_type": "stream",
     "text": [
      "The 3 index of the list contains Anand\n"
     ]
    }
   ],
   "source": [
    "print(\"The {} index of the list contains {}\".format(3,my_list[3]))"
   ]
  },
  {
   "cell_type": "code",
   "execution_count": 160,
   "id": "8af92021",
   "metadata": {},
   "outputs": [],
   "source": [
    "d = {'key1':200,'key2':['Anand',\"Arvind\",'Kulkarni'], 'key3': {'employee_id':2049, 'team':'SWE'}}"
   ]
  },
  {
   "cell_type": "code",
   "execution_count": 161,
   "id": "d59ff4b5",
   "metadata": {},
   "outputs": [
    {
     "data": {
      "text/plain": [
       "{'key1': 200,\n",
       " 'key2': ['Anand', 'Arvind', 'Kulkarni'],\n",
       " 'key3': {'employee_id': 2049, 'team': 'SWE'}}"
      ]
     },
     "execution_count": 161,
     "metadata": {},
     "output_type": "execute_result"
    }
   ],
   "source": [
    "d"
   ]
  },
  {
   "cell_type": "code",
   "execution_count": 164,
   "id": "3ab23609",
   "metadata": {},
   "outputs": [
    {
     "data": {
      "text/plain": [
       "'SWE'"
      ]
     },
     "execution_count": 164,
     "metadata": {},
     "output_type": "execute_result"
    }
   ],
   "source": [
    "d['key3']['team']"
   ]
  },
  {
   "cell_type": "code",
   "execution_count": 167,
   "id": "25ee105a",
   "metadata": {},
   "outputs": [
    {
     "data": {
      "text/plain": [
       "200"
      ]
     },
     "execution_count": 167,
     "metadata": {},
     "output_type": "execute_result"
    }
   ],
   "source": [
    "d['key1']"
   ]
  },
  {
   "cell_type": "code",
   "execution_count": 168,
   "id": "59381aa8",
   "metadata": {},
   "outputs": [
    {
     "data": {
      "text/plain": [
       "'Arvind'"
      ]
     },
     "execution_count": 168,
     "metadata": {},
     "output_type": "execute_result"
    }
   ],
   "source": [
    "d['key2'][1]"
   ]
  },
  {
   "cell_type": "code",
   "execution_count": 169,
   "id": "e7dbee55",
   "metadata": {},
   "outputs": [
    {
     "data": {
      "text/plain": [
       "{'key1': 'value1', 'key2': 'value2'}"
      ]
     },
     "execution_count": 169,
     "metadata": {},
     "output_type": "execute_result"
    }
   ],
   "source": [
    "my_dict"
   ]
  },
  {
   "cell_type": "code",
   "execution_count": 170,
   "id": "c0da1ab0",
   "metadata": {},
   "outputs": [
    {
     "data": {
      "text/plain": [
       "{'key1': 200,\n",
       " 'key2': ['Anand', 'Arvind', 'Kulkarni'],\n",
       " 'key3': {'employee_id': 2049, 'team': 'SWE'}}"
      ]
     },
     "execution_count": 170,
     "metadata": {},
     "output_type": "execute_result"
    }
   ],
   "source": [
    "d"
   ]
  },
  {
   "cell_type": "code",
   "execution_count": 171,
   "id": "74414bb4",
   "metadata": {},
   "outputs": [],
   "source": [
    "d['key2'][0] = 'Mirafra'"
   ]
  },
  {
   "cell_type": "code",
   "execution_count": 172,
   "id": "d7b520da",
   "metadata": {},
   "outputs": [
    {
     "data": {
      "text/plain": [
       "{'key1': 200,\n",
       " 'key2': ['Mirafra', 'Arvind', 'Kulkarni'],\n",
       " 'key3': {'employee_id': 2049, 'team': 'SWE'}}"
      ]
     },
     "execution_count": 172,
     "metadata": {},
     "output_type": "execute_result"
    }
   ],
   "source": [
    "d"
   ]
  },
  {
   "cell_type": "code",
   "execution_count": 173,
   "id": "dc7a6e55",
   "metadata": {},
   "outputs": [],
   "source": [
    "d['key3']['employee_id'] = 3049\n"
   ]
  },
  {
   "cell_type": "code",
   "execution_count": 174,
   "id": "a51fbe96",
   "metadata": {},
   "outputs": [
    {
     "data": {
      "text/plain": [
       "{'key1': 200,\n",
       " 'key2': ['Mirafra', 'Arvind', 'Kulkarni'],\n",
       " 'key3': {'employee_id': 3049, 'team': 'SWE'}}"
      ]
     },
     "execution_count": 174,
     "metadata": {},
     "output_type": "execute_result"
    }
   ],
   "source": [
    "d"
   ]
  },
  {
   "cell_type": "code",
   "execution_count": 175,
   "id": "651463dd",
   "metadata": {},
   "outputs": [],
   "source": [
    "d['key3']['employee_id'] = 2049"
   ]
  },
  {
   "cell_type": "code",
   "execution_count": 176,
   "id": "27c99fea",
   "metadata": {},
   "outputs": [
    {
     "data": {
      "text/plain": [
       "{'key1': 200,\n",
       " 'key2': ['Mirafra', 'Arvind', 'Kulkarni'],\n",
       " 'key3': {'employee_id': 2049, 'team': 'SWE'}}"
      ]
     },
     "execution_count": 176,
     "metadata": {},
     "output_type": "execute_result"
    }
   ],
   "source": [
    "d"
   ]
  },
  {
   "cell_type": "code",
   "execution_count": 190,
   "id": "4c4359df",
   "metadata": {},
   "outputs": [],
   "source": [
    "e = {'key1':['a','b','c'],'key2':['d','e','f'],'key3':['g','h','i']}"
   ]
  },
  {
   "cell_type": "code",
   "execution_count": 191,
   "id": "308ad1e0",
   "metadata": {},
   "outputs": [
    {
     "data": {
      "text/plain": [
       "{'key1': ['a', 'b', 'c'], 'key2': ['d', 'e', 'f'], 'key3': ['g', 'h', 'i']}"
      ]
     },
     "execution_count": 191,
     "metadata": {},
     "output_type": "execute_result"
    }
   ],
   "source": [
    "e"
   ]
  },
  {
   "cell_type": "code",
   "execution_count": 192,
   "id": "e0cf8a5c",
   "metadata": {},
   "outputs": [
    {
     "data": {
      "text/plain": [
       "{'key1': ['a', 'b', 'c'], 'key2': ['d', 'e', 'f'], 'key3': ['g', 'h', 'i']}"
      ]
     },
     "execution_count": 192,
     "metadata": {},
     "output_type": "execute_result"
    }
   ],
   "source": [
    "e"
   ]
  },
  {
   "cell_type": "code",
   "execution_count": 193,
   "id": "d2074b9b",
   "metadata": {},
   "outputs": [
    {
     "data": {
      "text/plain": [
       "dict_keys(['key1', 'key2', 'key3'])"
      ]
     },
     "execution_count": 193,
     "metadata": {},
     "output_type": "execute_result"
    }
   ],
   "source": [
    "e.keys()"
   ]
  },
  {
   "cell_type": "code",
   "execution_count": 194,
   "id": "72b2e951",
   "metadata": {},
   "outputs": [
    {
     "data": {
      "text/plain": [
       "dict_values([['a', 'b', 'c'], ['d', 'e', 'f'], ['g', 'h', 'i']])"
      ]
     },
     "execution_count": 194,
     "metadata": {},
     "output_type": "execute_result"
    }
   ],
   "source": [
    "e.values()"
   ]
  },
  {
   "cell_type": "code",
   "execution_count": 195,
   "id": "cf821163",
   "metadata": {},
   "outputs": [
    {
     "data": {
      "text/plain": [
       "'HELLO WORLD'"
      ]
     },
     "execution_count": 195,
     "metadata": {},
     "output_type": "execute_result"
    }
   ],
   "source": [
    "str\n"
   ]
  },
  {
   "cell_type": "code",
   "execution_count": 196,
   "id": "520dd36a",
   "metadata": {},
   "outputs": [
    {
     "data": {
      "text/plain": [
       "['HELLO', 'WORLD']"
      ]
     },
     "execution_count": 196,
     "metadata": {},
     "output_type": "execute_result"
    }
   ],
   "source": [
    "str.split()\n"
   ]
  },
  {
   "cell_type": "code",
   "execution_count": 197,
   "id": "f8c49b94",
   "metadata": {},
   "outputs": [
    {
     "data": {
      "text/plain": [
       "'HELLO WORLD'"
      ]
     },
     "execution_count": 197,
     "metadata": {},
     "output_type": "execute_result"
    }
   ],
   "source": [
    "str.upper()"
   ]
  },
  {
   "cell_type": "code",
   "execution_count": 198,
   "id": "aece4b95",
   "metadata": {},
   "outputs": [
    {
     "data": {
      "text/plain": [
       "'hello world'"
      ]
     },
     "execution_count": 198,
     "metadata": {},
     "output_type": "execute_result"
    }
   ],
   "source": [
    "str.lower()"
   ]
  },
  {
   "cell_type": "code",
   "execution_count": 199,
   "id": "40177fb8",
   "metadata": {},
   "outputs": [
    {
     "data": {
      "text/plain": [
       "'DLROW OLLEH'"
      ]
     },
     "execution_count": 199,
     "metadata": {},
     "output_type": "execute_result"
    }
   ],
   "source": [
    "str[::-1]"
   ]
  },
  {
   "cell_type": "code",
   "execution_count": 200,
   "id": "96ae0f93",
   "metadata": {},
   "outputs": [
    {
     "data": {
      "text/plain": [
       "'HELLO WORL'"
      ]
     },
     "execution_count": 200,
     "metadata": {},
     "output_type": "execute_result"
    }
   ],
   "source": [
    "str[:-1]"
   ]
  },
  {
   "cell_type": "code",
   "execution_count": 207,
   "id": "12e49794",
   "metadata": {},
   "outputs": [],
   "source": [
    "tur = str[6::] + ' is Amazing'"
   ]
  },
  {
   "cell_type": "code",
   "execution_count": 209,
   "id": "21e2c9d8",
   "metadata": {},
   "outputs": [
    {
     "data": {
      "text/plain": [
       "'WORLD is Amazing'"
      ]
     },
     "execution_count": 209,
     "metadata": {},
     "output_type": "execute_result"
    }
   ],
   "source": [
    "tur"
   ]
  },
  {
   "cell_type": "code",
   "execution_count": 210,
   "id": "6cb00b0f",
   "metadata": {},
   "outputs": [
    {
     "data": {
      "text/plain": [
       "'HELLO WORLD'"
      ]
     },
     "execution_count": 210,
     "metadata": {},
     "output_type": "execute_result"
    }
   ],
   "source": [
    "str"
   ]
  },
  {
   "cell_type": "code",
   "execution_count": 211,
   "id": "faa888a0",
   "metadata": {},
   "outputs": [],
   "source": [
    "data_types = ('int', 'float', 'Strings', 'Lists', 'Dict', 'Tuples', 'Sets')"
   ]
  },
  {
   "cell_type": "code",
   "execution_count": 212,
   "id": "c3d92934",
   "metadata": {},
   "outputs": [
    {
     "data": {
      "text/plain": [
       "('int', 'float', 'Strings', 'Lists', 'Dict', 'Tuples', 'Sets')"
      ]
     },
     "execution_count": 212,
     "metadata": {},
     "output_type": "execute_result"
    }
   ],
   "source": [
    "data_types"
   ]
  },
  {
   "cell_type": "code",
   "execution_count": 216,
   "id": "b1da28f6",
   "metadata": {},
   "outputs": [],
   "source": [
    "tup1 = ('Boolean', 'Sets')\n",
    "data_types += data_types + tup1"
   ]
  },
  {
   "cell_type": "code",
   "execution_count": 217,
   "id": "fbcf0035",
   "metadata": {},
   "outputs": [
    {
     "data": {
      "text/plain": [
       "('int',\n",
       " 'float',\n",
       " 'Strings',\n",
       " 'Lists',\n",
       " 'Dict',\n",
       " 'Tuples',\n",
       " 'Sets',\n",
       " 'int',\n",
       " 'float',\n",
       " 'Strings',\n",
       " 'Lists',\n",
       " 'Dict',\n",
       " 'Tuples',\n",
       " 'Sets',\n",
       " 'Boolean',\n",
       " 'Sets')"
      ]
     },
     "execution_count": 217,
     "metadata": {},
     "output_type": "execute_result"
    }
   ],
   "source": [
    "data_types"
   ]
  },
  {
   "cell_type": "code",
   "execution_count": 218,
   "id": "a9755da2",
   "metadata": {},
   "outputs": [
    {
     "data": {
      "text/plain": [
       "3"
      ]
     },
     "execution_count": 218,
     "metadata": {},
     "output_type": "execute_result"
    }
   ],
   "source": [
    "data_types.count('Sets')"
   ]
  },
  {
   "cell_type": "code",
   "execution_count": 223,
   "id": "b2799996",
   "metadata": {},
   "outputs": [
    {
     "name": "stdout",
     "output_type": "stream",
     "text": [
      "5 is the index of Tuples.\n"
     ]
    }
   ],
   "source": [
    "print('{} is the index of {}.'.format(data_types.index('Tuples'),data_types[data_types.index('Tuples')]))"
   ]
  },
  {
   "cell_type": "code",
   "execution_count": 224,
   "id": "4db06852",
   "metadata": {},
   "outputs": [],
   "source": [
    "myset = set()"
   ]
  },
  {
   "cell_type": "code",
   "execution_count": 225,
   "id": "9c32dd9c",
   "metadata": {},
   "outputs": [
    {
     "data": {
      "text/plain": [
       "set()"
      ]
     },
     "execution_count": 225,
     "metadata": {},
     "output_type": "execute_result"
    }
   ],
   "source": [
    "myset"
   ]
  },
  {
   "cell_type": "code",
   "execution_count": 226,
   "id": "38c0f269",
   "metadata": {},
   "outputs": [],
   "source": [
    "myset.add(1)"
   ]
  },
  {
   "cell_type": "code",
   "execution_count": 227,
   "id": "4acbcded",
   "metadata": {},
   "outputs": [
    {
     "data": {
      "text/plain": [
       "{1}"
      ]
     },
     "execution_count": 227,
     "metadata": {},
     "output_type": "execute_result"
    }
   ],
   "source": [
    "myset"
   ]
  },
  {
   "cell_type": "code",
   "execution_count": 228,
   "id": "51b40324",
   "metadata": {},
   "outputs": [],
   "source": [
    "myset.add(100)"
   ]
  },
  {
   "cell_type": "code",
   "execution_count": 229,
   "id": "f4ccde19",
   "metadata": {},
   "outputs": [
    {
     "data": {
      "text/plain": [
       "{1, 100}"
      ]
     },
     "execution_count": 229,
     "metadata": {},
     "output_type": "execute_result"
    }
   ],
   "source": [
    "myset"
   ]
  },
  {
   "cell_type": "code",
   "execution_count": 230,
   "id": "0f8a5ac3",
   "metadata": {},
   "outputs": [],
   "source": [
    "myset.add(100)"
   ]
  },
  {
   "cell_type": "code",
   "execution_count": 231,
   "id": "562634f0",
   "metadata": {},
   "outputs": [
    {
     "data": {
      "text/plain": [
       "{1, 100}"
      ]
     },
     "execution_count": 231,
     "metadata": {},
     "output_type": "execute_result"
    }
   ],
   "source": [
    "myset"
   ]
  },
  {
   "cell_type": "code",
   "execution_count": 232,
   "id": "88577f83",
   "metadata": {},
   "outputs": [
    {
     "data": {
      "text/plain": [
       "['String', 100.5, 234, 'Anand', 'Mirafra']"
      ]
     },
     "execution_count": 232,
     "metadata": {},
     "output_type": "execute_result"
    }
   ],
   "source": [
    "my_list"
   ]
  },
  {
   "cell_type": "code",
   "execution_count": 236,
   "id": "389786a3",
   "metadata": {},
   "outputs": [
    {
     "data": {
      "text/plain": [
       "{'a', 'd', 'n'}"
      ]
     },
     "execution_count": 236,
     "metadata": {},
     "output_type": "execute_result"
    }
   ],
   "source": [
    "set('anand')"
   ]
  },
  {
   "cell_type": "code",
   "execution_count": 238,
   "id": "7c92809f",
   "metadata": {},
   "outputs": [
    {
     "name": "stdout",
     "output_type": "stream",
     "text": [
      "Writing Anand.txt\n"
     ]
    }
   ],
   "source": [
    "%%writefile Anand.txt\n",
    "Hello \n",
    "This is second line\n",
    "This is third line"
   ]
  },
  {
   "cell_type": "code",
   "execution_count": 239,
   "id": "85a709a5",
   "metadata": {},
   "outputs": [],
   "source": [
    "myfile = open('Anand.txt')"
   ]
  },
  {
   "cell_type": "code",
   "execution_count": 240,
   "id": "f5b96a6a",
   "metadata": {},
   "outputs": [
    {
     "data": {
      "text/plain": [
       "'C:\\\\Users\\\\hp\\\\My python stuff'"
      ]
     },
     "execution_count": 240,
     "metadata": {},
     "output_type": "execute_result"
    }
   ],
   "source": [
    "pwd"
   ]
  },
  {
   "cell_type": "code",
   "execution_count": 241,
   "id": "9695cfde",
   "metadata": {},
   "outputs": [],
   "source": [
    "myfile = open('Anand.txt')"
   ]
  },
  {
   "cell_type": "code",
   "execution_count": 242,
   "id": "30f9b372",
   "metadata": {},
   "outputs": [
    {
     "data": {
      "text/plain": [
       "'Hello \\nThis is second line\\nThis is third line\\n'"
      ]
     },
     "execution_count": 242,
     "metadata": {},
     "output_type": "execute_result"
    }
   ],
   "source": [
    "myfile.read()"
   ]
  },
  {
   "cell_type": "code",
   "execution_count": 243,
   "id": "86829065",
   "metadata": {},
   "outputs": [
    {
     "data": {
      "text/plain": [
       "0"
      ]
     },
     "execution_count": 243,
     "metadata": {},
     "output_type": "execute_result"
    }
   ],
   "source": [
    "myfile.seek(0)"
   ]
  },
  {
   "cell_type": "code",
   "execution_count": 244,
   "id": "c429e7c3",
   "metadata": {},
   "outputs": [
    {
     "data": {
      "text/plain": [
       "'Hello \\nThis is second line\\nThis is third line\\n'"
      ]
     },
     "execution_count": 244,
     "metadata": {},
     "output_type": "execute_result"
    }
   ],
   "source": [
    "myfile.read()"
   ]
  },
  {
   "cell_type": "code",
   "execution_count": 245,
   "id": "aea33420",
   "metadata": {},
   "outputs": [
    {
     "data": {
      "text/plain": [
       "''"
      ]
     },
     "execution_count": 245,
     "metadata": {},
     "output_type": "execute_result"
    }
   ],
   "source": [
    "myfile.read()"
   ]
  },
  {
   "cell_type": "code",
   "execution_count": 246,
   "id": "8cbf0812",
   "metadata": {},
   "outputs": [
    {
     "data": {
      "text/plain": [
       "0"
      ]
     },
     "execution_count": 246,
     "metadata": {},
     "output_type": "execute_result"
    }
   ],
   "source": [
    "myfile.seek(0)"
   ]
  },
  {
   "cell_type": "code",
   "execution_count": 247,
   "id": "a492ab9c",
   "metadata": {},
   "outputs": [
    {
     "data": {
      "text/plain": [
       "['Hello \\n', 'This is second line\\n', 'This is third line\\n']"
      ]
     },
     "execution_count": 247,
     "metadata": {},
     "output_type": "execute_result"
    }
   ],
   "source": [
    "myfile.readlines()"
   ]
  },
  {
   "cell_type": "code",
   "execution_count": 248,
   "id": "692434c0",
   "metadata": {},
   "outputs": [
    {
     "data": {
      "text/plain": [
       "'C:\\\\Users\\\\hp\\\\My python stuff'"
      ]
     },
     "execution_count": 248,
     "metadata": {},
     "output_type": "execute_result"
    }
   ],
   "source": [
    "pwd"
   ]
  },
  {
   "cell_type": "code",
   "execution_count": 249,
   "id": "301965ba",
   "metadata": {},
   "outputs": [],
   "source": [
    "myfile.close()"
   ]
  },
  {
   "cell_type": "code",
   "execution_count": 250,
   "id": "711d2866",
   "metadata": {},
   "outputs": [
    {
     "name": "stdout",
     "output_type": "stream",
     "text": [
      "Hello \n",
      "This is second line\n",
      "This is third line\n",
      "\n"
     ]
    }
   ],
   "source": [
    "with open('Anand.txt',mode='r') as f:\n",
    "    print(f.read())"
   ]
  },
  {
   "cell_type": "code",
   "execution_count": 257,
   "id": "821d0280",
   "metadata": {},
   "outputs": [
    {
     "name": "stdout",
     "output_type": "stream",
     "text": [
      "Overwriting first.txt\n"
     ]
    }
   ],
   "source": [
    "%%writefile first.txt\n",
    "Line1\n",
    "anand\n",
    "mirafra"
   ]
  },
  {
   "cell_type": "code",
   "execution_count": 258,
   "id": "7dcf2d06",
   "metadata": {},
   "outputs": [
    {
     "name": "stdout",
     "output_type": "stream",
     "text": [
      "Line1\n",
      "anand\n",
      "mirafra\n",
      "\n"
     ]
    }
   ],
   "source": [
    "with open('first.txt',mode='r') as fa:\n",
    "    print(fa.read())"
   ]
  },
  {
   "cell_type": "code",
   "execution_count": 259,
   "id": "0f7036a7",
   "metadata": {},
   "outputs": [],
   "source": [
    "with open('first.txt',mode='a') as f:\n",
    "    f.write('Arvind')"
   ]
  },
  {
   "cell_type": "code",
   "execution_count": 260,
   "id": "d88d1212",
   "metadata": {},
   "outputs": [
    {
     "name": "stdout",
     "output_type": "stream",
     "text": [
      "Line1\n",
      "anand\n",
      "mirafra\n",
      "Arvind\n"
     ]
    }
   ],
   "source": [
    "with open('first.txt',mode='r') as f:\n",
    "    print(f.read())"
   ]
  },
  {
   "cell_type": "code",
   "execution_count": 261,
   "id": "714d267c",
   "metadata": {},
   "outputs": [],
   "source": [
    "with open('first.txt',mode='w') as f:\n",
    "    f.write('Newly added line')"
   ]
  },
  {
   "cell_type": "code",
   "execution_count": 262,
   "id": "0510cac7",
   "metadata": {},
   "outputs": [
    {
     "name": "stdout",
     "output_type": "stream",
     "text": [
      "Newly added line\n"
     ]
    }
   ],
   "source": [
    "with open('first.txt',mode='r') as f:\n",
    "    print(f.read())"
   ]
  },
  {
   "cell_type": "code",
   "execution_count": 264,
   "id": "ff5c36b6",
   "metadata": {},
   "outputs": [],
   "source": [
    "myfile = open('first.txt')"
   ]
  },
  {
   "cell_type": "code",
   "execution_count": 265,
   "id": "54fcfaef",
   "metadata": {},
   "outputs": [
    {
     "data": {
      "text/plain": [
       "'Newly added line'"
      ]
     },
     "execution_count": 265,
     "metadata": {},
     "output_type": "execute_result"
    }
   ],
   "source": [
    "myfile.read()"
   ]
  },
  {
   "cell_type": "code",
   "execution_count": 270,
   "id": "cb684f8d",
   "metadata": {},
   "outputs": [],
   "source": [
    "with open('first.txt',mode='a') as f:\n",
    "    f.write('\\nSecond \\n third')"
   ]
  },
  {
   "cell_type": "code",
   "execution_count": 271,
   "id": "2dca5f97",
   "metadata": {},
   "outputs": [
    {
     "name": "stdout",
     "output_type": "stream",
     "text": [
      "Newly added lineSecond \n",
      " third\n",
      "Second \n",
      " third\n"
     ]
    }
   ],
   "source": [
    "with open('first.txt',mode='r') as f:\n",
    "    print(f.read())"
   ]
  },
  {
   "cell_type": "code",
   "execution_count": 272,
   "id": "a4d4552d",
   "metadata": {},
   "outputs": [
    {
     "name": "stdout",
     "output_type": "stream",
     "text": [
      "Writing 2file.txt\n"
     ]
    }
   ],
   "source": [
    "%%writefile 2file.txt\n",
    "Line1\n",
    "Line2\n",
    "Line3\n"
   ]
  },
  {
   "cell_type": "code",
   "execution_count": 273,
   "id": "3d426f22",
   "metadata": {},
   "outputs": [],
   "source": [
    "myfile = open('2file.txt')"
   ]
  },
  {
   "cell_type": "code",
   "execution_count": 274,
   "id": "6d3f4345",
   "metadata": {},
   "outputs": [
    {
     "data": {
      "text/plain": [
       "'Line1\\nLine2\\nLine3\\n'"
      ]
     },
     "execution_count": 274,
     "metadata": {},
     "output_type": "execute_result"
    }
   ],
   "source": [
    "myfile.read()"
   ]
  },
  {
   "cell_type": "code",
   "execution_count": 275,
   "id": "bdc507ed",
   "metadata": {},
   "outputs": [
    {
     "data": {
      "text/plain": [
       "''"
      ]
     },
     "execution_count": 275,
     "metadata": {},
     "output_type": "execute_result"
    }
   ],
   "source": [
    "myfile.read()"
   ]
  },
  {
   "cell_type": "code",
   "execution_count": 276,
   "id": "1aef5bb6",
   "metadata": {},
   "outputs": [
    {
     "data": {
      "text/plain": [
       "0"
      ]
     },
     "execution_count": 276,
     "metadata": {},
     "output_type": "execute_result"
    }
   ],
   "source": [
    "myfile.seek(0)"
   ]
  },
  {
   "cell_type": "code",
   "execution_count": 277,
   "id": "3923463b",
   "metadata": {},
   "outputs": [
    {
     "data": {
      "text/plain": [
       "'Line1\\nLine2\\nLine3\\n'"
      ]
     },
     "execution_count": 277,
     "metadata": {},
     "output_type": "execute_result"
    }
   ],
   "source": [
    "myfile.read()"
   ]
  },
  {
   "cell_type": "code",
   "execution_count": 279,
   "id": "68fe7bbb",
   "metadata": {},
   "outputs": [],
   "source": [
    "myfile.close()"
   ]
  },
  {
   "cell_type": "code",
   "execution_count": 280,
   "id": "d317da36",
   "metadata": {},
   "outputs": [
    {
     "ename": "ValueError",
     "evalue": "I/O operation on closed file.",
     "output_type": "error",
     "traceback": [
      "\u001b[1;31m---------------------------------------------------------------------------\u001b[0m",
      "\u001b[1;31mValueError\u001b[0m                                Traceback (most recent call last)",
      "\u001b[1;32m~\\AppData\\Local\\Temp/ipykernel_16236/3012269771.py\u001b[0m in \u001b[0;36m<module>\u001b[1;34m\u001b[0m\n\u001b[1;32m----> 1\u001b[1;33m \u001b[0mmyfile\u001b[0m\u001b[1;33m.\u001b[0m\u001b[0mseek\u001b[0m\u001b[1;33m(\u001b[0m\u001b[1;36m0\u001b[0m\u001b[1;33m)\u001b[0m\u001b[1;33m\u001b[0m\u001b[1;33m\u001b[0m\u001b[0m\n\u001b[0m",
      "\u001b[1;31mValueError\u001b[0m: I/O operation on closed file."
     ]
    }
   ],
   "source": [
    "myfile.seek(0)"
   ]
  },
  {
   "cell_type": "code",
   "execution_count": 281,
   "id": "a0bbfb9d",
   "metadata": {},
   "outputs": [
    {
     "name": "stdout",
     "output_type": "stream",
     "text": [
      "Line1\n",
      "Line2\n",
      "Line3\n",
      "\n"
     ]
    }
   ],
   "source": [
    "with open('2file.txt',mode='r') as f:\n",
    "    print(f.read())"
   ]
  },
  {
   "cell_type": "code",
   "execution_count": 282,
   "id": "ce8693d3",
   "metadata": {},
   "outputs": [],
   "source": [
    "with open('2file.txt',mode='a') as f:\n",
    "    f.write('\\nLine4')"
   ]
  },
  {
   "cell_type": "code",
   "execution_count": 283,
   "id": "ac6b041e",
   "metadata": {},
   "outputs": [],
   "source": [
    "myfile = open('2file.txt')"
   ]
  },
  {
   "cell_type": "code",
   "execution_count": 284,
   "id": "ff5b47e9",
   "metadata": {},
   "outputs": [
    {
     "data": {
      "text/plain": [
       "'Line1\\nLine2\\nLine3\\n\\nLine4'"
      ]
     },
     "execution_count": 284,
     "metadata": {},
     "output_type": "execute_result"
    }
   ],
   "source": [
    "myfile.read()"
   ]
  },
  {
   "cell_type": "code",
   "execution_count": 285,
   "id": "07913e49",
   "metadata": {},
   "outputs": [
    {
     "data": {
      "text/plain": [
       "0"
      ]
     },
     "execution_count": 285,
     "metadata": {},
     "output_type": "execute_result"
    }
   ],
   "source": [
    "myfile.seek(0)"
   ]
  },
  {
   "cell_type": "code",
   "execution_count": 286,
   "id": "ebe503c7",
   "metadata": {},
   "outputs": [
    {
     "ename": "UnsupportedOperation",
     "evalue": "not writable",
     "output_type": "error",
     "traceback": [
      "\u001b[1;31m---------------------------------------------------------------------------\u001b[0m",
      "\u001b[1;31mUnsupportedOperation\u001b[0m                      Traceback (most recent call last)",
      "\u001b[1;32m~\\AppData\\Local\\Temp/ipykernel_16236/553458747.py\u001b[0m in \u001b[0;36m<module>\u001b[1;34m\u001b[0m\n\u001b[1;32m----> 1\u001b[1;33m \u001b[0mmyfile\u001b[0m\u001b[1;33m.\u001b[0m\u001b[0mwrite\u001b[0m\u001b[1;33m(\u001b[0m\u001b[1;34m'Line5'\u001b[0m\u001b[1;33m)\u001b[0m\u001b[1;33m\u001b[0m\u001b[1;33m\u001b[0m\u001b[0m\n\u001b[0m",
      "\u001b[1;31mUnsupportedOperation\u001b[0m: not writable"
     ]
    }
   ],
   "source": [
    "myfile.write('Line5')"
   ]
  },
  {
   "cell_type": "code",
   "execution_count": 288,
   "id": "9e5692a7",
   "metadata": {},
   "outputs": [],
   "source": [
    "myfile.close()"
   ]
  },
  {
   "cell_type": "code",
   "execution_count": 289,
   "id": "6ffc2b7a",
   "metadata": {},
   "outputs": [
    {
     "name": "stdout",
     "output_type": "stream",
     "text": [
      "Line1\n",
      "Line2\n",
      "Line3\n",
      "\n",
      "Line4\n"
     ]
    }
   ],
   "source": [
    "with open('2file.txt',mode='r') as f:\n",
    "    print(f.read())"
   ]
  },
  {
   "cell_type": "code",
   "execution_count": 291,
   "id": "cac573b8",
   "metadata": {},
   "outputs": [],
   "source": [
    "with open('2file.txt',mode='a') as f:\n",
    "          f.write('\\nLine5')"
   ]
  },
  {
   "cell_type": "code",
   "execution_count": 293,
   "id": "1f4850ac",
   "metadata": {},
   "outputs": [
    {
     "name": "stdout",
     "output_type": "stream",
     "text": [
      "Line1\n",
      "Line2\n",
      "Line3\n",
      "\n",
      "Line4\n",
      "Line5\n"
     ]
    }
   ],
   "source": [
    "with open('2file.txt',mode='r') as f:\n",
    "    print(f.read())"
   ]
  },
  {
   "cell_type": "code",
   "execution_count": 294,
   "id": "82a58ffb",
   "metadata": {},
   "outputs": [],
   "source": [
    "myfile = open('3file.txt','w')"
   ]
  },
  {
   "cell_type": "code",
   "execution_count": 295,
   "id": "932d876b",
   "metadata": {},
   "outputs": [
    {
     "data": {
      "text/plain": [
       "31"
      ]
     },
     "execution_count": 295,
     "metadata": {},
     "output_type": "execute_result"
    }
   ],
   "source": [
    "myfile.write('New lines always keep on adding')"
   ]
  },
  {
   "cell_type": "code",
   "execution_count": 296,
   "id": "bc90c941",
   "metadata": {},
   "outputs": [],
   "source": [
    "myfile.close()"
   ]
  },
  {
   "cell_type": "code",
   "execution_count": 297,
   "id": "b6a8a3e2",
   "metadata": {},
   "outputs": [
    {
     "name": "stdout",
     "output_type": "stream",
     "text": [
      "New lines always keep on adding\n"
     ]
    }
   ],
   "source": [
    "with open('3file.txt','r') as f:\n",
    "    print(f.read())"
   ]
  },
  {
   "cell_type": "code",
   "execution_count": 298,
   "id": "70218377",
   "metadata": {},
   "outputs": [],
   "source": [
    "with open('3file.txt','a') as f:\n",
    "    f.write('second line appended')"
   ]
  },
  {
   "cell_type": "code",
   "execution_count": 299,
   "id": "9e36711b",
   "metadata": {},
   "outputs": [
    {
     "data": {
      "text/plain": [
       "'New lines always keep on addingsecond line appended'"
      ]
     },
     "execution_count": 299,
     "metadata": {},
     "output_type": "execute_result"
    }
   ],
   "source": [
    "myfile = open('3file.txt','r')\n",
    "myfile.read()"
   ]
  },
  {
   "cell_type": "code",
   "execution_count": 300,
   "id": "0221cf47",
   "metadata": {},
   "outputs": [
    {
     "data": {
      "text/plain": [
       "1"
      ]
     },
     "execution_count": 300,
     "metadata": {},
     "output_type": "execute_result"
    }
   ],
   "source": [
    "7//4"
   ]
  },
  {
   "cell_type": "code",
   "execution_count": 301,
   "id": "248e20c0",
   "metadata": {},
   "outputs": [
    {
     "data": {
      "text/plain": [
       "2"
      ]
     },
     "execution_count": 301,
     "metadata": {},
     "output_type": "execute_result"
    }
   ],
   "source": [
    "8//4"
   ]
  },
  {
   "cell_type": "code",
   "execution_count": 302,
   "id": "fcb5a0a1",
   "metadata": {},
   "outputs": [
    {
     "data": {
      "text/plain": [
       "1.75"
      ]
     },
     "execution_count": 302,
     "metadata": {},
     "output_type": "execute_result"
    }
   ],
   "source": [
    "7/4"
   ]
  },
  {
   "cell_type": "code",
   "execution_count": 307,
   "id": "65a9db74",
   "metadata": {},
   "outputs": [
    {
     "name": "stdout",
     "output_type": "stream",
     "text": [
      "This is a string Inserted\n"
     ]
    }
   ],
   "source": [
    "print(\"This is a string {}\".format('Inserted'))"
   ]
  },
  {
   "cell_type": "code",
   "execution_count": 308,
   "id": "d2649123",
   "metadata": {},
   "outputs": [
    {
     "name": "stdout",
     "output_type": "stream",
     "text": [
      "He said his name was Fred.\n"
     ]
    }
   ],
   "source": [
    "print('He said his name was %s.' %'Fred')"
   ]
  },
  {
   "cell_type": "code",
   "execution_count": 311,
   "id": "6cdb9874",
   "metadata": {},
   "outputs": [
    {
     "data": {
      "text/plain": [
       "builtin_function_or_method"
      ]
     },
     "execution_count": 311,
     "metadata": {},
     "output_type": "execute_result"
    }
   ],
   "source": [
    "type(repr)"
   ]
  },
  {
   "cell_type": "code",
   "execution_count": 313,
   "id": "41e2ee50",
   "metadata": {},
   "outputs": [
    {
     "data": {
      "text/plain": [
       "'I wrote 3 programs today.'"
      ]
     },
     "execution_count": 313,
     "metadata": {},
     "output_type": "execute_result"
    }
   ],
   "source": [
    "'I wrote %d programs today.'%3.75"
   ]
  },
  {
   "cell_type": "code",
   "execution_count": 319,
   "id": "509fd836",
   "metadata": {},
   "outputs": [
    {
     "name": "stdout",
     "output_type": "stream",
     "text": [
      "Floating point numbers: 13.14\n"
     ]
    }
   ],
   "source": [
    "print('Floating point numbers: %0.2f' %(13.144))"
   ]
  },
  {
   "cell_type": "code",
   "execution_count": 320,
   "id": "f6df84c6",
   "metadata": {},
   "outputs": [
    {
     "name": "stdout",
     "output_type": "stream",
     "text": [
      "Fruit    | Quantity \n",
      "Apples   |       3.0\n",
      "Oranges  |        10\n"
     ]
    }
   ],
   "source": [
    "print('{0:8} | {1:9}'.format('Fruit', 'Quantity'))\n",
    "print('{0:8} | {1:9}'.format('Apples', 3.))\n",
    "print('{0:8} | {1:9}'.format('Oranges', 10))"
   ]
  },
  {
   "cell_type": "code",
   "execution_count": 322,
   "id": "ffd7215f",
   "metadata": {},
   "outputs": [
    {
     "name": "stdout",
     "output_type": "stream",
     "text": [
      "Fruit     | Quantity\n",
      "Apples    |      3.0\n",
      "Oranges   |       10\n"
     ]
    }
   ],
   "source": [
    "print('{0:9} | {1:8}'.format('Fruit', 'Quantity'))\n",
    "print('{0:9} | {1:8}'.format('Apples', 3.))\n",
    "print('{0:9} | {1:8}'.format('Oranges', 10))\n"
   ]
  },
  {
   "cell_type": "code",
   "execution_count": 2,
   "id": "d22a3f4e",
   "metadata": {},
   "outputs": [],
   "source": [
    "message = 'Hello World'"
   ]
  },
  {
   "cell_type": "code",
   "execution_count": 3,
   "id": "11253a32",
   "metadata": {},
   "outputs": [
    {
     "name": "stdout",
     "output_type": "stream",
     "text": [
      "Hello World\n"
     ]
    }
   ],
   "source": [
    "print(message)"
   ]
  },
  {
   "cell_type": "code",
   "execution_count": 4,
   "id": "56854b40",
   "metadata": {},
   "outputs": [
    {
     "name": "stdout",
     "output_type": "stream",
     "text": [
      "Hello\n"
     ]
    }
   ],
   "source": [
    "print(message[0:5])"
   ]
  },
  {
   "cell_type": "code",
   "execution_count": 5,
   "id": "d455d7b2",
   "metadata": {},
   "outputs": [
    {
     "name": "stdout",
     "output_type": "stream",
     "text": [
      "World\n"
     ]
    }
   ],
   "source": [
    "print(message[6:])"
   ]
  },
  {
   "cell_type": "code",
   "execution_count": 6,
   "id": "11edf5bf",
   "metadata": {},
   "outputs": [
    {
     "data": {
      "text/plain": [
       "11"
      ]
     },
     "execution_count": 6,
     "metadata": {},
     "output_type": "execute_result"
    }
   ],
   "source": [
    "len(message)"
   ]
  },
  {
   "cell_type": "code",
   "execution_count": 7,
   "id": "c6cacbf8",
   "metadata": {},
   "outputs": [
    {
     "name": "stdout",
     "output_type": "stream",
     "text": [
      "11\n"
     ]
    }
   ],
   "source": [
    "print(len(message))"
   ]
  },
  {
   "cell_type": "code",
   "execution_count": 8,
   "id": "7adb547a",
   "metadata": {},
   "outputs": [
    {
     "name": "stdout",
     "output_type": "stream",
     "text": [
      "hello world\n"
     ]
    }
   ],
   "source": [
    "print(message.lower())"
   ]
  },
  {
   "cell_type": "code",
   "execution_count": 9,
   "id": "e7b89e55",
   "metadata": {},
   "outputs": [
    {
     "name": "stdout",
     "output_type": "stream",
     "text": [
      "HELLO WORLD\n"
     ]
    }
   ],
   "source": [
    "print(message.upper())"
   ]
  },
  {
   "cell_type": "code",
   "execution_count": 12,
   "id": "585ac780",
   "metadata": {},
   "outputs": [],
   "source": [
    "name = 'Anand'"
   ]
  },
  {
   "cell_type": "code",
   "execution_count": 13,
   "id": "c85d139a",
   "metadata": {},
   "outputs": [],
   "source": [
    "greetings = message + name"
   ]
  },
  {
   "cell_type": "code",
   "execution_count": 14,
   "id": "e7d8afd7",
   "metadata": {},
   "outputs": [
    {
     "name": "stdout",
     "output_type": "stream",
     "text": [
      "Hello WorldAnand\n"
     ]
    }
   ],
   "source": [
    "print(greetings)"
   ]
  },
  {
   "cell_type": "code",
   "execution_count": 15,
   "id": "8add21d3",
   "metadata": {},
   "outputs": [],
   "source": [
    "message = message.replace('World','Universe')"
   ]
  },
  {
   "cell_type": "code",
   "execution_count": 16,
   "id": "710eb79c",
   "metadata": {},
   "outputs": [
    {
     "name": "stdout",
     "output_type": "stream",
     "text": [
      "Hello WorldAnandHello Universe\n"
     ]
    }
   ],
   "source": [
    "print(greetings+message)"
   ]
  },
  {
   "cell_type": "code",
   "execution_count": 17,
   "id": "a9dc9aaf",
   "metadata": {},
   "outputs": [
    {
     "name": "stdout",
     "output_type": "stream",
     "text": [
      "This is Python.Hello Universe,Hello WorldAnand\n"
     ]
    }
   ],
   "source": [
    "print('This is Python.{},{}'.format(message,greetings))"
   ]
  },
  {
   "cell_type": "code",
   "execution_count": 18,
   "id": "8d5f7137",
   "metadata": {},
   "outputs": [
    {
     "name": "stdout",
     "output_type": "stream",
     "text": [
      "Hello UniverseHello WorldAnand\n"
     ]
    }
   ],
   "source": [
    "print(f'{message}{greetings}')"
   ]
  },
  {
   "cell_type": "code",
   "execution_count": 19,
   "id": "2f25a3ef",
   "metadata": {},
   "outputs": [
    {
     "data": {
      "text/plain": [
       "['__add__',\n",
       " '__class__',\n",
       " '__contains__',\n",
       " '__delattr__',\n",
       " '__dir__',\n",
       " '__doc__',\n",
       " '__eq__',\n",
       " '__format__',\n",
       " '__ge__',\n",
       " '__getattribute__',\n",
       " '__getitem__',\n",
       " '__getnewargs__',\n",
       " '__gt__',\n",
       " '__hash__',\n",
       " '__init__',\n",
       " '__init_subclass__',\n",
       " '__iter__',\n",
       " '__le__',\n",
       " '__len__',\n",
       " '__lt__',\n",
       " '__mod__',\n",
       " '__mul__',\n",
       " '__ne__',\n",
       " '__new__',\n",
       " '__reduce__',\n",
       " '__reduce_ex__',\n",
       " '__repr__',\n",
       " '__rmod__',\n",
       " '__rmul__',\n",
       " '__setattr__',\n",
       " '__sizeof__',\n",
       " '__str__',\n",
       " '__subclasshook__',\n",
       " 'capitalize',\n",
       " 'casefold',\n",
       " 'center',\n",
       " 'count',\n",
       " 'encode',\n",
       " 'endswith',\n",
       " 'expandtabs',\n",
       " 'find',\n",
       " 'format',\n",
       " 'format_map',\n",
       " 'index',\n",
       " 'isalnum',\n",
       " 'isalpha',\n",
       " 'isascii',\n",
       " 'isdecimal',\n",
       " 'isdigit',\n",
       " 'isidentifier',\n",
       " 'islower',\n",
       " 'isnumeric',\n",
       " 'isprintable',\n",
       " 'isspace',\n",
       " 'istitle',\n",
       " 'isupper',\n",
       " 'join',\n",
       " 'ljust',\n",
       " 'lower',\n",
       " 'lstrip',\n",
       " 'maketrans',\n",
       " 'partition',\n",
       " 'removeprefix',\n",
       " 'removesuffix',\n",
       " 'replace',\n",
       " 'rfind',\n",
       " 'rindex',\n",
       " 'rjust',\n",
       " 'rpartition',\n",
       " 'rsplit',\n",
       " 'rstrip',\n",
       " 'split',\n",
       " 'splitlines',\n",
       " 'startswith',\n",
       " 'strip',\n",
       " 'swapcase',\n",
       " 'title',\n",
       " 'translate',\n",
       " 'upper',\n",
       " 'zfill']"
      ]
     },
     "execution_count": 19,
     "metadata": {},
     "output_type": "execute_result"
    }
   ],
   "source": [
    "dir(message)"
   ]
  },
  {
   "cell_type": "code",
   "execution_count": 20,
   "id": "f70b0557",
   "metadata": {},
   "outputs": [
    {
     "data": {
      "text/plain": [
       "5"
      ]
     },
     "execution_count": 20,
     "metadata": {},
     "output_type": "execute_result"
    }
   ],
   "source": [
    "len(\"Anand\")"
   ]
  },
  {
   "cell_type": "code",
   "execution_count": 21,
   "id": "14f4e9e4",
   "metadata": {},
   "outputs": [
    {
     "name": "stdout",
     "output_type": "stream",
     "text": [
      "100200\n"
     ]
    }
   ],
   "source": [
    "num_1 ='100'\n",
    "num_2 = '200'\n",
    "print(num_1+num_2)"
   ]
  },
  {
   "cell_type": "code",
   "execution_count": 22,
   "id": "0685b84b",
   "metadata": {},
   "outputs": [
    {
     "name": "stdout",
     "output_type": "stream",
     "text": [
      "300\n"
     ]
    }
   ],
   "source": [
    "num_1 = int(num_1)\n",
    "num_2 = int(num_2)\n",
    "print(num_1+num_2)"
   ]
  },
  {
   "cell_type": "code",
   "execution_count": 24,
   "id": "4114a994",
   "metadata": {},
   "outputs": [
    {
     "name": "stdout",
     "output_type": "stream",
     "text": [
      "AnandKulkarni\n"
     ]
    }
   ],
   "source": [
    "str_1 = 'Anand'\n",
    "str_2 = 'Kulkarni'\n",
    "print(str_1+str_2)"
   ]
  },
  {
   "cell_type": "code",
   "execution_count": 70,
   "id": "4272b8da",
   "metadata": {},
   "outputs": [
    {
     "name": "stdout",
     "output_type": "stream",
     "text": [
      "['Maths', 'English', 'Science']\n"
     ]
    }
   ],
   "source": [
    "course = ['Maths','English','Science']\n",
    "course2 = ['PT','Environmental Education']\n",
    "print(course)"
   ]
  },
  {
   "cell_type": "code",
   "execution_count": 71,
   "id": "ca0de7c1",
   "metadata": {},
   "outputs": [
    {
     "name": "stdout",
     "output_type": "stream",
     "text": [
      "['PT', 'Environmental Education']\n"
     ]
    }
   ],
   "source": [
    "print(course2)"
   ]
  },
  {
   "cell_type": "code",
   "execution_count": 72,
   "id": "3ba6fdd5",
   "metadata": {},
   "outputs": [],
   "source": [
    "course.append('History')"
   ]
  },
  {
   "cell_type": "code",
   "execution_count": 73,
   "id": "e4587bda",
   "metadata": {},
   "outputs": [
    {
     "name": "stdout",
     "output_type": "stream",
     "text": [
      "['Maths', 'English', 'Science', 'History']\n"
     ]
    }
   ],
   "source": [
    "print(course)"
   ]
  },
  {
   "cell_type": "code",
   "execution_count": 47,
   "id": "d466f848",
   "metadata": {},
   "outputs": [],
   "source": [
    "course.extend(course2)"
   ]
  },
  {
   "cell_type": "code",
   "execution_count": 74,
   "id": "8ae00098",
   "metadata": {},
   "outputs": [
    {
     "name": "stdout",
     "output_type": "stream",
     "text": [
      "['Maths', 'English', 'Science', 'History']\n"
     ]
    }
   ],
   "source": [
    "print(course)"
   ]
  },
  {
   "cell_type": "code",
   "execution_count": 1,
   "id": "b97c447d",
   "metadata": {},
   "outputs": [],
   "source": [
    "my_list = ['one','two','three',4,5]"
   ]
  },
  {
   "cell_type": "code",
   "execution_count": 6,
   "id": "152fd188",
   "metadata": {},
   "outputs": [
    {
     "data": {
      "text/plain": [
       "4"
      ]
     },
     "execution_count": 6,
     "metadata": {},
     "output_type": "execute_result"
    }
   ],
   "source": [
    "my_list[3]"
   ]
  },
  {
   "cell_type": "code",
   "execution_count": 12,
   "id": "8de7b59d",
   "metadata": {},
   "outputs": [
    {
     "name": "stdout",
     "output_type": "stream",
     "text": [
      "Overwriting test.txt\n"
     ]
    }
   ],
   "source": [
    "%%writefile test.txt\n",
    "This is a quick test file"
   ]
  },
  {
   "cell_type": "code",
   "execution_count": 16,
   "id": "672d67e3",
   "metadata": {},
   "outputs": [],
   "source": [
    "my_file = open('test.txt')"
   ]
  },
  {
   "cell_type": "code",
   "execution_count": 18,
   "id": "179336ef",
   "metadata": {},
   "outputs": [
    {
     "data": {
      "text/plain": [
       "''"
      ]
     },
     "execution_count": 18,
     "metadata": {},
     "output_type": "execute_result"
    }
   ],
   "source": [
    "my_file.read()"
   ]
  },
  {
   "cell_type": "code",
   "execution_count": 19,
   "id": "bc03ed19",
   "metadata": {},
   "outputs": [
    {
     "data": {
      "text/plain": [
       "0"
      ]
     },
     "execution_count": 19,
     "metadata": {},
     "output_type": "execute_result"
    }
   ],
   "source": [
    "my_file.seek(0)"
   ]
  },
  {
   "cell_type": "code",
   "execution_count": 20,
   "id": "5bf55797",
   "metadata": {},
   "outputs": [
    {
     "data": {
      "text/plain": [
       "'This is a quick test file\\n'"
      ]
     },
     "execution_count": 20,
     "metadata": {},
     "output_type": "execute_result"
    }
   ],
   "source": [
    "my_file.read()"
   ]
  },
  {
   "cell_type": "code",
   "execution_count": 21,
   "id": "dc759dea",
   "metadata": {},
   "outputs": [
    {
     "data": {
      "text/plain": [
       "''"
      ]
     },
     "execution_count": 21,
     "metadata": {},
     "output_type": "execute_result"
    }
   ],
   "source": [
    "my_file.read()"
   ]
  },
  {
   "cell_type": "code",
   "execution_count": 22,
   "id": "c9c44c55",
   "metadata": {},
   "outputs": [
    {
     "data": {
      "text/plain": [
       "10"
      ]
     },
     "execution_count": 22,
     "metadata": {},
     "output_type": "execute_result"
    }
   ],
   "source": [
    "my_file.seek(10)"
   ]
  },
  {
   "cell_type": "code",
   "execution_count": 23,
   "id": "28fdf2e9",
   "metadata": {},
   "outputs": [
    {
     "data": {
      "text/plain": [
       "'quick test file\\n'"
      ]
     },
     "execution_count": 23,
     "metadata": {},
     "output_type": "execute_result"
    }
   ],
   "source": [
    "my_file.read()"
   ]
  },
  {
   "cell_type": "code",
   "execution_count": 24,
   "id": "3c385e74",
   "metadata": {},
   "outputs": [],
   "source": [
    "my_file.close()"
   ]
  },
  {
   "cell_type": "code",
   "execution_count": 28,
   "id": "32ba2bd9",
   "metadata": {},
   "outputs": [],
   "source": [
    "del my_file"
   ]
  },
  {
   "cell_type": "code",
   "execution_count": 31,
   "id": "ceb3b794",
   "metadata": {},
   "outputs": [],
   "source": [
    "my_file = open('test.txt')"
   ]
  },
  {
   "cell_type": "code",
   "execution_count": 33,
   "id": "dda21108",
   "metadata": {},
   "outputs": [
    {
     "data": {
      "text/plain": [
       "'This is a quick test file\\n'"
      ]
     },
     "execution_count": 33,
     "metadata": {},
     "output_type": "execute_result"
    }
   ],
   "source": [
    "my_file.read()"
   ]
  },
  {
   "cell_type": "code",
   "execution_count": 34,
   "id": "c3178db7",
   "metadata": {},
   "outputs": [
    {
     "data": {
      "text/plain": [
       "0"
      ]
     },
     "execution_count": 34,
     "metadata": {},
     "output_type": "execute_result"
    }
   ],
   "source": [
    "my_file.seek(0)"
   ]
  },
  {
   "cell_type": "code",
   "execution_count": 39,
   "id": "d1c375ea",
   "metadata": {},
   "outputs": [],
   "source": [
    "my_file = open('test.txt','w+')"
   ]
  },
  {
   "cell_type": "code",
   "execution_count": 41,
   "id": "5e38b83d",
   "metadata": {},
   "outputs": [
    {
     "data": {
      "text/plain": [
       "0"
      ]
     },
     "execution_count": 41,
     "metadata": {},
     "output_type": "execute_result"
    }
   ],
   "source": [
    "my_file.seek(0)"
   ]
  },
  {
   "cell_type": "code",
   "execution_count": 43,
   "id": "e43e47a2",
   "metadata": {},
   "outputs": [
    {
     "data": {
      "text/plain": [
       "''"
      ]
     },
     "execution_count": 43,
     "metadata": {},
     "output_type": "execute_result"
    }
   ],
   "source": [
    "my_file.read()"
   ]
  },
  {
   "cell_type": "code",
   "execution_count": 44,
   "id": "952440a8",
   "metadata": {},
   "outputs": [
    {
     "data": {
      "text/plain": [
       "26"
      ]
     },
     "execution_count": 44,
     "metadata": {},
     "output_type": "execute_result"
    }
   ],
   "source": [
    "my_file.write('This is a newly added line')"
   ]
  },
  {
   "cell_type": "code",
   "execution_count": 45,
   "id": "ffbbd123",
   "metadata": {},
   "outputs": [
    {
     "data": {
      "text/plain": [
       "0"
      ]
     },
     "execution_count": 45,
     "metadata": {},
     "output_type": "execute_result"
    }
   ],
   "source": [
    "my_file.seek(0)"
   ]
  },
  {
   "cell_type": "code",
   "execution_count": 46,
   "id": "26d19b8d",
   "metadata": {},
   "outputs": [
    {
     "data": {
      "text/plain": [
       "'This is a newly added line'"
      ]
     },
     "execution_count": 46,
     "metadata": {},
     "output_type": "execute_result"
    }
   ],
   "source": [
    "my_file.read()"
   ]
  },
  {
   "cell_type": "code",
   "execution_count": 47,
   "id": "c276d50a",
   "metadata": {},
   "outputs": [
    {
     "data": {
      "text/plain": [
       "0"
      ]
     },
     "execution_count": 47,
     "metadata": {},
     "output_type": "execute_result"
    }
   ],
   "source": [
    "my_file.seek(0)"
   ]
  },
  {
   "cell_type": "code",
   "execution_count": 48,
   "id": "0859eef7",
   "metadata": {},
   "outputs": [],
   "source": [
    "my_file.close()"
   ]
  },
  {
   "cell_type": "code",
   "execution_count": 50,
   "id": "e535e1a5",
   "metadata": {},
   "outputs": [],
   "source": [
    "my_file = open('test.txt','w+')"
   ]
  },
  {
   "cell_type": "code",
   "execution_count": 51,
   "id": "84567210",
   "metadata": {},
   "outputs": [
    {
     "data": {
      "text/plain": [
       "''"
      ]
     },
     "execution_count": 51,
     "metadata": {},
     "output_type": "execute_result"
    }
   ],
   "source": [
    "my_file.read()"
   ]
  },
  {
   "cell_type": "code",
   "execution_count": 52,
   "id": "35633d96",
   "metadata": {},
   "outputs": [],
   "source": [
    "my_file.close()"
   ]
  },
  {
   "cell_type": "code",
   "execution_count": 53,
   "id": "c7f98879",
   "metadata": {},
   "outputs": [],
   "source": [
    "my_file = open('test.txt','a+')"
   ]
  },
  {
   "cell_type": "code",
   "execution_count": 54,
   "id": "07d020df",
   "metadata": {},
   "outputs": [
    {
     "data": {
      "text/plain": [
       "29"
      ]
     },
     "execution_count": 54,
     "metadata": {},
     "output_type": "execute_result"
    }
   ],
   "source": [
    "my_file.write('This sould be the second line')"
   ]
  },
  {
   "cell_type": "code",
   "execution_count": 56,
   "id": "10738509",
   "metadata": {},
   "outputs": [
    {
     "data": {
      "text/plain": [
       "0"
      ]
     },
     "execution_count": 56,
     "metadata": {},
     "output_type": "execute_result"
    }
   ],
   "source": [
    "my_file.seek(0)"
   ]
  },
  {
   "cell_type": "code",
   "execution_count": 57,
   "id": "1a8fe912",
   "metadata": {},
   "outputs": [
    {
     "data": {
      "text/plain": [
       "'This sould be the second line'"
      ]
     },
     "execution_count": 57,
     "metadata": {},
     "output_type": "execute_result"
    }
   ],
   "source": [
    "my_file.read()"
   ]
  },
  {
   "cell_type": "code",
   "execution_count": 58,
   "id": "c957780b",
   "metadata": {},
   "outputs": [],
   "source": [
    "my_file.close()"
   ]
  },
  {
   "cell_type": "code",
   "execution_count": 59,
   "id": "b7161448",
   "metadata": {},
   "outputs": [],
   "source": [
    "my_file = open('test.txt','a+')"
   ]
  },
  {
   "cell_type": "code",
   "execution_count": 69,
   "id": "ec9968e0",
   "metadata": {},
   "outputs": [
    {
     "data": {
      "text/plain": [
       "36"
      ]
     },
     "execution_count": 69,
     "metadata": {},
     "output_type": "execute_result"
    }
   ],
   "source": [
    "my_file.write('But actually this is the second line')"
   ]
  },
  {
   "cell_type": "code",
   "execution_count": 70,
   "id": "96b677d5",
   "metadata": {},
   "outputs": [
    {
     "data": {
      "text/plain": [
       "0"
      ]
     },
     "execution_count": 70,
     "metadata": {},
     "output_type": "execute_result"
    }
   ],
   "source": [
    "my_file.seek(0)"
   ]
  },
  {
   "cell_type": "code",
   "execution_count": 71,
   "id": "d9d354ce",
   "metadata": {},
   "outputs": [
    {
     "data": {
      "text/plain": [
       "'This sould be the second lineBut actually this is the second line\\nBut actually this is the second lineBut actually this is the second line'"
      ]
     },
     "execution_count": 71,
     "metadata": {},
     "output_type": "execute_result"
    }
   ],
   "source": [
    "my_file.read()"
   ]
  },
  {
   "cell_type": "code",
   "execution_count": 72,
   "id": "68b29fd0",
   "metadata": {},
   "outputs": [],
   "source": [
    "my_file.close()"
   ]
  },
  {
   "cell_type": "code",
   "execution_count": 73,
   "id": "8c5563b2",
   "metadata": {},
   "outputs": [],
   "source": [
    "del my_file\n"
   ]
  },
  {
   "cell_type": "code",
   "execution_count": 75,
   "id": "b573e1a2",
   "metadata": {},
   "outputs": [
    {
     "name": "stdout",
     "output_type": "stream",
     "text": [
      "Appending to test.txt\n"
     ]
    }
   ],
   "source": [
    "%%writefile -a test.txt\n",
    "This is magic appending\n",
    "It allows us to append the new data after the original data. "
   ]
  },
  {
   "cell_type": "code",
   "execution_count": 76,
   "id": "b375bdb6",
   "metadata": {},
   "outputs": [],
   "source": [
    "my_file = open('test.txt')"
   ]
  },
  {
   "cell_type": "code",
   "execution_count": 77,
   "id": "06abb4cd",
   "metadata": {},
   "outputs": [
    {
     "data": {
      "text/plain": [
       "'This sould be the second lineBut actually this is the second line\\nBut actually this is the second lineBut actually this is the second lineThis is magic appending\\nIt allows us to append the new data after the original data. \\n'"
      ]
     },
     "execution_count": 77,
     "metadata": {},
     "output_type": "execute_result"
    }
   ],
   "source": [
    "my_file.read()"
   ]
  },
  {
   "cell_type": "code",
   "execution_count": 78,
   "id": "c7eabcde",
   "metadata": {},
   "outputs": [],
   "source": [
    "my_file.close()"
   ]
  },
  {
   "cell_type": "code",
   "execution_count": 79,
   "id": "5f341260",
   "metadata": {},
   "outputs": [
    {
     "name": "stdout",
     "output_type": "stream",
     "text": [
      "Appending to test.txt\n"
     ]
    }
   ],
   "source": [
    "%%writefile -a test.txt\n",
    "Again few new lines\n",
    "And many more\n"
   ]
  },
  {
   "cell_type": "code",
   "execution_count": 80,
   "id": "6a48a747",
   "metadata": {},
   "outputs": [],
   "source": [
    "my_file = open('test.txt')"
   ]
  },
  {
   "cell_type": "code",
   "execution_count": 86,
   "id": "51d9dd83",
   "metadata": {},
   "outputs": [],
   "source": [
    "for line in my_file:\n",
    "    print(line)"
   ]
  },
  {
   "cell_type": "code",
   "execution_count": 95,
   "id": "69f8aa55",
   "metadata": {},
   "outputs": [
    {
     "data": {
      "text/plain": [
       "0"
      ]
     },
     "execution_count": 95,
     "metadata": {},
     "output_type": "execute_result"
    }
   ],
   "source": [
    "my_file.seek(0)"
   ]
  },
  {
   "cell_type": "code",
   "execution_count": 96,
   "id": "cad1408f",
   "metadata": {},
   "outputs": [
    {
     "ename": "TypeError",
     "evalue": "'>' not supported between instances of 'range' and 'int'",
     "output_type": "error",
     "traceback": [
      "\u001b[1;31m---------------------------------------------------------------------------\u001b[0m",
      "\u001b[1;31mTypeError\u001b[0m                                 Traceback (most recent call last)",
      "\u001b[1;32m~\\AppData\\Local\\Temp/ipykernel_33884/1786454054.py\u001b[0m in \u001b[0;36m<module>\u001b[1;34m\u001b[0m\n\u001b[0;32m      1\u001b[0m \u001b[0mlongest\u001b[0m \u001b[1;33m=\u001b[0m \u001b[1;36m0\u001b[0m\u001b[1;33m\u001b[0m\u001b[1;33m\u001b[0m\u001b[0m\n\u001b[0;32m      2\u001b[0m \u001b[1;32mfor\u001b[0m \u001b[0mline\u001b[0m \u001b[1;32min\u001b[0m \u001b[0mmy_file\u001b[0m\u001b[1;33m:\u001b[0m\u001b[1;33m\u001b[0m\u001b[1;33m\u001b[0m\u001b[0m\n\u001b[1;32m----> 3\u001b[1;33m     \u001b[1;32mif\u001b[0m \u001b[0mrange\u001b[0m\u001b[1;33m(\u001b[0m\u001b[0mlen\u001b[0m\u001b[1;33m(\u001b[0m\u001b[0mline\u001b[0m\u001b[1;33m)\u001b[0m\u001b[1;33m)\u001b[0m \u001b[1;33m>\u001b[0m \u001b[0mlongest\u001b[0m\u001b[1;33m:\u001b[0m\u001b[1;33m\u001b[0m\u001b[1;33m\u001b[0m\u001b[0m\n\u001b[0m\u001b[0;32m      4\u001b[0m         \u001b[0mlongest\u001b[0m \u001b[1;33m=\u001b[0m \u001b[0mrange\u001b[0m\u001b[1;33m(\u001b[0m\u001b[0mlen\u001b[0m\u001b[1;33m(\u001b[0m\u001b[0mline\u001b[0m\u001b[1;33m)\u001b[0m\u001b[1;33m)\u001b[0m\u001b[1;33m\u001b[0m\u001b[1;33m\u001b[0m\u001b[0m\n",
      "\u001b[1;31mTypeError\u001b[0m: '>' not supported between instances of 'range' and 'int'"
     ]
    }
   ],
   "source": [
    "longest = 0\n",
    "for line in my_file:\n",
    "    if range(len(line)) > longest:\n",
    "        longest = range(len(line))"
   ]
  },
  {
   "cell_type": "code",
   "execution_count": 6,
   "id": "1c7ebfe4",
   "metadata": {},
   "outputs": [
    {
     "name": "stdout",
     "output_type": "stream",
     "text": [
      "enter number:t4\n",
      "Woops not a valid input\n",
      "This will execute always\n",
      "\n",
      "\n",
      "enter number:t4\n",
      "Woops not a valid input\n",
      "This will execute always\n",
      "\n",
      "\n",
      "enter number:4\n",
      "Yes.Thank you!!\n",
      "This will execute always\n",
      "\n",
      "\n"
     ]
    }
   ],
   "source": [
    "#continue option till we get a correct input.\n",
    "while True:\n",
    "    try:\n",
    "        res = int(input(\"enter number:\"))\n",
    "    except:\n",
    "        print('Woops not a valid input')\n",
    "        continue\n",
    "    else:\n",
    "        print('Yes.Thank you!!')\n",
    "        break\n",
    "    finally:\n",
    "        print('This will execute always')\n",
    "        print('\\n')"
   ]
  },
  {
   "cell_type": "code",
   "execution_count": 2,
   "id": "291d0076",
   "metadata": {},
   "outputs": [
    {
     "data": {
      "text/plain": [
       "34"
      ]
     },
     "execution_count": 2,
     "metadata": {},
     "output_type": "execute_result"
    }
   ],
   "source": [
    "res"
   ]
  },
  {
   "cell_type": "code",
   "execution_count": 20,
   "id": "83c070e8",
   "metadata": {},
   "outputs": [],
   "source": [
    "my_list = [15,0,1,8,10]"
   ]
  },
  {
   "cell_type": "code",
   "execution_count": 21,
   "id": "8b08e265",
   "metadata": {},
   "outputs": [],
   "source": [
    "my_list.sort()"
   ]
  },
  {
   "cell_type": "code",
   "execution_count": 22,
   "id": "e58dfd9c",
   "metadata": {},
   "outputs": [
    {
     "data": {
      "text/plain": [
       "[0, 1, 8, 10, 15]"
      ]
     },
     "execution_count": 22,
     "metadata": {},
     "output_type": "execute_result"
    }
   ],
   "source": [
    "my_list"
   ]
  },
  {
   "cell_type": "code",
   "execution_count": 31,
   "id": "9b656f64",
   "metadata": {},
   "outputs": [
    {
     "name": "stdout",
     "output_type": "stream",
     "text": [
      "Overwriting Today.txt\n"
     ]
    }
   ],
   "source": [
    "%%writefile Today.txt\n",
    "Line1\n",
    "Line2\n",
    "Line3"
   ]
  },
  {
   "cell_type": "code",
   "execution_count": 36,
   "id": "c407dda7",
   "metadata": {},
   "outputs": [],
   "source": [
    "with open('Today.txt','a') as f:\n",
    "    f.write('new line added.\\nAgain added')"
   ]
  },
  {
   "cell_type": "code",
   "execution_count": 37,
   "id": "dbc57d9e",
   "metadata": {},
   "outputs": [
    {
     "name": "stdout",
     "output_type": "stream",
     "text": [
      "Line1\n",
      "Line2\n",
      "Line3\n",
      "new line added.new line added.\n",
      "Again added\n"
     ]
    }
   ],
   "source": [
    "with open('Today.txt','r') as f:\n",
    "    print(f.read())"
   ]
  },
  {
   "cell_type": "code",
   "execution_count": 38,
   "id": "258f598c",
   "metadata": {},
   "outputs": [
    {
     "data": {
      "text/plain": [
       "['__add__',\n",
       " '__class__',\n",
       " '__contains__',\n",
       " '__delattr__',\n",
       " '__dir__',\n",
       " '__doc__',\n",
       " '__eq__',\n",
       " '__format__',\n",
       " '__ge__',\n",
       " '__getattribute__',\n",
       " '__getitem__',\n",
       " '__getnewargs__',\n",
       " '__gt__',\n",
       " '__hash__',\n",
       " '__init__',\n",
       " '__init_subclass__',\n",
       " '__iter__',\n",
       " '__le__',\n",
       " '__len__',\n",
       " '__lt__',\n",
       " '__mod__',\n",
       " '__mul__',\n",
       " '__ne__',\n",
       " '__new__',\n",
       " '__reduce__',\n",
       " '__reduce_ex__',\n",
       " '__repr__',\n",
       " '__rmod__',\n",
       " '__rmul__',\n",
       " '__setattr__',\n",
       " '__sizeof__',\n",
       " '__str__',\n",
       " '__subclasshook__',\n",
       " 'capitalize',\n",
       " 'casefold',\n",
       " 'center',\n",
       " 'count',\n",
       " 'encode',\n",
       " 'endswith',\n",
       " 'expandtabs',\n",
       " 'find',\n",
       " 'format',\n",
       " 'format_map',\n",
       " 'index',\n",
       " 'isalnum',\n",
       " 'isalpha',\n",
       " 'isascii',\n",
       " 'isdecimal',\n",
       " 'isdigit',\n",
       " 'isidentifier',\n",
       " 'islower',\n",
       " 'isnumeric',\n",
       " 'isprintable',\n",
       " 'isspace',\n",
       " 'istitle',\n",
       " 'isupper',\n",
       " 'join',\n",
       " 'ljust',\n",
       " 'lower',\n",
       " 'lstrip',\n",
       " 'maketrans',\n",
       " 'partition',\n",
       " 'removeprefix',\n",
       " 'removesuffix',\n",
       " 'replace',\n",
       " 'rfind',\n",
       " 'rindex',\n",
       " 'rjust',\n",
       " 'rpartition',\n",
       " 'rsplit',\n",
       " 'rstrip',\n",
       " 'split',\n",
       " 'splitlines',\n",
       " 'startswith',\n",
       " 'strip',\n",
       " 'swapcase',\n",
       " 'title',\n",
       " 'translate',\n",
       " 'upper',\n",
       " 'zfill']"
      ]
     },
     "execution_count": 38,
     "metadata": {},
     "output_type": "execute_result"
    }
   ],
   "source": [
    "dir(my_dogs)"
   ]
  },
  {
   "cell_type": "code",
   "execution_count": 39,
   "id": "75b07832",
   "metadata": {},
   "outputs": [],
   "source": [
    "str1 = 'Anand'"
   ]
  },
  {
   "cell_type": "code",
   "execution_count": 41,
   "id": "7296ba36",
   "metadata": {},
   "outputs": [
    {
     "name": "stdout",
     "output_type": "stream",
     "text": [
      "<class 'str'>\n"
     ]
    }
   ],
   "source": [
    "print(type(str1))"
   ]
  },
  {
   "cell_type": "code",
   "execution_count": 1,
   "id": "b49cf5d3",
   "metadata": {},
   "outputs": [
    {
     "name": "stdout",
     "output_type": "stream",
     "text": [
      "Enter the number\n",
      "None10\n"
     ]
    }
   ],
   "source": [
    "inpnum = int(input(print(\"Enter the number\")))"
   ]
  },
  {
   "cell_type": "code",
   "execution_count": 12,
   "id": "364efdbe",
   "metadata": {},
   "outputs": [
    {
     "name": "stdout",
     "output_type": "stream",
     "text": [
      "ANAND"
     ]
    }
   ],
   "source": [
    "str1 = \"anand\"\n",
    "for i in str1:\n",
    "    if i.islower():\n",
    "        i = i.upper()\n",
    "        print(i,end=\"\")"
   ]
  },
  {
   "cell_type": "code",
   "execution_count": 39,
   "id": "ac891056",
   "metadata": {},
   "outputs": [
    {
     "name": "stdout",
     "output_type": "stream",
     "text": [
      "AnAnD\n"
     ]
    }
   ],
   "source": [
    "str1 = \"anand\"\n",
    "res = []\n",
    "for i,j in enumerate(str1):\n",
    "    if i%2 == 0:\n",
    "        res.append(j.upper())\n",
    "    else:\n",
    "        res.append(j.lower())\n",
    "res = ''.join(res)\n",
    "\n",
    "print(res)\n",
    "    "
   ]
  },
  {
   "cell_type": "code",
   "execution_count": 4,
   "id": "dc1d18fa",
   "metadata": {},
   "outputs": [
    {
     "name": "stdout",
     "output_type": "stream",
     "text": [
      "dict_keys(['key1', 'k2', 'k3'])\n",
      "dict_values([1, 2, 3])\n",
      "dict_items([('key1', 1), ('k2', 2), ('k3', 3)])\n",
      "<class 'dict_items'>\n"
     ]
    }
   ],
   "source": [
    "my_dict = {\"key1\":1,\"k2\":2,\"k3\":3}\n",
    "print(my_dict.keys())\n",
    "print(my_dict.values())\n",
    "print(my_dict.items())\n",
    "print(type(my_dict.items()))"
   ]
  },
  {
   "cell_type": "code",
   "execution_count": 7,
   "id": "e5e6ff7e",
   "metadata": {},
   "outputs": [
    {
     "name": "stdout",
     "output_type": "stream",
     "text": [
      "{1, 2, 3, 4, 5, 6, 7}\n",
      "[1, 2, 3, 4, 5, 6]\n"
     ]
    }
   ],
   "source": [
    "l1 = [1,1,2,3,4,5,5,6,6,7]\n",
    "dup = []\n",
    "s1 = set(l1)\n",
    "print(s1)\n",
    "for i in range(len(l1)):\n",
    "    for j in range(i+1, len(l1)):\n",
    "        if l1[i] == l1[j] and l1[i] not in dup:\n",
    "            dup.append(l1[i])\n",
    "print(dup)"
   ]
  },
  {
   "cell_type": "code",
   "execution_count": null,
   "id": "cbf57fd1",
   "metadata": {},
   "outputs": [],
   "source": []
  }
 ],
 "metadata": {
  "kernelspec": {
   "display_name": "Python 3 (ipykernel)",
   "language": "python",
   "name": "python3"
  },
  "language_info": {
   "codemirror_mode": {
    "name": "ipython",
    "version": 3
   },
   "file_extension": ".py",
   "mimetype": "text/x-python",
   "name": "python",
   "nbconvert_exporter": "python",
   "pygments_lexer": "ipython3",
   "version": "3.9.7"
  }
 },
 "nbformat": 4,
 "nbformat_minor": 5
}
