{
 "cells": [
  {
   "cell_type": "code",
   "execution_count": 8,
   "id": "52233819",
   "metadata": {},
   "outputs": [],
   "source": [
    "def myfunc (*args, **kwargs):\n",
    "    if 'foods' in kwargs and 'fruits' in kwargs:\n",
    "        print ('I will have {} {} and {} {}'.format(args[1], kwargs['foods'], args[2], kwargs['fruits']))\n",
    "    else:\n",
    "        print('No items found')"
   ]
  },
  {
   "cell_type": "code",
   "execution_count": 9,
   "id": "1ed449fb",
   "metadata": {},
   "outputs": [
    {
     "name": "stdout",
     "output_type": "stream",
     "text": [
      "No items found\n"
     ]
    }
   ],
   "source": [
    "myfunc (10,2,3,fruit='Oranges',food='puffs')"
   ]
  },
  {
   "cell_type": "code",
   "execution_count": null,
   "id": "92e4075e",
   "metadata": {},
   "outputs": [],
   "source": [
    "\n"
   ]
  },
  {
   "cell_type": "code",
   "execution_count": 12,
   "id": "21c2af35",
   "metadata": {},
   "outputs": [],
   "source": [
    "def myfunc (*args):\n",
    "    my_list = []\n",
    "    i = 0\n",
    "    for a in args:\n",
    "        if a%2 == 0:\n",
    "            my_list.append(a)\n",
    "            i += 1\n",
    "    return my_list"
   ]
  },
  {
   "cell_type": "code",
   "execution_count": 13,
   "id": "404e2539",
   "metadata": {},
   "outputs": [
    {
     "data": {
      "text/plain": [
       "[10, 2, 8, 12]"
      ]
     },
     "execution_count": 13,
     "metadata": {},
     "output_type": "execute_result"
    }
   ],
   "source": [
    "myfunc (10,2,5,7,8,12)"
   ]
  },
  {
   "cell_type": "code",
   "execution_count": 51,
   "id": "0aaf07cf",
   "metadata": {},
   "outputs": [],
   "source": [
    "\n",
    "def myfunc (my_list):\n",
    "    new_list = []\n",
    "    for i in range(len(my_list)):\n",
    "        if i%2==0:\n",
    "            new_list.append(my_list[i].lower())\n",
    "        else:\n",
    "            new_list.append(my_list[i].upper())\n",
    "    return ''.join(new_list)"
   ]
  },
  {
   "cell_type": "code",
   "execution_count": 52,
   "id": "85341c4e",
   "metadata": {},
   "outputs": [
    {
     "data": {
      "text/plain": [
       "'aNaNd'"
      ]
     },
     "execution_count": 52,
     "metadata": {},
     "output_type": "execute_result"
    }
   ],
   "source": [
    "myfunc ('Anand')"
   ]
  },
  {
   "cell_type": "code",
   "execution_count": 58,
   "id": "3a8e5b0a",
   "metadata": {},
   "outputs": [],
   "source": [
    "#lesser of the two numbers ( warmup exercise)\n",
    "def lesser_of_the_evens (a,b):\n",
    "    if a>b:\n",
    "        greater = a\n",
    "        lesser = b\n",
    "    else:\n",
    "        greater = b\n",
    "        lesser = a\n",
    "    if a%2==0 and b%2==0:\n",
    "        return lesser\n",
    "    else:\n",
    "        return greater"
   ]
  },
  {
   "cell_type": "code",
   "execution_count": 65,
   "id": "58aab42c",
   "metadata": {},
   "outputs": [
    {
     "data": {
      "text/plain": [
       "2"
      ]
     },
     "execution_count": 65,
     "metadata": {},
     "output_type": "execute_result"
    }
   ],
   "source": [
    "lesser_of_the_evens (2,4)"
   ]
  },
  {
   "cell_type": "code",
   "execution_count": 67,
   "id": "eeb4d7f2",
   "metadata": {},
   "outputs": [],
   "source": [
    "animal_crackers = ('Levelheaded Llama')"
   ]
  },
  {
   "cell_type": "code",
   "execution_count": 69,
   "id": "58bf92f9",
   "metadata": {},
   "outputs": [],
   "source": [
    "my_list = animal_crackers.split(' ')"
   ]
  },
  {
   "cell_type": "code",
   "execution_count": 72,
   "id": "cf0c3d64",
   "metadata": {},
   "outputs": [
    {
     "data": {
      "text/plain": [
       "'L'"
      ]
     },
     "execution_count": 72,
     "metadata": {},
     "output_type": "execute_result"
    }
   ],
   "source": [
    "my_list[1][0]"
   ]
  },
  {
   "cell_type": "code",
   "execution_count": 79,
   "id": "353a7119",
   "metadata": {},
   "outputs": [
    {
     "name": "stdout",
     "output_type": "stream",
     "text": [
      "True\n",
      "False\n"
     ]
    }
   ],
   "source": [
    "#ANIMAL CRACKERS: Write a function takes a two-word string and returns True if both words begin with same letter\n",
    "\n",
    "def animal_crackers (my_str):\n",
    "    new_list = my_str.split(' ')\n",
    "    if new_list[0][0] == new_list[1][0]:\n",
    "        return True\n",
    "    else:\n",
    "        return False\n",
    "\n",
    "print(animal_crackers ('Levelheaded Llama'))\n",
    "print(animal_crackers ('Cevelheaded Llama'))"
   ]
  },
  {
   "cell_type": "code",
   "execution_count": 83,
   "id": "b4f1fbc4",
   "metadata": {},
   "outputs": [
    {
     "name": "stdout",
     "output_type": "stream",
     "text": [
      "True\n",
      "False\n",
      "True\n"
     ]
    }
   ],
   "source": [
    "#MAKES TWENTY: Given two integers, return True if the sum of the integers is 20 or if one of the integers is 20. \n",
    "#If not, return False\n",
    "\n",
    "def makes_twenty (a,b):\n",
    "    if sum((a,b)) == 20 or a==20 or b==20:\n",
    "        return True\n",
    "    else:\n",
    "        return False\n",
    "\n",
    "print(makes_twenty (10,20))\n",
    "print(makes_twenty (1,2))\n",
    "print(makes_twenty (1,20))"
   ]
  },
  {
   "cell_type": "code",
   "execution_count": 84,
   "id": "46cf1723",
   "metadata": {},
   "outputs": [],
   "source": [
    "def myfunc (*args, **kwargs):\n",
    "    return ('I will have {} {} and {} {}'.format(args[0], kwargs['fruits'], args[1], kwargs['deserts']))"
   ]
  },
  {
   "cell_type": "code",
   "execution_count": 85,
   "id": "22fd7d61",
   "metadata": {},
   "outputs": [
    {
     "data": {
      "text/plain": [
       "'I will have 10 Pineapple and 20 cake'"
      ]
     },
     "execution_count": 85,
     "metadata": {},
     "output_type": "execute_result"
    }
   ],
   "source": [
    "myfunc (10,20,fruits='Pineapple',deserts='cake')"
   ]
  },
  {
   "cell_type": "code",
   "execution_count": 112,
   "id": "88df70fe",
   "metadata": {},
   "outputs": [],
   "source": [
    "#OLD MACDONALD: Write a function that capitalizes the first and fourth letters of a name\n",
    "\n",
    "def old_mac (my_name):\n",
    "    new_name = []\n",
    "    for i in range(len(my_name)):\n",
    "        if i==0 or i==3:\n",
    "            new_name.append(my_name[i].upper())\n",
    "        else:\n",
    "            new_name.append(my_name[i])\n",
    "    return ''.join(new_name)"
   ]
  },
  {
   "cell_type": "code",
   "execution_count": 113,
   "id": "903cea2f",
   "metadata": {},
   "outputs": [
    {
     "data": {
      "text/plain": [
       "'MacDonald'"
      ]
     },
     "execution_count": 113,
     "metadata": {},
     "output_type": "execute_result"
    }
   ],
   "source": [
    "old_mac('macdonald')"
   ]
  },
  {
   "cell_type": "code",
   "execution_count": 130,
   "id": "06a3ec08",
   "metadata": {},
   "outputs": [
    {
     "data": {
      "text/plain": [
       "'OOO'"
      ]
     },
     "execution_count": 130,
     "metadata": {},
     "output_type": "execute_result"
    }
   ],
   "source": [
    "#return a string where for every character in the original there are three characters\n",
    "def myfunc (rec_str):\n",
    "    new_str = []\n",
    "    for i in range(len(rec_str)):\n",
    "        new_str = rec_str[i]*3\n",
    "        return ''.join(new_str)\n",
    "        \n",
    "\n",
    "myfunc ('OldSchool')"
   ]
  },
  {
   "cell_type": "code",
   "execution_count": 134,
   "id": "2254e6ba",
   "metadata": {},
   "outputs": [],
   "source": [
    "emt = set()\n"
   ]
  },
  {
   "cell_type": "code",
   "execution_count": 135,
   "id": "e99cc4b1",
   "metadata": {},
   "outputs": [
    {
     "data": {
      "text/plain": [
       "set"
      ]
     },
     "execution_count": 135,
     "metadata": {},
     "output_type": "execute_result"
    }
   ],
   "source": [
    "type(emt)"
   ]
  },
  {
   "cell_type": "code",
   "execution_count": 143,
   "id": "9376d426",
   "metadata": {},
   "outputs": [],
   "source": [
    "var_list = [1,2,3,4,5,6,7,8]"
   ]
  },
  {
   "cell_type": "code",
   "execution_count": 144,
   "id": "9d556aa3",
   "metadata": {},
   "outputs": [],
   "source": [
    "def check_even (num):\n",
    "    return num%2==0"
   ]
  },
  {
   "cell_type": "code",
   "execution_count": 146,
   "id": "785ff0dc",
   "metadata": {},
   "outputs": [
    {
     "data": {
      "text/plain": [
       "[2, 4, 6, 8]"
      ]
     },
     "execution_count": 146,
     "metadata": {},
     "output_type": "execute_result"
    }
   ],
   "source": [
    "#list(filter(check_even,var_list))"
   ]
  },
  {
   "cell_type": "code",
   "execution_count": 147,
   "id": "1e5fbe91",
   "metadata": {},
   "outputs": [
    {
     "name": "stdout",
     "output_type": "stream",
     "text": [
      "2\n",
      "4\n",
      "6\n",
      "8\n"
     ]
    }
   ],
   "source": [
    "for n in filter(check_even,var_list):\n",
    "    print(n)"
   ]
  },
  {
   "cell_type": "code",
   "execution_count": 151,
   "id": "761c6c37",
   "metadata": {},
   "outputs": [
    {
     "data": {
      "text/plain": [
       "33.49333333333333"
      ]
     },
     "execution_count": 151,
     "metadata": {},
     "output_type": "execute_result"
    }
   ],
   "source": [
    "#volume of the sphere\n",
    "def vol_sphere (radius):\n",
    "    pi = 3.14\n",
    "    return 4/3 * pi * radius**3\n",
    "\n",
    "vol_sphere (2)"
   ]
  },
  {
   "cell_type": "code",
   "execution_count": 154,
   "id": "d7e959b8",
   "metadata": {},
   "outputs": [
    {
     "data": {
      "text/plain": [
       "'Out of range'"
      ]
     },
     "execution_count": 154,
     "metadata": {},
     "output_type": "execute_result"
    }
   ],
   "source": [
    "#check if the given number is in the range\n",
    "\n",
    "def check_range (num, low, high):\n",
    "    if num > low and num < high:\n",
    "        print(f'{num} is in between {low} & {high}')\n",
    "    else:\n",
    "        return 'Out of range'\n",
    "\n",
    "check_range (9,2,7)"
   ]
  },
  {
   "cell_type": "code",
   "execution_count": 156,
   "id": "18dad2a6",
   "metadata": {},
   "outputs": [
    {
     "data": {
      "text/plain": [
       "True"
      ]
     },
     "execution_count": 156,
     "metadata": {},
     "output_type": "execute_result"
    }
   ],
   "source": [
    "#check if the given number is in the range (boolean returned)\n",
    "\n",
    "def check_range (num, low, high):\n",
    "    if num > low and num < high:\n",
    "        return True\n",
    "    else:\n",
    "        return False\n",
    "\n",
    "check_range (3,2,7)"
   ]
  },
  {
   "cell_type": "code",
   "execution_count": 183,
   "id": "a3868355",
   "metadata": {},
   "outputs": [
    {
     "name": "stdout",
     "output_type": "stream",
     "text": [
      "A\n",
      "n\n",
      "a\n",
      "n\n",
      "d\n"
     ]
    }
   ],
   "source": [
    "name = \"Anand\"\n",
    "for i in name:\n",
    "    print(i)"
   ]
  },
  {
   "cell_type": "code",
   "execution_count": 190,
   "id": "721a7322",
   "metadata": {},
   "outputs": [],
   "source": [
    "def remove_duplicate (my_list):\n",
    "    my_set = set(my_list)\n",
    "    return list(my_set)"
   ]
  },
  {
   "cell_type": "code",
   "execution_count": 192,
   "id": "43a624ea",
   "metadata": {},
   "outputs": [
    {
     "data": {
      "text/plain": [
       "['Anand', 'hyderabad', 'Mirafra']"
      ]
     },
     "execution_count": 192,
     "metadata": {},
     "output_type": "execute_result"
    }
   ],
   "source": [
    "remove_duplicate (['Anand','Anand','Anand','Mirafra','Mirafra',\"hyderabad\",'Mirafra'])"
   ]
  },
  {
   "cell_type": "code",
   "execution_count": 194,
   "id": "14596721",
   "metadata": {},
   "outputs": [],
   "source": [
    "#to check its a palindrome or not.\n",
    "def palindrome (my_name):\n",
    "    rev = my_name[::-1]\n",
    "    if rev == my_name:\n",
    "        return 'Its a palindrome'\n",
    "    else:\n",
    "        return 'Its not a palindrome'"
   ]
  },
  {
   "cell_type": "code",
   "execution_count": 197,
   "id": "232c4fa7",
   "metadata": {},
   "outputs": [
    {
     "data": {
      "text/plain": [
       "'Its a palindrome'"
      ]
     },
     "execution_count": 197,
     "metadata": {},
     "output_type": "execute_result"
    }
   ],
   "source": [
    "palindrome(\"'helleh'\")"
   ]
  },
  {
   "cell_type": "code",
   "execution_count": 200,
   "id": "868998e1",
   "metadata": {},
   "outputs": [],
   "source": [
    "#multiply all the numbers in the list\n",
    "def multiply_all(my_list):\n",
    "    for i in range(len(my_list)):\n",
    "        count\n",
    "    return count"
   ]
  },
  {
   "cell_type": "code",
   "execution_count": 201,
   "id": "229758c4",
   "metadata": {},
   "outputs": [
    {
     "ename": "AttributeError",
     "evalue": "'list' object has no attribute 'split'",
     "output_type": "error",
     "traceback": [
      "\u001b[1;31m---------------------------------------------------------------------------\u001b[0m",
      "\u001b[1;31mAttributeError\u001b[0m                            Traceback (most recent call last)",
      "\u001b[1;32m~\\AppData\\Local\\Temp/ipykernel_32696/2687756173.py\u001b[0m in \u001b[0;36m<module>\u001b[1;34m\u001b[0m\n\u001b[1;32m----> 1\u001b[1;33m \u001b[0mmultiply_all\u001b[0m \u001b[1;33m(\u001b[0m\u001b[1;33m[\u001b[0m\u001b[1;36m1\u001b[0m\u001b[1;33m,\u001b[0m\u001b[1;36m2\u001b[0m\u001b[1;33m,\u001b[0m\u001b[1;36m3\u001b[0m\u001b[1;33m,\u001b[0m\u001b[1;36m4\u001b[0m\u001b[1;33m]\u001b[0m\u001b[1;33m)\u001b[0m\u001b[1;33m\u001b[0m\u001b[1;33m\u001b[0m\u001b[0m\n\u001b[0m",
      "\u001b[1;32m~\\AppData\\Local\\Temp/ipykernel_32696/3857965594.py\u001b[0m in \u001b[0;36mmultiply_all\u001b[1;34m(my_list)\u001b[0m\n\u001b[0;32m      1\u001b[0m \u001b[1;31m#multiply all the numbers in the list\u001b[0m\u001b[1;33m\u001b[0m\u001b[1;33m\u001b[0m\u001b[0m\n\u001b[0;32m      2\u001b[0m \u001b[1;32mdef\u001b[0m \u001b[0mmultiply_all\u001b[0m\u001b[1;33m(\u001b[0m\u001b[0mmy_list\u001b[0m\u001b[1;33m)\u001b[0m\u001b[1;33m:\u001b[0m\u001b[1;33m\u001b[0m\u001b[1;33m\u001b[0m\u001b[0m\n\u001b[1;32m----> 3\u001b[1;33m     \u001b[0mnew_list\u001b[0m \u001b[1;33m=\u001b[0m \u001b[0mmy_list\u001b[0m\u001b[1;33m.\u001b[0m\u001b[0msplit\u001b[0m\u001b[1;33m(\u001b[0m\u001b[1;33m)\u001b[0m\u001b[1;33m\u001b[0m\u001b[1;33m\u001b[0m\u001b[0m\n\u001b[0m\u001b[0;32m      4\u001b[0m     \u001b[1;32mreturn\u001b[0m \u001b[0mnew_list\u001b[0m\u001b[1;33m\u001b[0m\u001b[1;33m\u001b[0m\u001b[0m\n",
      "\u001b[1;31mAttributeError\u001b[0m: 'list' object has no attribute 'split'"
     ]
    }
   ],
   "source": [
    "multiply_all ([1,2,3,4])"
   ]
  },
  {
   "cell_type": "code",
   "execution_count": null,
   "id": "87f1af9c",
   "metadata": {},
   "outputs": [],
   "source": []
  },
  {
   "cell_type": "code",
   "execution_count": null,
   "id": "39df949d",
   "metadata": {},
   "outputs": [],
   "source": []
  },
  {
   "cell_type": "code",
   "execution_count": null,
   "id": "0b85561d",
   "metadata": {},
   "outputs": [],
   "source": []
  },
  {
   "cell_type": "code",
   "execution_count": 213,
   "id": "30076624",
   "metadata": {},
   "outputs": [],
   "source": [
    "class Sphere():\n",
    "    pi = 3.14\n",
    "    def __init__(self,radius=1):\n",
    "        self.radius = radius\n",
    "        self.circumference = 2 * Sphere.pi * radius\n",
    "    def area(self):\n",
    "        return self.pi * (self.radius**3)"
   ]
  },
  {
   "cell_type": "code",
   "execution_count": 246,
   "id": "8e169d1c",
   "metadata": {},
   "outputs": [],
   "source": [
    "my_sphere = Sphere(2)"
   ]
  },
  {
   "cell_type": "code",
   "execution_count": 216,
   "id": "dc79152d",
   "metadata": {},
   "outputs": [
    {
     "data": {
      "text/plain": [
       "25.12"
      ]
     },
     "execution_count": 216,
     "metadata": {},
     "output_type": "execute_result"
    }
   ],
   "source": [
    "my_sphere.area()"
   ]
  },
  {
   "cell_type": "code",
   "execution_count": 217,
   "id": "3be72beb",
   "metadata": {},
   "outputs": [
    {
     "data": {
      "text/plain": [
       "12.56"
      ]
     },
     "execution_count": 217,
     "metadata": {},
     "output_type": "execute_result"
    }
   ],
   "source": [
    "my_sphere.circumference"
   ]
  },
  {
   "cell_type": "code",
   "execution_count": 218,
   "id": "1d4f653a",
   "metadata": {},
   "outputs": [
    {
     "data": {
      "text/plain": [
       "12.56"
      ]
     },
     "execution_count": 218,
     "metadata": {},
     "output_type": "execute_result"
    }
   ],
   "source": [
    "4*3.14"
   ]
  },
  {
   "cell_type": "code",
   "execution_count": null,
   "id": "2ee6a0e2",
   "metadata": {},
   "outputs": [],
   "source": []
  },
  {
   "cell_type": "code",
   "execution_count": null,
   "id": "02e858e6",
   "metadata": {},
   "outputs": [],
   "source": []
  },
  {
   "cell_type": "code",
   "execution_count": 219,
   "id": "d6fc0a97",
   "metadata": {},
   "outputs": [],
   "source": [
    "class Animal():\n",
    "    def __init__ (self):\n",
    "        print('Animal Created')\n",
    "        \n",
    "    def who_am_i (self):\n",
    "        print(\"I am an animal\")\n",
    "        \n",
    "    def eat (self):\n",
    "        print('I am eating')"
   ]
  },
  {
   "cell_type": "code",
   "execution_count": 237,
   "id": "9ff380a6",
   "metadata": {},
   "outputs": [],
   "source": [
    "class Dog(Animal):\n",
    "    def __init__(self):\n",
    "        Animal.__init__(self)\n",
    "        print('Dog created')"
   ]
  },
  {
   "cell_type": "code",
   "execution_count": 240,
   "id": "bb711470",
   "metadata": {},
   "outputs": [
    {
     "name": "stdout",
     "output_type": "stream",
     "text": [
      "Animal Created\n",
      "Dog created\n"
     ]
    }
   ],
   "source": [
    "mydog = Dog()"
   ]
  },
  {
   "cell_type": "code",
   "execution_count": 244,
   "id": "078e4854",
   "metadata": {},
   "outputs": [
    {
     "name": "stdout",
     "output_type": "stream",
     "text": [
      "I am an animal\n"
     ]
    }
   ],
   "source": [
    "mydog.who_am_i()"
   ]
  },
  {
   "cell_type": "code",
   "execution_count": null,
   "id": "8059a24f",
   "metadata": {},
   "outputs": [],
   "source": []
  },
  {
   "cell_type": "code",
   "execution_count": null,
   "id": "361eca18",
   "metadata": {},
   "outputs": [],
   "source": []
  },
  {
   "cell_type": "code",
   "execution_count": null,
   "id": "f2ba9174",
   "metadata": {},
   "outputs": [],
   "source": []
  },
  {
   "cell_type": "code",
   "execution_count": 253,
   "id": "6cade4e5",
   "metadata": {},
   "outputs": [],
   "source": [
    "class Triangle ():\n",
    "    pi = 3.14\n",
    "    def __init__(self,s1,s2,s3):\n",
    "        self.s1 = s1\n",
    "        self.s2 = s2\n",
    "        self.s3 = s3\n",
    "        \n",
    "        if s1==s2==s3:\n",
    "            print(f'Triangle is equi with {self.s1} length of each side.')\n",
    "        else:\n",
    "            print('Not equi triangle')\n",
    "    "
   ]
  },
  {
   "cell_type": "code",
   "execution_count": 255,
   "id": "0f033ee8",
   "metadata": {},
   "outputs": [
    {
     "name": "stdout",
     "output_type": "stream",
     "text": [
      "Triangle is equi with 10 length of each side.\n"
     ]
    }
   ],
   "source": [
    "my_tri = Triangle(10,10,10)"
   ]
  },
  {
   "cell_type": "code",
   "execution_count": 259,
   "id": "b4f06cb4",
   "metadata": {},
   "outputs": [
    {
     "data": {
      "text/plain": [
       "1"
      ]
     },
     "execution_count": 259,
     "metadata": {},
     "output_type": "execute_result"
    }
   ],
   "source": [
    "len('A')"
   ]
  },
  {
   "cell_type": "code",
   "execution_count": null,
   "id": "06f1d1b1",
   "metadata": {},
   "outputs": [],
   "source": []
  },
  {
   "cell_type": "code",
   "execution_count": null,
   "id": "12b116ae",
   "metadata": {},
   "outputs": [],
   "source": []
  },
  {
   "cell_type": "code",
   "execution_count": 270,
   "id": "32784972",
   "metadata": {},
   "outputs": [],
   "source": [
    "class Book():\n",
    "    type = 'Hardcopy'\n",
    "    def __init__(self,title,author,pages):\n",
    "        self.title = title\n",
    "        self.author = author\n",
    "        self.pages = pages\n",
    "    \n",
    "    def __str__ (self):\n",
    "        return (f'The book names {self.title} is written by author {self.author}')\n",
    "    def __len__(self):\n",
    "        return (self.pages)"
   ]
  },
  {
   "cell_type": "code",
   "execution_count": 274,
   "id": "7128f28e",
   "metadata": {},
   "outputs": [],
   "source": [
    "my_library = Book(\"Python rocks\",\"Jose\",200)"
   ]
  },
  {
   "cell_type": "code",
   "execution_count": 275,
   "id": "3d134139",
   "metadata": {},
   "outputs": [
    {
     "data": {
      "text/plain": [
       "'Hardcopy'"
      ]
     },
     "execution_count": 275,
     "metadata": {},
     "output_type": "execute_result"
    }
   ],
   "source": [
    "Book.type"
   ]
  },
  {
   "cell_type": "code",
   "execution_count": 276,
   "id": "8888da72",
   "metadata": {},
   "outputs": [
    {
     "data": {
      "text/plain": [
       "'Jose'"
      ]
     },
     "execution_count": 276,
     "metadata": {},
     "output_type": "execute_result"
    }
   ],
   "source": [
    "my_library.author"
   ]
  },
  {
   "cell_type": "code",
   "execution_count": 277,
   "id": "cd062a03",
   "metadata": {},
   "outputs": [
    {
     "data": {
      "text/plain": [
       "200"
      ]
     },
     "execution_count": 277,
     "metadata": {},
     "output_type": "execute_result"
    }
   ],
   "source": [
    "my_library.pages"
   ]
  },
  {
   "cell_type": "code",
   "execution_count": 278,
   "id": "2bc83268",
   "metadata": {},
   "outputs": [
    {
     "name": "stdout",
     "output_type": "stream",
     "text": [
      "The book names Python rocks is written by author Jose\n"
     ]
    }
   ],
   "source": [
    "print(my_library)"
   ]
  },
  {
   "cell_type": "code",
   "execution_count": 281,
   "id": "1735dd83",
   "metadata": {},
   "outputs": [
    {
     "data": {
      "text/plain": [
       "'Python rocks'"
      ]
     },
     "execution_count": 281,
     "metadata": {},
     "output_type": "execute_result"
    }
   ],
   "source": [
    "my_library.title"
   ]
  },
  {
   "cell_type": "code",
   "execution_count": 1,
   "id": "3396859b",
   "metadata": {},
   "outputs": [
    {
     "name": "stdout",
     "output_type": "stream",
     "text": [
      "*\n"
     ]
    }
   ],
   "source": [
    "for i in 'row':\n",
    "    for j in 'column':\n",
    "        if i==j:\n",
    "            print('*')"
   ]
  },
  {
   "cell_type": "code",
   "execution_count": 10,
   "id": "211063f5",
   "metadata": {},
   "outputs": [],
   "source": [
    "def check_even (my_list):\n",
    "    '''To check the number is even or odd'''\n",
    "    for item in my_list:\n",
    "        if item % 2 == 0:\n",
    "            return f'{my_list} has {item} as first even occurance.'\n",
    "        else:\n",
    "            pass\n",
    "    \n",
    "    return f'{my_list} has no even member.'\n",
    "my_res = check_even([1,3,5,7])"
   ]
  },
  {
   "cell_type": "code",
   "execution_count": 11,
   "id": "9a6d3cf9",
   "metadata": {},
   "outputs": [
    {
     "data": {
      "text/plain": [
       "'[1, 3, 5, 7] has no even member.'"
      ]
     },
     "execution_count": 11,
     "metadata": {},
     "output_type": "execute_result"
    }
   ],
   "source": [
    "my_res"
   ]
  },
  {
   "cell_type": "code",
   "execution_count": 12,
   "id": "fde62613",
   "metadata": {},
   "outputs": [],
   "source": [
    "my_list = [1,3,4,5]"
   ]
  },
  {
   "cell_type": "code",
   "execution_count": 29,
   "id": "29f915bc",
   "metadata": {},
   "outputs": [],
   "source": [
    "from random import shuffle\n",
    "shuffle(my_list)"
   ]
  },
  {
   "cell_type": "code",
   "execution_count": 30,
   "id": "4ddd4ed1",
   "metadata": {},
   "outputs": [
    {
     "data": {
      "text/plain": [
       "[4, 5, 1, 3]"
      ]
     },
     "execution_count": 30,
     "metadata": {},
     "output_type": "execute_result"
    }
   ],
   "source": [
    "my_list"
   ]
  },
  {
   "cell_type": "code",
   "execution_count": null,
   "id": "47bf6878",
   "metadata": {},
   "outputs": [],
   "source": []
  }
 ],
 "metadata": {
  "kernelspec": {
   "display_name": "Python 3 (ipykernel)",
   "language": "python",
   "name": "python3"
  },
  "language_info": {
   "codemirror_mode": {
    "name": "ipython",
    "version": 3
   },
   "file_extension": ".py",
   "mimetype": "text/x-python",
   "name": "python",
   "nbconvert_exporter": "python",
   "pygments_lexer": "ipython3",
   "version": "3.9.7"
  }
 },
 "nbformat": 4,
 "nbformat_minor": 5
}
