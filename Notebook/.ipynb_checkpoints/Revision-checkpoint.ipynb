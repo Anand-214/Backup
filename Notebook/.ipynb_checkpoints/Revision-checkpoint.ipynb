{
 "cells": [
  {
   "cell_type": "code",
   "execution_count": 2,
   "id": "fbc765af",
   "metadata": {},
   "outputs": [
    {
     "name": "stdout",
     "output_type": "stream",
     "text": [
      "My name is Hose\n"
     ]
    }
   ],
   "source": [
    "name = \"Hose\"\n",
    "print(\"My name is \" + name)"
   ]
  },
  {
   "cell_type": "code",
   "execution_count": 5,
   "id": "634ac2cb",
   "metadata": {},
   "outputs": [
    {
     "name": "stdout",
     "output_type": "stream",
     "text": [
      "The quick brown fox\n"
     ]
    }
   ],
   "source": [
    "print(\"The {0} {2} {1}\".format('quick','fox','brown'))"
   ]
  },
  {
   "cell_type": "code",
   "execution_count": 12,
   "id": "3437429a",
   "metadata": {},
   "outputs": [
    {
     "data": {
      "text/plain": [
       "int"
      ]
     },
     "execution_count": 12,
     "metadata": {},
     "output_type": "execute_result"
    }
   ],
   "source": [
    "a = 10\n",
    "type(10)"
   ]
  },
  {
   "cell_type": "code",
   "execution_count": 13,
   "id": "a34201a8",
   "metadata": {},
   "outputs": [
    {
     "name": "stdout",
     "output_type": "stream",
     "text": [
      "This is a quick brown fox\n"
     ]
    }
   ],
   "source": [
    "print('This is a {q} {b} {f}'.format(q='quick', b='brown', f='fox'))"
   ]
  },
  {
   "cell_type": "code",
   "execution_count": 15,
   "id": "5fca93ec",
   "metadata": {},
   "outputs": [
    {
     "name": "stdout",
     "output_type": "stream",
     "text": [
      "The exam is topped by Anand\n"
     ]
    }
   ],
   "source": [
    "##string interpolation methods.\n",
    "name = \"Anand\"\n",
    "print(f'The exam is topped by {name}')"
   ]
  },
  {
   "cell_type": "code",
   "execution_count": 17,
   "id": "c85a27fe",
   "metadata": {},
   "outputs": [
    {
     "name": "stdout",
     "output_type": "stream",
     "text": [
      "I am going to inject something here\n"
     ]
    }
   ],
   "source": [
    "print('I am going to inject %s here'%('something'))"
   ]
  },
  {
   "cell_type": "code",
   "execution_count": 19,
   "id": "03eed665",
   "metadata": {},
   "outputs": [],
   "source": [
    "import math\n"
   ]
  },
  {
   "cell_type": "code",
   "execution_count": 22,
   "id": "957f966f",
   "metadata": {},
   "outputs": [
    {
     "name": "stdout",
     "output_type": "stream",
     "text": [
      "Help on module math:\n",
      "\n",
      "NAME\n",
      "    math\n",
      "\n",
      "MODULE REFERENCE\n",
      "    https://docs.python.org/3.9/library/math\n",
      "    \n",
      "    The following documentation is automatically generated from the Python\n",
      "    source files.  It may be incomplete, incorrect or include features that\n",
      "    are considered implementation detail and may vary between Python\n",
      "    implementations.  When in doubt, consult the module reference at the\n",
      "    location listed above.\n",
      "\n",
      "DESCRIPTION\n",
      "    This module provides access to the mathematical functions\n",
      "    defined by the C standard.\n",
      "\n",
      "FUNCTIONS\n",
      "    acos(x, /)\n",
      "        Return the arc cosine (measured in radians) of x.\n",
      "        \n",
      "        The result is between 0 and pi.\n",
      "    \n",
      "    acosh(x, /)\n",
      "        Return the inverse hyperbolic cosine of x.\n",
      "    \n",
      "    asin(x, /)\n",
      "        Return the arc sine (measured in radians) of x.\n",
      "        \n",
      "        The result is between -pi/2 and pi/2.\n",
      "    \n",
      "    asinh(x, /)\n",
      "        Return the inverse hyperbolic sine of x.\n",
      "    \n",
      "    atan(x, /)\n",
      "        Return the arc tangent (measured in radians) of x.\n",
      "        \n",
      "        The result is between -pi/2 and pi/2.\n",
      "    \n",
      "    atan2(y, x, /)\n",
      "        Return the arc tangent (measured in radians) of y/x.\n",
      "        \n",
      "        Unlike atan(y/x), the signs of both x and y are considered.\n",
      "    \n",
      "    atanh(x, /)\n",
      "        Return the inverse hyperbolic tangent of x.\n",
      "    \n",
      "    ceil(x, /)\n",
      "        Return the ceiling of x as an Integral.\n",
      "        \n",
      "        This is the smallest integer >= x.\n",
      "    \n",
      "    comb(n, k, /)\n",
      "        Number of ways to choose k items from n items without repetition and without order.\n",
      "        \n",
      "        Evaluates to n! / (k! * (n - k)!) when k <= n and evaluates\n",
      "        to zero when k > n.\n",
      "        \n",
      "        Also called the binomial coefficient because it is equivalent\n",
      "        to the coefficient of k-th term in polynomial expansion of the\n",
      "        expression (1 + x)**n.\n",
      "        \n",
      "        Raises TypeError if either of the arguments are not integers.\n",
      "        Raises ValueError if either of the arguments are negative.\n",
      "    \n",
      "    copysign(x, y, /)\n",
      "        Return a float with the magnitude (absolute value) of x but the sign of y.\n",
      "        \n",
      "        On platforms that support signed zeros, copysign(1.0, -0.0)\n",
      "        returns -1.0.\n",
      "    \n",
      "    cos(x, /)\n",
      "        Return the cosine of x (measured in radians).\n",
      "    \n",
      "    cosh(x, /)\n",
      "        Return the hyperbolic cosine of x.\n",
      "    \n",
      "    degrees(x, /)\n",
      "        Convert angle x from radians to degrees.\n",
      "    \n",
      "    dist(p, q, /)\n",
      "        Return the Euclidean distance between two points p and q.\n",
      "        \n",
      "        The points should be specified as sequences (or iterables) of\n",
      "        coordinates.  Both inputs must have the same dimension.\n",
      "        \n",
      "        Roughly equivalent to:\n",
      "            sqrt(sum((px - qx) ** 2.0 for px, qx in zip(p, q)))\n",
      "    \n",
      "    erf(x, /)\n",
      "        Error function at x.\n",
      "    \n",
      "    erfc(x, /)\n",
      "        Complementary error function at x.\n",
      "    \n",
      "    exp(x, /)\n",
      "        Return e raised to the power of x.\n",
      "    \n",
      "    expm1(x, /)\n",
      "        Return exp(x)-1.\n",
      "        \n",
      "        This function avoids the loss of precision involved in the direct evaluation of exp(x)-1 for small x.\n",
      "    \n",
      "    fabs(x, /)\n",
      "        Return the absolute value of the float x.\n",
      "    \n",
      "    factorial(x, /)\n",
      "        Find x!.\n",
      "        \n",
      "        Raise a ValueError if x is negative or non-integral.\n",
      "    \n",
      "    floor(x, /)\n",
      "        Return the floor of x as an Integral.\n",
      "        \n",
      "        This is the largest integer <= x.\n",
      "    \n",
      "    fmod(x, y, /)\n",
      "        Return fmod(x, y), according to platform C.\n",
      "        \n",
      "        x % y may differ.\n",
      "    \n",
      "    frexp(x, /)\n",
      "        Return the mantissa and exponent of x, as pair (m, e).\n",
      "        \n",
      "        m is a float and e is an int, such that x = m * 2.**e.\n",
      "        If x is 0, m and e are both 0.  Else 0.5 <= abs(m) < 1.0.\n",
      "    \n",
      "    fsum(seq, /)\n",
      "        Return an accurate floating point sum of values in the iterable seq.\n",
      "        \n",
      "        Assumes IEEE-754 floating point arithmetic.\n",
      "    \n",
      "    gamma(x, /)\n",
      "        Gamma function at x.\n",
      "    \n",
      "    gcd(*integers)\n",
      "        Greatest Common Divisor.\n",
      "    \n",
      "    hypot(...)\n",
      "        hypot(*coordinates) -> value\n",
      "        \n",
      "        Multidimensional Euclidean distance from the origin to a point.\n",
      "        \n",
      "        Roughly equivalent to:\n",
      "            sqrt(sum(x**2 for x in coordinates))\n",
      "        \n",
      "        For a two dimensional point (x, y), gives the hypotenuse\n",
      "        using the Pythagorean theorem:  sqrt(x*x + y*y).\n",
      "        \n",
      "        For example, the hypotenuse of a 3/4/5 right triangle is:\n",
      "        \n",
      "            >>> hypot(3.0, 4.0)\n",
      "            5.0\n",
      "    \n",
      "    isclose(a, b, *, rel_tol=1e-09, abs_tol=0.0)\n",
      "        Determine whether two floating point numbers are close in value.\n",
      "        \n",
      "          rel_tol\n",
      "            maximum difference for being considered \"close\", relative to the\n",
      "            magnitude of the input values\n",
      "          abs_tol\n",
      "            maximum difference for being considered \"close\", regardless of the\n",
      "            magnitude of the input values\n",
      "        \n",
      "        Return True if a is close in value to b, and False otherwise.\n",
      "        \n",
      "        For the values to be considered close, the difference between them\n",
      "        must be smaller than at least one of the tolerances.\n",
      "        \n",
      "        -inf, inf and NaN behave similarly to the IEEE 754 Standard.  That\n",
      "        is, NaN is not close to anything, even itself.  inf and -inf are\n",
      "        only close to themselves.\n",
      "    \n",
      "    isfinite(x, /)\n",
      "        Return True if x is neither an infinity nor a NaN, and False otherwise.\n",
      "    \n",
      "    isinf(x, /)\n",
      "        Return True if x is a positive or negative infinity, and False otherwise.\n",
      "    \n",
      "    isnan(x, /)\n",
      "        Return True if x is a NaN (not a number), and False otherwise.\n",
      "    \n",
      "    isqrt(n, /)\n",
      "        Return the integer part of the square root of the input.\n",
      "    \n",
      "    lcm(*integers)\n",
      "        Least Common Multiple.\n",
      "    \n",
      "    ldexp(x, i, /)\n",
      "        Return x * (2**i).\n",
      "        \n",
      "        This is essentially the inverse of frexp().\n",
      "    \n",
      "    lgamma(x, /)\n",
      "        Natural logarithm of absolute value of Gamma function at x.\n",
      "    \n",
      "    log(...)\n",
      "        log(x, [base=math.e])\n",
      "        Return the logarithm of x to the given base.\n",
      "        \n",
      "        If the base not specified, returns the natural logarithm (base e) of x.\n",
      "    \n",
      "    log10(x, /)\n",
      "        Return the base 10 logarithm of x.\n",
      "    \n",
      "    log1p(x, /)\n",
      "        Return the natural logarithm of 1+x (base e).\n",
      "        \n",
      "        The result is computed in a way which is accurate for x near zero.\n",
      "    \n",
      "    log2(x, /)\n",
      "        Return the base 2 logarithm of x.\n",
      "    \n",
      "    modf(x, /)\n",
      "        Return the fractional and integer parts of x.\n",
      "        \n",
      "        Both results carry the sign of x and are floats.\n",
      "    \n",
      "    nextafter(x, y, /)\n",
      "        Return the next floating-point value after x towards y.\n",
      "    \n",
      "    perm(n, k=None, /)\n",
      "        Number of ways to choose k items from n items without repetition and with order.\n",
      "        \n",
      "        Evaluates to n! / (n - k)! when k <= n and evaluates\n",
      "        to zero when k > n.\n",
      "        \n",
      "        If k is not specified or is None, then k defaults to n\n",
      "        and the function returns n!.\n",
      "        \n",
      "        Raises TypeError if either of the arguments are not integers.\n",
      "        Raises ValueError if either of the arguments are negative.\n",
      "    \n",
      "    pow(x, y, /)\n",
      "        Return x**y (x to the power of y).\n",
      "    \n",
      "    prod(iterable, /, *, start=1)\n",
      "        Calculate the product of all the elements in the input iterable.\n",
      "        \n",
      "        The default start value for the product is 1.\n",
      "        \n",
      "        When the iterable is empty, return the start value.  This function is\n",
      "        intended specifically for use with numeric values and may reject\n",
      "        non-numeric types.\n",
      "    \n",
      "    radians(x, /)\n",
      "        Convert angle x from degrees to radians.\n",
      "    \n",
      "    remainder(x, y, /)\n",
      "        Difference between x and the closest integer multiple of y.\n",
      "        \n",
      "        Return x - n*y where n*y is the closest integer multiple of y.\n",
      "        In the case where x is exactly halfway between two multiples of\n",
      "        y, the nearest even value of n is used. The result is always exact.\n",
      "    \n",
      "    sin(x, /)\n",
      "        Return the sine of x (measured in radians).\n",
      "    \n",
      "    sinh(x, /)\n",
      "        Return the hyperbolic sine of x.\n",
      "    \n",
      "    sqrt(x, /)\n",
      "        Return the square root of x.\n",
      "    \n",
      "    tan(x, /)\n",
      "        Return the tangent of x (measured in radians).\n",
      "    \n",
      "    tanh(x, /)\n",
      "        Return the hyperbolic tangent of x.\n",
      "    \n",
      "    trunc(x, /)\n",
      "        Truncates the Real x to the nearest Integral toward 0.\n",
      "        \n",
      "        Uses the __trunc__ magic method.\n",
      "    \n",
      "    ulp(x, /)\n",
      "        Return the value of the least significant bit of the float x.\n",
      "\n",
      "DATA\n",
      "    e = 2.718281828459045\n",
      "    inf = inf\n",
      "    nan = nan\n",
      "    pi = 3.141592653589793\n",
      "    tau = 6.283185307179586\n",
      "\n",
      "FILE\n",
      "    /home/anand/anaconda3/lib/python3.9/lib-dynload/math.cpython-39-x86_64-linux-gnu.so\n",
      "\n",
      "\n"
     ]
    }
   ],
   "source": [
    "help(math)"
   ]
  },
  {
   "cell_type": "code",
   "execution_count": 24,
   "id": "72c2db18",
   "metadata": {},
   "outputs": [],
   "source": [
    "my_list = [1,2,3,4]\n",
    "popped = my_list.pop(2)"
   ]
  },
  {
   "cell_type": "code",
   "execution_count": 25,
   "id": "ad37650f",
   "metadata": {},
   "outputs": [
    {
     "data": {
      "text/plain": [
       "3"
      ]
     },
     "execution_count": 25,
     "metadata": {},
     "output_type": "execute_result"
    }
   ],
   "source": [
    "popped"
   ]
  },
  {
   "cell_type": "code",
   "execution_count": 28,
   "id": "e87595a5",
   "metadata": {},
   "outputs": [],
   "source": [
    "list_srt = ['q','x','a','f','h']\n",
    "list_srt.sort()"
   ]
  },
  {
   "cell_type": "code",
   "execution_count": 30,
   "id": "0e786886",
   "metadata": {},
   "outputs": [
    {
     "data": {
      "text/plain": [
       "['a', 'f', 'h', 'q', 'x']"
      ]
     },
     "execution_count": 30,
     "metadata": {},
     "output_type": "execute_result"
    }
   ],
   "source": [
    "list_srt"
   ]
  },
  {
   "cell_type": "code",
   "execution_count": 32,
   "id": "0408b0f0",
   "metadata": {},
   "outputs": [],
   "source": [
    "t = (1,2,3)"
   ]
  },
  {
   "cell_type": "code",
   "execution_count": 33,
   "id": "8764f8a8",
   "metadata": {},
   "outputs": [
    {
     "data": {
      "text/plain": [
       "tuple"
      ]
     },
     "execution_count": 33,
     "metadata": {},
     "output_type": "execute_result"
    }
   ],
   "source": [
    "type(t)"
   ]
  },
  {
   "cell_type": "code",
   "execution_count": 36,
   "id": "e7a165d9",
   "metadata": {},
   "outputs": [
    {
     "data": {
      "text/plain": [
       "2"
      ]
     },
     "execution_count": 36,
     "metadata": {},
     "output_type": "execute_result"
    }
   ],
   "source": [
    "t.index(3)"
   ]
  },
  {
   "cell_type": "code",
   "execution_count": 3,
   "id": "34dd7e63",
   "metadata": {},
   "outputs": [
    {
     "name": "stdout",
     "output_type": "stream",
     "text": [
      "I am going to inject something here.\n"
     ]
    }
   ],
   "source": [
    "print('I am going to inject %s here.'%('something'))"
   ]
  },
  {
   "cell_type": "code",
   "execution_count": 4,
   "id": "688d1544",
   "metadata": {},
   "outputs": [],
   "source": [
    "x = 'Some'\n",
    "y = 'more'"
   ]
  },
  {
   "cell_type": "code",
   "execution_count": 5,
   "id": "d2726bd0",
   "metadata": {},
   "outputs": [
    {
     "name": "stdout",
     "output_type": "stream",
     "text": [
      "I am going to insert Some text here and some more text here.\n"
     ]
    }
   ],
   "source": [
    "print(\"I am going to insert %s text here and some %s text here.\"%(x,y))"
   ]
  },
  {
   "cell_type": "code",
   "execution_count": 7,
   "id": "4158cf15",
   "metadata": {},
   "outputs": [
    {
     "name": "stdout",
     "output_type": "stream",
     "text": [
      "I once caught a fish this\tbig.\n"
     ]
    }
   ],
   "source": [
    "print(\"I once caught a fish %s.\"%('this\\tbig'))"
   ]
  },
  {
   "cell_type": "code",
   "execution_count": 9,
   "id": "aa1fc210",
   "metadata": {},
   "outputs": [
    {
     "name": "stdout",
     "output_type": "stream",
     "text": [
      "I once caught a fish 'this\\tbig'.\n"
     ]
    }
   ],
   "source": [
    "print(\"I once caught a fish %r.\"%(\"this\\tbig\"))"
   ]
  },
  {
   "cell_type": "code",
   "execution_count": 10,
   "id": "a2c684bd",
   "metadata": {},
   "outputs": [],
   "source": [
    "my_list = [1,2,3,4]"
   ]
  },
  {
   "cell_type": "code",
   "execution_count": 13,
   "id": "322e9b7c",
   "metadata": {},
   "outputs": [],
   "source": [
    "my_list = my_list + ['New Item']"
   ]
  },
  {
   "cell_type": "code",
   "execution_count": 14,
   "id": "3190960f",
   "metadata": {},
   "outputs": [
    {
     "data": {
      "text/plain": [
       "[1, 2, 3, 4, 'New Item']"
      ]
     },
     "execution_count": 14,
     "metadata": {},
     "output_type": "execute_result"
    }
   ],
   "source": [
    "my_list"
   ]
  },
  {
   "cell_type": "code",
   "execution_count": 17,
   "id": "a582c1fc",
   "metadata": {},
   "outputs": [
    {
     "data": {
      "text/plain": [
       "[1, 2, 3, 4, 'New Item', 1, 2, 3, 4, 'New Item']"
      ]
     },
     "execution_count": 17,
     "metadata": {},
     "output_type": "execute_result"
    }
   ],
   "source": [
    "#will not be a permanent change. to change permanently we reassign\n",
    "my_list*2"
   ]
  },
  {
   "cell_type": "code",
   "execution_count": 21,
   "id": "c9a0542e",
   "metadata": {},
   "outputs": [
    {
     "data": {
      "text/plain": [
       "[1, 2, 3, 4]"
      ]
     },
     "execution_count": 21,
     "metadata": {},
     "output_type": "execute_result"
    }
   ],
   "source": [
    "my_list\n"
   ]
  },
  {
   "cell_type": "code",
   "execution_count": 22,
   "id": "b1775b17",
   "metadata": {},
   "outputs": [],
   "source": [
    "popped = my_list.pop()"
   ]
  },
  {
   "cell_type": "code",
   "execution_count": 23,
   "id": "71c3361f",
   "metadata": {},
   "outputs": [
    {
     "data": {
      "text/plain": [
       "[1, 2, 3]"
      ]
     },
     "execution_count": 23,
     "metadata": {},
     "output_type": "execute_result"
    }
   ],
   "source": [
    "my_list"
   ]
  },
  {
   "cell_type": "code",
   "execution_count": 24,
   "id": "8972d319",
   "metadata": {},
   "outputs": [
    {
     "data": {
      "text/plain": [
       "4"
      ]
     },
     "execution_count": 24,
     "metadata": {},
     "output_type": "execute_result"
    }
   ],
   "source": [
    "popped"
   ]
  },
  {
   "cell_type": "code",
   "execution_count": 25,
   "id": "2a75c57e",
   "metadata": {},
   "outputs": [],
   "source": [
    "list_1 = [1,2,3]\n",
    "list_2 = [4,5,6]\n",
    "list_3 = [7,8,9]"
   ]
  },
  {
   "cell_type": "code",
   "execution_count": 26,
   "id": "7d1c15e3",
   "metadata": {},
   "outputs": [],
   "source": [
    "matrix = [list_1, list_2, list_3]"
   ]
  },
  {
   "cell_type": "code",
   "execution_count": 29,
   "id": "d97b543a",
   "metadata": {},
   "outputs": [
    {
     "data": {
      "text/plain": [
       "2"
      ]
     },
     "execution_count": 29,
     "metadata": {},
     "output_type": "execute_result"
    }
   ],
   "source": [
    "matrix[0][1]"
   ]
  },
  {
   "cell_type": "code",
   "execution_count": 36,
   "id": "648fd184",
   "metadata": {},
   "outputs": [],
   "source": [
    "my_dict = {'key1':'value1','key2':'value2','key3':[1,2,3,4]}"
   ]
  },
  {
   "cell_type": "code",
   "execution_count": 38,
   "id": "35619141",
   "metadata": {},
   "outputs": [
    {
     "data": {
      "text/plain": [
       "2"
      ]
     },
     "execution_count": 38,
     "metadata": {},
     "output_type": "execute_result"
    }
   ],
   "source": [
    "my_dict['key3'][1]"
   ]
  },
  {
   "cell_type": "code",
   "execution_count": 39,
   "id": "f223abb0",
   "metadata": {},
   "outputs": [
    {
     "data": {
      "text/plain": [
       "[1, 2, 3]"
      ]
     },
     "execution_count": 39,
     "metadata": {},
     "output_type": "execute_result"
    }
   ],
   "source": [
    "my_list"
   ]
  },
  {
   "cell_type": "code",
   "execution_count": 42,
   "id": "fa7004d6",
   "metadata": {},
   "outputs": [],
   "source": [
    "my_list[1] = 'String'"
   ]
  },
  {
   "cell_type": "code",
   "execution_count": 43,
   "id": "6e76ede5",
   "metadata": {},
   "outputs": [
    {
     "data": {
      "text/plain": [
       "[1, 'String', 3]"
      ]
     },
     "execution_count": 43,
     "metadata": {},
     "output_type": "execute_result"
    }
   ],
   "source": [
    "my_list"
   ]
  },
  {
   "cell_type": "code",
   "execution_count": 46,
   "id": "258a6836",
   "metadata": {},
   "outputs": [],
   "source": [
    "tup = (1,2,3)"
   ]
  },
  {
   "cell_type": "code",
   "execution_count": 47,
   "id": "30208260",
   "metadata": {},
   "outputs": [],
   "source": [
    "x = set()\n",
    "x.add(1)\n",
    "x.add(2)"
   ]
  },
  {
   "cell_type": "code",
   "execution_count": 48,
   "id": "013d43d4",
   "metadata": {},
   "outputs": [
    {
     "data": {
      "text/plain": [
       "{1, 2}"
      ]
     },
     "execution_count": 48,
     "metadata": {},
     "output_type": "execute_result"
    }
   ],
   "source": [
    "x"
   ]
  },
  {
   "cell_type": "code",
   "execution_count": 53,
   "id": "c284cb19",
   "metadata": {},
   "outputs": [],
   "source": [
    "my_list.append(100) "
   ]
  },
  {
   "cell_type": "code",
   "execution_count": 55,
   "id": "04501278",
   "metadata": {},
   "outputs": [
    {
     "data": {
      "text/plain": [
       "100"
      ]
     },
     "execution_count": 55,
     "metadata": {},
     "output_type": "execute_result"
    }
   ],
   "source": [
    "my_list.pop(4)"
   ]
  },
  {
   "cell_type": "code",
   "execution_count": 56,
   "id": "f4dacf82",
   "metadata": {},
   "outputs": [],
   "source": [
    "new_list = [1,1,2,3,4,4,100,100,5,3]"
   ]
  },
  {
   "cell_type": "code",
   "execution_count": 59,
   "id": "002c2d61",
   "metadata": {},
   "outputs": [],
   "source": [
    "new_list = set(new_list)"
   ]
  },
  {
   "cell_type": "code",
   "execution_count": 60,
   "id": "e07002a2",
   "metadata": {},
   "outputs": [
    {
     "data": {
      "text/plain": [
       "{1, 2, 3, 4, 5, 100}"
      ]
     },
     "execution_count": 60,
     "metadata": {},
     "output_type": "execute_result"
    }
   ],
   "source": [
    "new_list"
   ]
  },
  {
   "cell_type": "code",
   "execution_count": 62,
   "id": "15b07350",
   "metadata": {},
   "outputs": [
    {
     "name": "stdout",
     "output_type": "stream",
     "text": [
      "2file.txt  basics.ipynb         OOPS.ipynb      Revision.ipynb  Untitled.ipynb\r\n",
      "3file.txt  first.txt            practice.ipynb  test.txt\r\n",
      "Anand.txt  Higher_topics.ipynb  programs.ipynb  Today.txt\r\n"
     ]
    }
   ],
   "source": [
    "ls"
   ]
  },
  {
   "cell_type": "code",
   "execution_count": 66,
   "id": "0f11e7c1",
   "metadata": {},
   "outputs": [],
   "source": [
    "my_file = open('2file.txt')"
   ]
  },
  {
   "cell_type": "code",
   "execution_count": 67,
   "id": "c4b0d185",
   "metadata": {},
   "outputs": [
    {
     "data": {
      "text/plain": [
       "'Line1\\nLine2\\nLine3\\n\\nLine4\\nLine5'"
      ]
     },
     "execution_count": 67,
     "metadata": {},
     "output_type": "execute_result"
    }
   ],
   "source": [
    "my_file.read()"
   ]
  },
  {
   "cell_type": "code",
   "execution_count": 68,
   "id": "d6c9d55c",
   "metadata": {},
   "outputs": [
    {
     "data": {
      "text/plain": [
       "0"
      ]
     },
     "execution_count": 68,
     "metadata": {},
     "output_type": "execute_result"
    }
   ],
   "source": [
    "my_file.seek(0)"
   ]
  },
  {
   "cell_type": "code",
   "execution_count": 69,
   "id": "e5ffbc4b",
   "metadata": {},
   "outputs": [
    {
     "data": {
      "text/plain": [
       "'Line1\\nLine2\\nLine3\\n\\nLine4\\nLine5'"
      ]
     },
     "execution_count": 69,
     "metadata": {},
     "output_type": "execute_result"
    }
   ],
   "source": [
    "my_file.read()"
   ]
  },
  {
   "cell_type": "code",
   "execution_count": 71,
   "id": "678c773a",
   "metadata": {},
   "outputs": [],
   "source": [
    "my_file.close()"
   ]
  },
  {
   "cell_type": "code",
   "execution_count": 72,
   "id": "c0b2d54d",
   "metadata": {},
   "outputs": [],
   "source": [
    "del(my_file)"
   ]
  },
  {
   "cell_type": "code",
   "execution_count": 73,
   "id": "c4657ac0",
   "metadata": {},
   "outputs": [],
   "source": [
    "my_file = open('2file.txt','r')"
   ]
  },
  {
   "cell_type": "code",
   "execution_count": 74,
   "id": "43a264c5",
   "metadata": {},
   "outputs": [
    {
     "data": {
      "text/plain": [
       "'Line1\\nLine2\\nLine3\\n\\nLine4\\nLine5'"
      ]
     },
     "execution_count": 74,
     "metadata": {},
     "output_type": "execute_result"
    }
   ],
   "source": [
    "my_file.read()"
   ]
  },
  {
   "cell_type": "code",
   "execution_count": 75,
   "id": "abbb529b",
   "metadata": {},
   "outputs": [
    {
     "data": {
      "text/plain": [
       "0"
      ]
     },
     "execution_count": 75,
     "metadata": {},
     "output_type": "execute_result"
    }
   ],
   "source": [
    "my_file.seek(0)"
   ]
  },
  {
   "cell_type": "code",
   "execution_count": 76,
   "id": "07e226d6",
   "metadata": {},
   "outputs": [],
   "source": [
    "my_file.close()"
   ]
  },
  {
   "cell_type": "code",
   "execution_count": 77,
   "id": "e9b4ac0c",
   "metadata": {},
   "outputs": [],
   "source": [
    "my_file = open('2file.txt','w+')"
   ]
  },
  {
   "cell_type": "code",
   "execution_count": 78,
   "id": "70deaa6f",
   "metadata": {},
   "outputs": [
    {
     "data": {
      "text/plain": [
       "70"
      ]
     },
     "execution_count": 78,
     "metadata": {},
     "output_type": "execute_result"
    }
   ],
   "source": [
    "my_file.write(\"Deleted old line and added this line coz the file is opened in w+ mode\")"
   ]
  },
  {
   "cell_type": "code",
   "execution_count": 79,
   "id": "df035c8f",
   "metadata": {},
   "outputs": [
    {
     "data": {
      "text/plain": [
       "0"
      ]
     },
     "execution_count": 79,
     "metadata": {},
     "output_type": "execute_result"
    }
   ],
   "source": [
    "my_file.seek(0)"
   ]
  },
  {
   "cell_type": "code",
   "execution_count": 80,
   "id": "b1493672",
   "metadata": {},
   "outputs": [
    {
     "data": {
      "text/plain": [
       "'Deleted old line and added this line coz the file is opened in w+ mode'"
      ]
     },
     "execution_count": 80,
     "metadata": {},
     "output_type": "execute_result"
    }
   ],
   "source": [
    "my_file.read()"
   ]
  },
  {
   "cell_type": "code",
   "execution_count": 81,
   "id": "337b1cc6",
   "metadata": {},
   "outputs": [
    {
     "name": "stdout",
     "output_type": "stream",
     "text": [
      "Writing new.txt\n"
     ]
    }
   ],
   "source": [
    "%%writefile new.txt\n",
    "This is written as a practice\n",
    "The lines added will later be deleted if the file is opened in w+ mode"
   ]
  },
  {
   "cell_type": "code",
   "execution_count": 82,
   "id": "003d0c32",
   "metadata": {},
   "outputs": [],
   "source": [
    "my_file = open('new.txt','r')"
   ]
  },
  {
   "cell_type": "code",
   "execution_count": 85,
   "id": "8bb2f83d",
   "metadata": {},
   "outputs": [
    {
     "data": {
      "text/plain": [
       "[]"
      ]
     },
     "execution_count": 85,
     "metadata": {},
     "output_type": "execute_result"
    }
   ],
   "source": [
    "my_file.readlines()"
   ]
  },
  {
   "cell_type": "code",
   "execution_count": 86,
   "id": "ec381d57",
   "metadata": {},
   "outputs": [
    {
     "data": {
      "text/plain": [
       "0"
      ]
     },
     "execution_count": 86,
     "metadata": {},
     "output_type": "execute_result"
    }
   ],
   "source": [
    "my_file.seek(0)"
   ]
  },
  {
   "cell_type": "code",
   "execution_count": 87,
   "id": "c0ca863e",
   "metadata": {},
   "outputs": [
    {
     "data": {
      "text/plain": [
       "['This is written as a practice\\n',\n",
       " 'The lines added will later be deleted if the file is opened in w+ mode\\n']"
      ]
     },
     "execution_count": 87,
     "metadata": {},
     "output_type": "execute_result"
    }
   ],
   "source": [
    "my_file.readlines()"
   ]
  },
  {
   "cell_type": "code",
   "execution_count": 89,
   "id": "a894a91c",
   "metadata": {},
   "outputs": [
    {
     "data": {
      "text/plain": [
       "0"
      ]
     },
     "execution_count": 89,
     "metadata": {},
     "output_type": "execute_result"
    }
   ],
   "source": [
    "my_file.seek(0)"
   ]
  },
  {
   "cell_type": "code",
   "execution_count": 90,
   "id": "7a018be4",
   "metadata": {},
   "outputs": [],
   "source": [
    "my_file.close()"
   ]
  },
  {
   "cell_type": "code",
   "execution_count": 91,
   "id": "afb9669c",
   "metadata": {},
   "outputs": [
    {
     "name": "stdout",
     "output_type": "stream",
     "text": [
      "Appending to new.txt\n"
     ]
    }
   ],
   "source": [
    "%%writefile -a new.txt\n",
    "New line 1\n",
    "New line 2"
   ]
  },
  {
   "cell_type": "code",
   "execution_count": 93,
   "id": "6a27cfc8",
   "metadata": {},
   "outputs": [],
   "source": [
    "my_file = open('test.txt','r')"
   ]
  },
  {
   "cell_type": "code",
   "execution_count": 94,
   "id": "9681e8a8",
   "metadata": {},
   "outputs": [
    {
     "data": {
      "text/plain": [
       "'This sould be the second lineBut actually this is the second line\\nBut actually this is the second lineBut actually this is the second lineThis is magic appending\\nIt allows us to append the new data after the original data. \\nAgain few new lines\\nAnd many more\\n'"
      ]
     },
     "execution_count": 94,
     "metadata": {},
     "output_type": "execute_result"
    }
   ],
   "source": [
    "my_file.read()"
   ]
  },
  {
   "cell_type": "code",
   "execution_count": 95,
   "id": "2924ebb4",
   "metadata": {},
   "outputs": [],
   "source": [
    "my_file.close()"
   ]
  },
  {
   "cell_type": "code",
   "execution_count": 2,
   "id": "b85a6c07",
   "metadata": {},
   "outputs": [
    {
     "name": "stdout",
     "output_type": "stream",
     "text": [
      "Enter the number.true\n",
      "User entered true\n"
     ]
    }
   ],
   "source": [
    "usr_inp = input(\"Enter the number.\")\n",
    "if usr_inp == 'True':\n",
    "    print(\"User entered true\")\n",
    "else:\n",
    "    print(\"User entered false\")"
   ]
  },
  {
   "cell_type": "code",
   "execution_count": 4,
   "id": "0b8e8c44",
   "metadata": {},
   "outputs": [
    {
     "name": "stdout",
     "output_type": "stream",
     "text": [
      "Enter the input1\n",
      "Yess\n"
     ]
    }
   ],
   "source": [
    "ussr_ip = input(\"Enter the input\")\n",
    "if ussr_ip:\n",
    "    print(\"Yess\")\n",
    "else:\n",
    "    print(\"No\")"
   ]
  },
  {
   "cell_type": "code",
   "execution_count": 6,
   "id": "e306063a",
   "metadata": {},
   "outputs": [
    {
     "name": "stdout",
     "output_type": "stream",
     "text": [
      "2\n",
      "4\n",
      "6\n"
     ]
    }
   ],
   "source": [
    "my_tup = ((1,2),(3,4),(5,6))\n",
    "for left,right in my_tup:\n",
    "    print(right)"
   ]
  },
  {
   "cell_type": "code",
   "execution_count": null,
   "id": "da4afa0f",
   "metadata": {},
   "outputs": [],
   "source": [
    "x = 0\n",
    "while x<10:\n",
    "    print('The current value of x is {}'.format(x))\n",
    "    x = x + 1\n",
    "    "
   ]
  },
  {
   "cell_type": "code",
   "execution_count": null,
   "id": "8c957c54",
   "metadata": {},
   "outputs": [],
   "source": [
    "x = 0\n",
    "\n",
    "while x < 10:\n",
    "    print('x is currently: ',x)\n",
    "    print(' x is still less than 10, adding 1 to x')\n",
    "    x+=1"
   ]
  },
  {
   "cell_type": "code",
   "execution_count": null,
   "id": "08839d76",
   "metadata": {},
   "outputs": [],
   "source": [
    "print(\"Hello\")"
   ]
  },
  {
   "cell_type": "code",
   "execution_count": null,
   "id": "45295c95",
   "metadata": {},
   "outputs": [],
   "source": []
  },
  {
   "cell_type": "code",
   "execution_count": null,
   "id": "e4dded8a",
   "metadata": {},
   "outputs": [],
   "source": []
  },
  {
   "cell_type": "code",
   "execution_count": null,
   "id": "6f158e1e",
   "metadata": {},
   "outputs": [],
   "source": []
  }
 ],
 "metadata": {
  "kernelspec": {
   "display_name": "Python 3 (ipykernel)",
   "language": "python",
   "name": "python3"
  },
  "language_info": {
   "codemirror_mode": {
    "name": "ipython",
    "version": 3
   },
   "file_extension": ".py",
   "mimetype": "text/x-python",
   "name": "python",
   "nbconvert_exporter": "python",
   "pygments_lexer": "ipython3",
   "version": "3.9.7"
  }
 },
 "nbformat": 4,
 "nbformat_minor": 5
}
