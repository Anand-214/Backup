{
 "cells": [
  {
   "cell_type": "code",
   "execution_count": 48,
   "id": "e9dc47c7",
   "metadata": {},
   "outputs": [],
   "source": [
    "class Line():\n",
    "    def __init__ (self,coor1,coor2):\n",
    "        self.coor1 = coor1\n",
    "        self.coor2 = coor2\n",
    "    \n",
    "    def distance(self):\n",
    "        x1,y1 = self.coor1\n",
    "        x2,y2 = self.coor2\n",
    "        return ((x1-x1)**2 + (y2-y1)**2)**0.5\n",
    "    \n",
    "    def slope (self):\n",
    "        x1,y1 = self.coor1\n",
    "        x2,y2 = self.coor2\n",
    "        return (y2-y1)/(x2-x1)"
   ]
  },
  {
   "cell_type": "code",
   "execution_count": 14,
   "id": "362b65e4",
   "metadata": {},
   "outputs": [],
   "source": [
    "coor1 = (2,3)\n",
    "coor2 = (15,10)\n",
    "\n",
    "l1 = Line(coor1,coor2)"
   ]
  },
  {
   "cell_type": "code",
   "execution_count": 15,
   "id": "3b1f4297",
   "metadata": {},
   "outputs": [
    {
     "data": {
      "text/plain": [
       "7.0"
      ]
     },
     "execution_count": 15,
     "metadata": {},
     "output_type": "execute_result"
    }
   ],
   "source": [
    "l1.distance()"
   ]
  },
  {
   "cell_type": "code",
   "execution_count": 16,
   "id": "1f258e83",
   "metadata": {},
   "outputs": [
    {
     "data": {
      "text/plain": [
       "0.5384615384615384"
      ]
     },
     "execution_count": 16,
     "metadata": {},
     "output_type": "execute_result"
    }
   ],
   "source": [
    "l1.slope()"
   ]
  },
  {
   "cell_type": "code",
   "execution_count": 56,
   "id": "ac22c5ee",
   "metadata": {},
   "outputs": [
    {
     "data": {
      "text/plain": [
       "(2, 3)"
      ]
     },
     "execution_count": 56,
     "metadata": {},
     "output_type": "execute_result"
    }
   ],
   "source": [
    "l1.coor1"
   ]
  },
  {
   "cell_type": "code",
   "execution_count": null,
   "id": "6ecc79f0",
   "metadata": {},
   "outputs": [],
   "source": []
  },
  {
   "cell_type": "code",
   "execution_count": null,
   "id": "17e2b1b8",
   "metadata": {},
   "outputs": [],
   "source": []
  },
  {
   "cell_type": "code",
   "execution_count": 75,
   "id": "aa5ba41d",
   "metadata": {},
   "outputs": [],
   "source": [
    "class Cylinder ():\n",
    "    pi = 3.14\n",
    "\n",
    "    def __init__ (self,radius=1,height=1):\n",
    "        self.radius = radius\n",
    "        self.height = height\n",
    "        \n",
    "    def volume (self):\n",
    "        return self.pi*(self.radius)**2*self.height\n",
    "    \n",
    "    def surface_area (self):\n",
    "        return (2*self.pi*self.radius*self.height)+(2*self.pi*(self.radius)**2)"
   ]
  },
  {
   "cell_type": "code",
   "execution_count": 76,
   "id": "f00a2214",
   "metadata": {},
   "outputs": [],
   "source": [
    "my_cylinder = Cylinder(2,3)"
   ]
  },
  {
   "cell_type": "code",
   "execution_count": 77,
   "id": "4bd1d8d8",
   "metadata": {},
   "outputs": [
    {
     "data": {
      "text/plain": [
       "37.68"
      ]
     },
     "execution_count": 77,
     "metadata": {},
     "output_type": "execute_result"
    }
   ],
   "source": [
    "my_cylinder.volume()"
   ]
  },
  {
   "cell_type": "code",
   "execution_count": 78,
   "id": "6f7bbe9e",
   "metadata": {},
   "outputs": [
    {
     "data": {
      "text/plain": [
       "62.8"
      ]
     },
     "execution_count": 78,
     "metadata": {},
     "output_type": "execute_result"
    }
   ],
   "source": [
    "my_cylinder.surface_area()"
   ]
  },
  {
   "cell_type": "code",
   "execution_count": null,
   "id": "57161aea",
   "metadata": {},
   "outputs": [],
   "source": []
  },
  {
   "cell_type": "code",
   "execution_count": 79,
   "id": "5af965d6",
   "metadata": {},
   "outputs": [],
   "source": [
    "#OOP challenge . Bank Account "
   ]
  },
  {
   "cell_type": "code",
   "execution_count": 111,
   "id": "d4f697fd",
   "metadata": {},
   "outputs": [],
   "source": [
    "class Bank_acc ():\n",
    "    \n",
    "    def __init__ (self, owner, balance=0):\n",
    "        self.owner = owner\n",
    "        self.balance = balance\n",
    "    \n",
    "    def __str__(self):\n",
    "        return (f' Owner : {self.owner} \\n Balance : {self.balance} rupees')\n",
    "    \n",
    "    def __len__(self):\n",
    "        return (self.balance)\n",
    "    \n",
    "    def Deposit (self, depo_amt):\n",
    "        self.balance = self.balance + depo_amt\n",
    "        print('Deposit Accepted')\n",
    "        \n",
    "    def Withdraw (self, with_amt):\n",
    "        if with_amt <= self.balance:\n",
    "            self.balance -= with_amt\n",
    "            print('Available Balance = {}'.format(self.balance))\n",
    "            print('Withdraw successful.')\n",
    "        else:\n",
    "            print('Insufficient Balance.')\n",
    "        \n",
    "        "
   ]
  },
  {
   "cell_type": "code",
   "execution_count": 112,
   "id": "018befa5",
   "metadata": {},
   "outputs": [],
   "source": [
    "my_acc = Bank_acc(\"Anand\",25000)"
   ]
  },
  {
   "cell_type": "code",
   "execution_count": 113,
   "id": "28ebfeee",
   "metadata": {},
   "outputs": [
    {
     "data": {
      "text/plain": [
       "25000"
      ]
     },
     "execution_count": 113,
     "metadata": {},
     "output_type": "execute_result"
    }
   ],
   "source": [
    "my_acc.balance"
   ]
  },
  {
   "cell_type": "code",
   "execution_count": 114,
   "id": "1c613060",
   "metadata": {},
   "outputs": [
    {
     "data": {
      "text/plain": [
       "'Anand'"
      ]
     },
     "execution_count": 114,
     "metadata": {},
     "output_type": "execute_result"
    }
   ],
   "source": [
    "my_acc.owner"
   ]
  },
  {
   "cell_type": "code",
   "execution_count": 115,
   "id": "15624a1d",
   "metadata": {},
   "outputs": [
    {
     "name": "stdout",
     "output_type": "stream",
     "text": [
      "Deposit Accepted\n"
     ]
    }
   ],
   "source": [
    "my_acc.Deposit(100000)"
   ]
  },
  {
   "cell_type": "code",
   "execution_count": 116,
   "id": "730b191b",
   "metadata": {},
   "outputs": [
    {
     "data": {
      "text/plain": [
       "125000"
      ]
     },
     "execution_count": 116,
     "metadata": {},
     "output_type": "execute_result"
    }
   ],
   "source": [
    "my_acc.balance"
   ]
  },
  {
   "cell_type": "code",
   "execution_count": 117,
   "id": "38ff8a41",
   "metadata": {},
   "outputs": [
    {
     "name": "stdout",
     "output_type": "stream",
     "text": [
      "Insufficient Balance.\n"
     ]
    }
   ],
   "source": [
    "my_acc.Withdraw(1000000)"
   ]
  },
  {
   "cell_type": "code",
   "execution_count": 118,
   "id": "2516296a",
   "metadata": {},
   "outputs": [
    {
     "name": "stdout",
     "output_type": "stream",
     "text": [
      " Owner : Anand \n",
      " Balance : 125000 rupees\n"
     ]
    }
   ],
   "source": [
    "print(my_acc)"
   ]
  },
  {
   "cell_type": "code",
   "execution_count": null,
   "id": "2871f912",
   "metadata": {},
   "outputs": [],
   "source": []
  },
  {
   "cell_type": "code",
   "execution_count": null,
   "id": "636fc68f",
   "metadata": {},
   "outputs": [],
   "source": []
  },
  {
   "cell_type": "code",
   "execution_count": 1,
   "id": "aa7e26d9",
   "metadata": {},
   "outputs": [],
   "source": [
    "class Line ():\n",
    "    def __init__ (self,coor1,coor2):\n",
    "        self.coor1 = coor1\n",
    "        self.coor2 = coor2\n",
    "    \n",
    "    def distance (self):\n",
    "        x1,y1 = self.coor1\n",
    "        x2,y2 = self.coor2\n",
    "        return ((x1-x1)**2 + (y2-y1)**2)**0.5\n",
    "    \n",
    "    def slope (self):\n",
    "        x1,y1 = self.coor1\n",
    "        x2,y2 = self.coor2\n",
    "        return (y2-y1)/(x2-x1)\n",
    "        "
   ]
  },
  {
   "cell_type": "code",
   "execution_count": 8,
   "id": "59ac1ae8",
   "metadata": {},
   "outputs": [],
   "source": [
    "coordinate1 = (2,3)\n",
    "coordinate2 = (12,10)\n",
    "\n",
    "my_line = Line(coordinate1,coordinate2)"
   ]
  },
  {
   "cell_type": "code",
   "execution_count": 10,
   "id": "8d61fe2d",
   "metadata": {},
   "outputs": [
    {
     "data": {
      "text/plain": [
       "7.0"
      ]
     },
     "execution_count": 10,
     "metadata": {},
     "output_type": "execute_result"
    }
   ],
   "source": [
    "my_line.distance()"
   ]
  },
  {
   "cell_type": "code",
   "execution_count": 13,
   "id": "5f9700e5",
   "metadata": {},
   "outputs": [
    {
     "data": {
      "text/plain": [
       "0.7"
      ]
     },
     "execution_count": 13,
     "metadata": {},
     "output_type": "execute_result"
    }
   ],
   "source": [
    "my_line.slope()"
   ]
  },
  {
   "cell_type": "code",
   "execution_count": 18,
   "id": "2b88d144",
   "metadata": {},
   "outputs": [
    {
     "data": {
      "text/plain": [
       "1"
      ]
     },
     "execution_count": 18,
     "metadata": {},
     "output_type": "execute_result"
    }
   ],
   "source": [
    "7//4"
   ]
  },
  {
   "cell_type": "code",
   "execution_count": null,
   "id": "fd764323",
   "metadata": {},
   "outputs": [],
   "source": []
  },
  {
   "cell_type": "code",
   "execution_count": null,
   "id": "b6f8c824",
   "metadata": {},
   "outputs": [],
   "source": []
  },
  {
   "cell_type": "code",
   "execution_count": 1,
   "id": "c4961bdb",
   "metadata": {},
   "outputs": [],
   "source": [
    "def greetings (name):\n",
    "    print(f'The name passed to the function is {name}')"
   ]
  },
  {
   "cell_type": "code",
   "execution_count": 2,
   "id": "471e0457",
   "metadata": {},
   "outputs": [
    {
     "name": "stdout",
     "output_type": "stream",
     "text": [
      "The name passed to the function is Jose\n"
     ]
    }
   ],
   "source": [
    "greetings('Jose')"
   ]
  },
  {
   "cell_type": "code",
   "execution_count": null,
   "id": "09b0b970",
   "metadata": {},
   "outputs": [],
   "source": []
  },
  {
   "cell_type": "code",
   "execution_count": null,
   "id": "b8adeba4",
   "metadata": {},
   "outputs": [],
   "source": [
    "class Line ():\n",
    "    def __init__ (self,coor1,coor2):\n",
    "        self.coor1 = coor1\n",
    "        self.coor2 = coor2\n",
    "    \n",
    "    def distance (self):\n",
    "        x1,y1 = self.coor1\n",
    "        x2,y2 = self.coor2\n",
    "        return ((x2-x1)**2 + (y2-y1)**2)**0.5"
   ]
  },
  {
   "cell_type": "code",
   "execution_count": 5,
   "id": "24058aea",
   "metadata": {},
   "outputs": [],
   "source": [
    "class Line():\n",
    "    def __init__ (self,coor1,coor2):\n",
    "        self.coor1 = coor1\n",
    "        self.coor2 = coor2\n",
    "    \n",
    "    def distance(self):\n",
    "        x1,y1 = self.coor1\n",
    "        x2,y2 = self.coor2\n",
    "        return ((x2-x1)**2 + (y2-y1)**2)**0.5"
   ]
  },
  {
   "cell_type": "code",
   "execution_count": 15,
   "id": "9e117b90",
   "metadata": {},
   "outputs": [],
   "source": [
    "coor1 = (2,3)\n",
    "coor2 = (8,9)\n",
    "res = Line(coor1,coor2)"
   ]
  },
  {
   "cell_type": "code",
   "execution_count": 16,
   "id": "0ecf46ea",
   "metadata": {},
   "outputs": [
    {
     "data": {
      "text/plain": [
       "8.48528137423857"
      ]
     },
     "execution_count": 16,
     "metadata": {},
     "output_type": "execute_result"
    }
   ],
   "source": [
    "res.distance()"
   ]
  },
  {
   "cell_type": "code",
   "execution_count": null,
   "id": "fb2e3884",
   "metadata": {},
   "outputs": [],
   "source": []
  },
  {
   "cell_type": "code",
   "execution_count": 17,
   "id": "17ae04d9",
   "metadata": {},
   "outputs": [],
   "source": [
    "def reverse_func(my_str):\n",
    "    return my_str[::-1]"
   ]
  },
  {
   "cell_type": "code",
   "execution_count": 18,
   "id": "d04a1653",
   "metadata": {},
   "outputs": [],
   "source": [
    "res = reverse_func(\"Anand\")"
   ]
  },
  {
   "cell_type": "code",
   "execution_count": 19,
   "id": "5f8411be",
   "metadata": {},
   "outputs": [
    {
     "data": {
      "text/plain": [
       "'dnanA'"
      ]
     },
     "execution_count": 19,
     "metadata": {},
     "output_type": "execute_result"
    }
   ],
   "source": [
    "res"
   ]
  },
  {
   "cell_type": "code",
   "execution_count": 20,
   "id": "350e1750",
   "metadata": {},
   "outputs": [],
   "source": [
    "my_doc = \"The return keyword allows you to actually save the result of the output of a function as a variable. The print() function simply displays the output to you, but doesn't save it for future use. Let's explore this in more detail\""
   ]
  },
  {
   "cell_type": "code",
   "execution_count": 21,
   "id": "5f6446b7",
   "metadata": {},
   "outputs": [
    {
     "data": {
      "text/plain": [
       "\"The return keyword allows you to actually save the result of the output of a function as a variable. The print() function simply displays the output to you, but doesn't save it for future use. Let's explore this in more detail\""
      ]
     },
     "execution_count": 21,
     "metadata": {},
     "output_type": "execute_result"
    }
   ],
   "source": [
    "\n"
   ]
  },
  {
   "cell_type": "code",
   "execution_count": null,
   "id": "809be368",
   "metadata": {},
   "outputs": [],
   "source": []
  },
  {
   "cell_type": "code",
   "execution_count": 24,
   "id": "a89fcb10",
   "metadata": {},
   "outputs": [
    {
     "name": "stdout",
     "output_type": "stream",
     "text": [
      "Writing my_file.txt\n"
     ]
    }
   ],
   "source": [
    "%%writefile my_file.txt\n",
    "Line1\n",
    "Line2\n",
    "Line3"
   ]
  },
  {
   "cell_type": "code",
   "execution_count": 31,
   "id": "8ac4ce41",
   "metadata": {},
   "outputs": [],
   "source": [
    "my_file1 = open('my_file.txt','w+')"
   ]
  },
  {
   "cell_type": "code",
   "execution_count": 33,
   "id": "1079db20",
   "metadata": {},
   "outputs": [
    {
     "data": {
      "text/plain": [
       "0"
      ]
     },
     "execution_count": 33,
     "metadata": {},
     "output_type": "execute_result"
    }
   ],
   "source": [
    "my_file1.seek(0)"
   ]
  },
  {
   "cell_type": "code",
   "execution_count": 34,
   "id": "fbcb2c81",
   "metadata": {},
   "outputs": [
    {
     "data": {
      "text/plain": [
       "''"
      ]
     },
     "execution_count": 34,
     "metadata": {},
     "output_type": "execute_result"
    }
   ],
   "source": [
    "my_file1.read()"
   ]
  },
  {
   "cell_type": "code",
   "execution_count": 38,
   "id": "2d4b702f",
   "metadata": {},
   "outputs": [
    {
     "name": "stdout",
     "output_type": "stream",
     "text": [
      "Its a OS error.\n",
      "Everything is running fine.\n"
     ]
    }
   ],
   "source": [
    "#error  handling\n",
    "try:\n",
    "    f = open('Anand.txt','r')\n",
    "    f.write(\"A new line added.\")\n",
    "except TypeError:\n",
    "    print('Its a type error.')\n",
    "except OSError:\n",
    "    print('Its a OS error.')\n",
    "finally:\n",
    "    print('Everything is running fine.')\n"
   ]
  },
  {
   "cell_type": "code",
   "execution_count": 40,
   "id": "7d4b32a6",
   "metadata": {},
   "outputs": [
    {
     "name": "stdout",
     "output_type": "stream",
     "text": [
      "enter a number:word\n",
      "Error: Its not a integer.\n",
      "End of try/except/finally.\n"
     ]
    }
   ],
   "source": [
    "#specific type of input from user\n",
    "try:\n",
    "    result = int(input(\"enter a number:\"))\n",
    "except:\n",
    "    print('Error: Its not a integer.')\n",
    "finally:\n",
    "    print('End of try/except/finally.')"
   ]
  },
  {
   "cell_type": "code",
   "execution_count": 41,
   "id": "ba333cd3",
   "metadata": {},
   "outputs": [
    {
     "name": "stdout",
     "output_type": "stream",
     "text": [
      "Enter a number:q\n",
      "Woops!! Its not a number.\n",
      "Every statement executed.\n",
      "Enter a number:e\n",
      "Woops!! Its not a number.\n",
      "Every statement executed.\n",
      "Enter a number:12\n",
      "Yes!!Thank you.\n",
      "Every statement executed.\n"
     ]
    }
   ],
   "source": [
    "#continue option \n",
    "while True:\n",
    "    try:\n",
    "        res = int(input(\"Enter a number:\"))\n",
    "    except:\n",
    "        print('Woops!! Its not a number.')\n",
    "        continue\n",
    "    else:\n",
    "        print('Yes!!Thank you.')\n",
    "        break\n",
    "    finally:\n",
    "        print('Every statement executed.')"
   ]
  },
  {
   "cell_type": "code",
   "execution_count": 50,
   "id": "8c6ab9d3",
   "metadata": {},
   "outputs": [
    {
     "name": "stdout",
     "output_type": "stream",
     "text": [
      "aa\n",
      "bb\n",
      "cc\n"
     ]
    }
   ],
   "source": [
    "#Home-work for error handling\n",
    "try:\n",
    "    for i in ['a', 'b', 'c']:\n",
    "        print(i + i)\n",
    "except TypeError:\n",
    "    print('Its a TypeError. We cannot perform multiplication of the characters.')\n",
    "except:\n",
    "    print('Its a error.')\n",
    "\n",
    "    "
   ]
  },
  {
   "cell_type": "code",
   "execution_count": 61,
   "id": "3219011b",
   "metadata": {},
   "outputs": [
    {
     "name": "stdout",
     "output_type": "stream",
     "text": [
      "Cannot divide with zero.\n",
      "Divisor should be other than zero.\n",
      "All done\n"
     ]
    }
   ],
   "source": [
    "#problem2 using finally also\n",
    "try:\n",
    "    x = 5\n",
    "    y = 0\n",
    "    z = x/y\n",
    "except ZeroDivisionError:\n",
    "    print('Cannot divide with zero.\\nDivisor should be other than zero.')\n",
    "except SyntaxError:\n",
    "    print('Check Syntax Once again.')\n",
    "except:\n",
    "    print(\"Error.\")\n",
    "finally:\n",
    "    print('All done')"
   ]
  },
  {
   "cell_type": "code",
   "execution_count": 63,
   "id": "03187160",
   "metadata": {},
   "outputs": [
    {
     "name": "stdout",
     "output_type": "stream",
     "text": [
      "Enter a number:q\n",
      "An error occured, please enter integer..\n",
      "All done\n",
      "Enter a number:4\n",
      "The square of 4 is 16\n",
      "square done.\n",
      "All done\n"
     ]
    }
   ],
   "source": [
    "#ask for input as integer and return square of it. Also use except and finally if the ip isnt integer.\n",
    "while True:\n",
    "    try:\n",
    "        res = int(input('Enter a number:'))\n",
    "        print(f'The square of {res} is {res**2}')\n",
    "    except:\n",
    "        print(\"An error occured, please enter integer..\")\n",
    "        continue\n",
    "    else:\n",
    "        print('square done.')\n",
    "        break\n",
    "    finally:\n",
    "        print('All done')"
   ]
  },
  {
   "cell_type": "code",
   "execution_count": null,
   "id": "5bbdb161",
   "metadata": {},
   "outputs": [],
   "source": []
  },
  {
   "cell_type": "code",
   "execution_count": null,
   "id": "b55b497d",
   "metadata": {},
   "outputs": [],
   "source": []
  },
  {
   "cell_type": "code",
   "execution_count": 65,
   "id": "fb707731",
   "metadata": {},
   "outputs": [
    {
     "name": "stdout",
     "output_type": "stream",
     "text": [
      "Enter the number:12a\n",
      "An error occured, please enter integer..\n",
      "All done.\n",
      "Enter the number:5\n",
      "The cube of 5 is 125\n",
      "Cube calculated.\n",
      "All done.\n"
     ]
    }
   ],
   "source": [
    "#same as above return the cube (practice)\n",
    "while True:\n",
    "    try:\n",
    "        res = int(input('Enter the number:'))\n",
    "        print(f'The cube of {res} is {res**3}')\n",
    "    except:\n",
    "        print(\"An error occured, please enter integer..\")\n",
    "        continue\n",
    "    else:\n",
    "        print(\"Cube calculated.\")\n",
    "        break\n",
    "    finally:\n",
    "        print(\"All done.\")"
   ]
  },
  {
   "cell_type": "code",
   "execution_count": 68,
   "id": "fa65d10b",
   "metadata": {},
   "outputs": [
    {
     "data": {
      "text/plain": [
       "'Anand'"
      ]
     },
     "execution_count": 68,
     "metadata": {},
     "output_type": "execute_result"
    }
   ],
   "source": [
    "text = \"anand\"\n",
    "text.capitalize()"
   ]
  },
  {
   "cell_type": "code",
   "execution_count": 69,
   "id": "a5ccee8d",
   "metadata": {},
   "outputs": [],
   "source": [
    "#decorators example\n",
    "def new_decorator(original_func):\n",
    "    def wrap_func ():\n",
    "        print('Before')\n",
    "        original_func()\n",
    "        print('After')\n",
    "    return wrap_func"
   ]
  },
  {
   "cell_type": "code",
   "execution_count": 70,
   "id": "25ad0d9e",
   "metadata": {},
   "outputs": [],
   "source": [
    "@new_decorator\n",
    "def needs_decorator ():\n",
    "    print('I am decorated')"
   ]
  },
  {
   "cell_type": "code",
   "execution_count": 71,
   "id": "3ad7aad5",
   "metadata": {},
   "outputs": [
    {
     "name": "stdout",
     "output_type": "stream",
     "text": [
      "Before\n",
      "I am decorated\n",
      "After\n"
     ]
    }
   ],
   "source": [
    "needs_decorator()"
   ]
  },
  {
   "cell_type": "code",
   "execution_count": 72,
   "id": "edfc5f67",
   "metadata": {},
   "outputs": [],
   "source": [
    "#generators"
   ]
  },
  {
   "cell_type": "code",
   "execution_count": 92,
   "id": "9599dd79",
   "metadata": {},
   "outputs": [],
   "source": [
    "def create_cubes(n):\n",
    "    result = []\n",
    "    for i in range(n):\n",
    "        yield i**3\n",
    "       \n",
    "    "
   ]
  },
  {
   "cell_type": "code",
   "execution_count": 95,
   "id": "99116787",
   "metadata": {},
   "outputs": [
    {
     "name": "stdout",
     "output_type": "stream",
     "text": [
      "0\n",
      "1\n",
      "8\n",
      "27\n",
      "64\n",
      "125\n",
      "216\n",
      "343\n",
      "512\n",
      "729\n"
     ]
    }
   ],
   "source": [
    "for item in create_cubes(10):\n",
    "    print(item)"
   ]
  },
  {
   "cell_type": "code",
   "execution_count": 87,
   "id": "52a9ef0a",
   "metadata": {},
   "outputs": [],
   "source": [
    "#generators fibo\n"
   ]
  },
  {
   "cell_type": "code",
   "execution_count": 88,
   "id": "9cae739f",
   "metadata": {},
   "outputs": [],
   "source": [
    "def fibo (n):\n",
    "    a = 0\n",
    "    b = 1\n",
    "    for i in range(n):\n",
    "        yield a\n",
    "        a,b = b,a+b"
   ]
  },
  {
   "cell_type": "code",
   "execution_count": 106,
   "id": "9761f0f6",
   "metadata": {},
   "outputs": [
    {
     "name": "stdout",
     "output_type": "stream",
     "text": [
      "0\n",
      "1\n",
      "1\n",
      "2\n",
      "3\n"
     ]
    }
   ],
   "source": [
    "for num in fibo(5):\n",
    "    print(num)"
   ]
  },
  {
   "cell_type": "code",
   "execution_count": 124,
   "id": "565cd4a1",
   "metadata": {},
   "outputs": [],
   "source": [
    "g = fibo(5)"
   ]
  },
  {
   "cell_type": "code",
   "execution_count": 125,
   "id": "9fee108c",
   "metadata": {},
   "outputs": [],
   "source": [
    "meanings = {\"Abuse\":\"To treat disrespectfully.\",\"Grant\":\"To give permission\",\"Tackle\":\"To handle the situation\"}"
   ]
  },
  {
   "cell_type": "code",
   "execution_count": 128,
   "id": "b768636a",
   "metadata": {},
   "outputs": [
    {
     "name": "stdout",
     "output_type": "stream",
     "text": [
      "To treat disrespectfully.\n"
     ]
    }
   ],
   "source": [
    "print(meanings[\"Abuse\"])"
   ]
  },
  {
   "cell_type": "code",
   "execution_count": 129,
   "id": "2c82fcab",
   "metadata": {},
   "outputs": [],
   "source": [
    "from collections import namedtuple"
   ]
  },
  {
   "cell_type": "code",
   "execution_count": 130,
   "id": "d88ea163",
   "metadata": {},
   "outputs": [],
   "source": [
    "Dog = namedtuple('Dog',['age','breed','name'])"
   ]
  },
  {
   "cell_type": "code",
   "execution_count": 131,
   "id": "e491bf1b",
   "metadata": {},
   "outputs": [],
   "source": [
    "sammy = Dog(age=5,breed='husky',name='Sammy')"
   ]
  },
  {
   "cell_type": "code",
   "execution_count": 135,
   "id": "87f70503",
   "metadata": {},
   "outputs": [
    {
     "data": {
      "text/plain": [
       "'Sammy'"
      ]
     },
     "execution_count": 135,
     "metadata": {},
     "output_type": "execute_result"
    }
   ],
   "source": [
    "sammy.name"
   ]
  },
  {
   "cell_type": "code",
   "execution_count": 1,
   "id": "9de1d5d7",
   "metadata": {},
   "outputs": [
    {
     "name": "stdout",
     "output_type": "stream",
     "text": [
      "hello\n",
      "how\n",
      "are\n",
      "you\n"
     ]
    }
   ],
   "source": [
    "my_list = [\"hello\",\"how\",\"are\",\"you\"]\n",
    "for i in my_list:\n",
    "    print(i)"
   ]
  },
  {
   "cell_type": "code",
   "execution_count": null,
   "id": "8de91a30",
   "metadata": {},
   "outputs": [],
   "source": []
  }
 ],
 "metadata": {
  "kernelspec": {
   "display_name": "Python 3 (ipykernel)",
   "language": "python",
   "name": "python3"
  },
  "language_info": {
   "codemirror_mode": {
    "name": "ipython",
    "version": 3
   },
   "file_extension": ".py",
   "mimetype": "text/x-python",
   "name": "python",
   "nbconvert_exporter": "python",
   "pygments_lexer": "ipython3",
   "version": "3.9.7"
  }
 },
 "nbformat": 4,
 "nbformat_minor": 5
}
