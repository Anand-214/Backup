{
 "cells": [
  {
   "cell_type": "code",
   "execution_count": 1,
   "id": "a0ec0902",
   "metadata": {},
   "outputs": [
    {
     "data": {
      "text/plain": [
       "'C:\\\\Users\\\\hp\\\\My python stuff'"
      ]
     },
     "execution_count": 1,
     "metadata": {},
     "output_type": "execute_result"
    }
   ],
   "source": [
    "pwd\n"
   ]
  },
  {
   "cell_type": "code",
   "execution_count": 2,
   "id": "57540177",
   "metadata": {},
   "outputs": [],
   "source": [
    "f = open('practice.txt','w+')"
   ]
  },
  {
   "cell_type": "code",
   "execution_count": 3,
   "id": "357cfa10",
   "metadata": {},
   "outputs": [],
   "source": [
    "f.write('This is a test string')\n",
    "f.close()"
   ]
  },
  {
   "cell_type": "code",
   "execution_count": 4,
   "id": "79529b98",
   "metadata": {},
   "outputs": [],
   "source": [
    "import os\n"
   ]
  },
  {
   "cell_type": "code",
   "execution_count": 5,
   "id": "34e18f4a",
   "metadata": {},
   "outputs": [
    {
     "data": {
      "text/plain": [
       "'C:\\\\Users\\\\hp\\\\My python stuff'"
      ]
     },
     "execution_count": 5,
     "metadata": {},
     "output_type": "execute_result"
    }
   ],
   "source": [
    "os.getcwd()"
   ]
  },
  {
   "cell_type": "code",
   "execution_count": 6,
   "id": "4918e51c",
   "metadata": {},
   "outputs": [
    {
     "data": {
      "text/plain": [
       "['All Users',\n",
       " 'Default',\n",
       " 'Default User',\n",
       " 'desktop.ini',\n",
       " 'hp',\n",
       " 'Projects',\n",
       " 'Public']"
      ]
     },
     "execution_count": 6,
     "metadata": {},
     "output_type": "execute_result"
    }
   ],
   "source": [
    "os.listdir('C:\\\\Users')"
   ]
  },
  {
   "cell_type": "code",
   "execution_count": 7,
   "id": "7142fd63",
   "metadata": {},
   "outputs": [],
   "source": [
    "import shutil\n"
   ]
  },
  {
   "cell_type": "code",
   "execution_count": 9,
   "id": "19bca400",
   "metadata": {},
   "outputs": [
    {
     "data": {
      "text/plain": [
       "'C:\\\\Users\\\\hp\\\\practice.txt'"
      ]
     },
     "execution_count": 9,
     "metadata": {},
     "output_type": "execute_result"
    }
   ],
   "source": [
    "shutil.move('practice.txt','C:\\\\Users\\\\hp')"
   ]
  },
  {
   "cell_type": "code",
   "execution_count": 11,
   "id": "3021ddad",
   "metadata": {},
   "outputs": [
    {
     "data": {
      "text/plain": [
       "['.ipynb_checkpoints',\n",
       " '2file.txt',\n",
       " '3file.txt',\n",
       " 'Anand.txt',\n",
       " 'basics.ipynb',\n",
       " 'first.txt',\n",
       " 'Higher_topics.ipynb',\n",
       " 'my_file.txt',\n",
       " 'OOPS.ipynb',\n",
       " 'practice.ipynb',\n",
       " 'programs.ipynb',\n",
       " 'test.txt',\n",
       " 'Today.txt',\n",
       " 'Untitled.ipynb']"
      ]
     },
     "execution_count": 11,
     "metadata": {},
     "output_type": "execute_result"
    }
   ],
   "source": [
    "os.listdir()"
   ]
  },
  {
   "cell_type": "code",
   "execution_count": 12,
   "id": "2fa9d1c4",
   "metadata": {},
   "outputs": [],
   "source": [
    "import datetime\n"
   ]
  },
  {
   "cell_type": "code",
   "execution_count": 13,
   "id": "95add2a3",
   "metadata": {},
   "outputs": [],
   "source": [
    "mytime = datetime.time(2,20,56)"
   ]
  },
  {
   "cell_type": "code",
   "execution_count": 15,
   "id": "b9622574",
   "metadata": {},
   "outputs": [
    {
     "data": {
      "text/plain": [
       "2"
      ]
     },
     "execution_count": 15,
     "metadata": {},
     "output_type": "execute_result"
    }
   ],
   "source": [
    "mytime.hour"
   ]
  },
  {
   "cell_type": "code",
   "execution_count": 16,
   "id": "89d1db9f",
   "metadata": {},
   "outputs": [
    {
     "data": {
      "text/plain": [
       "20"
      ]
     },
     "execution_count": 16,
     "metadata": {},
     "output_type": "execute_result"
    }
   ],
   "source": [
    "mytime.minute"
   ]
  },
  {
   "cell_type": "code",
   "execution_count": 17,
   "id": "cce4fbe8",
   "metadata": {},
   "outputs": [
    {
     "data": {
      "text/plain": [
       "56"
      ]
     },
     "execution_count": 17,
     "metadata": {},
     "output_type": "execute_result"
    }
   ],
   "source": [
    "mytime.second"
   ]
  },
  {
   "cell_type": "code",
   "execution_count": 24,
   "id": "25c033b3",
   "metadata": {},
   "outputs": [],
   "source": [
    "today = datetime.date.today()"
   ]
  },
  {
   "cell_type": "code",
   "execution_count": 26,
   "id": "ae592b89",
   "metadata": {},
   "outputs": [
    {
     "name": "stdout",
     "output_type": "stream",
     "text": [
      "2022-04-19 02:20:56\n"
     ]
    }
   ],
   "source": [
    "print(today,mytime)"
   ]
  },
  {
   "cell_type": "code",
   "execution_count": 5,
   "id": "de7e3eb9",
   "metadata": {},
   "outputs": [
    {
     "data": {
      "text/plain": [
       "1.03"
      ]
     },
     "execution_count": 5,
     "metadata": {},
     "output_type": "execute_result"
    }
   ],
   "source": [
    "a = 1.0256\n",
    "round(a,2)"
   ]
  },
  {
   "cell_type": "code",
   "execution_count": 3,
   "id": "73df8da4",
   "metadata": {},
   "outputs": [
    {
     "data": {
      "text/plain": [
       "1.0256"
      ]
     },
     "execution_count": 3,
     "metadata": {},
     "output_type": "execute_result"
    }
   ],
   "source": [
    "a = 1.0256\n",
    "abs(a)"
   ]
  },
  {
   "cell_type": "code",
   "execution_count": 7,
   "id": "b5aebbc3",
   "metadata": {},
   "outputs": [
    {
     "name": "stdout",
     "output_type": "stream",
     "text": [
      "654321\n"
     ]
    }
   ],
   "source": [
    "\n",
    "str1 = \"123456\"\n",
    "print(str1[::-1])"
   ]
  },
  {
   "cell_type": "code",
   "execution_count": 14,
   "id": "abf4e5de",
   "metadata": {},
   "outputs": [
    {
     "name": "stdout",
     "output_type": "stream",
     "text": [
      "HELLO WORLD\n",
      "hello world\n",
      "['Hello ', 'orld']\n"
     ]
    }
   ],
   "source": [
    "str1 = \"Hello world\"\n",
    "print(str1.upper())\n",
    "print(str1.lower())\n",
    "print(str1.split('w'))\n"
   ]
  },
  {
   "cell_type": "code",
   "execution_count": 17,
   "id": "b2b1b165",
   "metadata": {},
   "outputs": [
    {
     "name": "stdout",
     "output_type": "stream",
     "text": [
      "4\n"
     ]
    }
   ],
   "source": [
    "list1 = ['string',100,[1,2,3,4,5]]\n",
    "print(list1[2][3])"
   ]
  },
  {
   "cell_type": "code",
   "execution_count": 19,
   "id": "91ec62f1",
   "metadata": {},
   "outputs": [],
   "source": [
    "dict1 = {'key1':100, 'key2': 200}"
   ]
  },
  {
   "cell_type": "code",
   "execution_count": 26,
   "id": "8a5e0009",
   "metadata": {},
   "outputs": [
    {
     "name": "stdout",
     "output_type": "stream",
     "text": [
      "dict_items([('key1', 1000), ('key2', 200)])\n"
     ]
    }
   ],
   "source": [
    "dict1['key1'] = 1000\n",
    "print(dict1.items())"
   ]
  },
  {
   "cell_type": "code",
   "execution_count": 29,
   "id": "dff28531",
   "metadata": {},
   "outputs": [
    {
     "name": "stdout",
     "output_type": "stream",
     "text": [
      "{1, 2, 3, 4, 5, 7, 10}\n",
      "<class 'set'>\n",
      "[1, 2, 3, 4, 5, 7, 10]\n"
     ]
    }
   ],
   "source": [
    "list1 = [1,2,3,1,2,3,4,4,5,7,10]\n",
    "new = set(list1)\n",
    "print(new)\n",
    "print(type(new))\n",
    "print(list(new))"
   ]
  },
  {
   "cell_type": "code",
   "execution_count": 34,
   "id": "cc389cf9",
   "metadata": {},
   "outputs": [
    {
     "name": "stdout",
     "output_type": "stream",
     "text": [
      "my name is hose\n",
      "<class 'str'>\n",
      "['my', 'name', 'is', 'hose']\n"
     ]
    }
   ],
   "source": [
    "list1 = ['my','name','is','hose']\n",
    "new_str = ' '.join(list1)\n",
    "print(new_str)\n",
    "print(type(new_str))\n",
    "print(new_str.split())"
   ]
  },
  {
   "cell_type": "code",
   "execution_count": null,
   "id": "dc703ec9",
   "metadata": {},
   "outputs": [],
   "source": []
  }
 ],
 "metadata": {
  "kernelspec": {
   "display_name": "Python 3 (ipykernel)",
   "language": "python",
   "name": "python3"
  },
  "language_info": {
   "codemirror_mode": {
    "name": "ipython",
    "version": 3
   },
   "file_extension": ".py",
   "mimetype": "text/x-python",
   "name": "python",
   "nbconvert_exporter": "python",
   "pygments_lexer": "ipython3",
   "version": "3.9.7"
  }
 },
 "nbformat": 4,
 "nbformat_minor": 5
}
