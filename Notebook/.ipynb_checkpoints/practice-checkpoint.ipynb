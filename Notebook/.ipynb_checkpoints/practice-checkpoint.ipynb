{
 "cells": [
  {
   "cell_type": "code",
   "execution_count": 1,
   "id": "3f5b788b",
   "metadata": {},
   "outputs": [],
   "source": [
    "courses = ['History','Geography','Maths']"
   ]
  },
  {
   "cell_type": "code",
   "execution_count": 5,
   "id": "b8d8471a",
   "metadata": {},
   "outputs": [
    {
     "name": "stdout",
     "output_type": "stream",
     "text": [
      "-1 History\n",
      "0 Geography\n",
      "1 Maths\n"
     ]
    }
   ],
   "source": [
    "for index,item in enumerate(courses,start=-1):\n",
    "    print(index,item)"
   ]
  },
  {
   "cell_type": "code",
   "execution_count": 7,
   "id": "6b5828c0",
   "metadata": {},
   "outputs": [
    {
     "name": "stdout",
     "output_type": "stream",
     "text": [
      "['History', 'Geography', 'Maths']\n"
     ]
    }
   ],
   "source": [
    "print(courses)"
   ]
  },
  {
   "cell_type": "code",
   "execution_count": 8,
   "id": "bf4b6420",
   "metadata": {},
   "outputs": [],
   "source": [
    "courses_str = ' - '.join(courses)"
   ]
  },
  {
   "cell_type": "code",
   "execution_count": 9,
   "id": "8eeb0abc",
   "metadata": {},
   "outputs": [
    {
     "name": "stdout",
     "output_type": "stream",
     "text": [
      "History - Geography - Maths\n"
     ]
    }
   ],
   "source": [
    "print(courses_str)"
   ]
  },
  {
   "cell_type": "code",
   "execution_count": 10,
   "id": "110785ed",
   "metadata": {},
   "outputs": [],
   "source": [
    "new_list = courses_str.split(' - ')"
   ]
  },
  {
   "cell_type": "code",
   "execution_count": 11,
   "id": "1809ffcd",
   "metadata": {},
   "outputs": [
    {
     "name": "stdout",
     "output_type": "stream",
     "text": [
      "['History', 'Geography', 'Maths']\n"
     ]
    }
   ],
   "source": [
    "print(new_list)"
   ]
  },
  {
   "cell_type": "code",
   "execution_count": 18,
   "id": "c58e7d54",
   "metadata": {},
   "outputs": [],
   "source": [
    "student = {'Name':'Anand','Emp_code':'4029','Company':'Mirafra','Dept':['SWE','HWE','Validation']}"
   ]
  },
  {
   "cell_type": "code",
   "execution_count": 13,
   "id": "49a7d800",
   "metadata": {},
   "outputs": [
    {
     "name": "stdout",
     "output_type": "stream",
     "text": [
      "{'Name': 'Anand', 'Emp_code': '4029', 'Company': 'Mirafra'}\n"
     ]
    }
   ],
   "source": [
    "print(student)"
   ]
  },
  {
   "cell_type": "code",
   "execution_count": 14,
   "id": "f083619b",
   "metadata": {},
   "outputs": [
    {
     "name": "stdout",
     "output_type": "stream",
     "text": [
      "Anand\n"
     ]
    }
   ],
   "source": [
    "print(student['Name'])"
   ]
  },
  {
   "cell_type": "code",
   "execution_count": 15,
   "id": "6a44bb17",
   "metadata": {},
   "outputs": [
    {
     "name": "stdout",
     "output_type": "stream",
     "text": [
      "4029\n"
     ]
    }
   ],
   "source": [
    "print(student['Emp_code'])"
   ]
  },
  {
   "cell_type": "code",
   "execution_count": 16,
   "id": "f009166b",
   "metadata": {},
   "outputs": [
    {
     "name": "stdout",
     "output_type": "stream",
     "text": [
      "Mirafra\n"
     ]
    }
   ],
   "source": [
    "print(student['Company'])"
   ]
  },
  {
   "cell_type": "code",
   "execution_count": 28,
   "id": "7490a17e",
   "metadata": {},
   "outputs": [
    {
     "name": "stdout",
     "output_type": "stream",
     "text": [
      "['SWE', 'HWE', 'Validation']\n"
     ]
    }
   ],
   "source": [
    "print(student['Dept'])"
   ]
  },
  {
   "cell_type": "code",
   "execution_count": 25,
   "id": "01d16ca9",
   "metadata": {},
   "outputs": [
    {
     "name": "stdout",
     "output_type": "stream",
     "text": [
      "SWE\n"
     ]
    }
   ],
   "source": [
    "dept = ['SWE','HWE','Valid']\n",
    "print(dept[0])"
   ]
  },
  {
   "cell_type": "code",
   "execution_count": 29,
   "id": "f17368e8",
   "metadata": {},
   "outputs": [
    {
     "name": "stdout",
     "output_type": "stream",
     "text": [
      "{'Name': 'Anand', 'Emp_code': '4029', 'Company': 'Mirafra', 'Dept': ['SWE', 'HWE', 'Validation']}\n"
     ]
    }
   ],
   "source": [
    "print(student)"
   ]
  },
  {
   "cell_type": "code",
   "execution_count": 30,
   "id": "5245a741",
   "metadata": {},
   "outputs": [],
   "source": [
    "student.update({'Name':'Arvind','Relation':'Father','City':'Aurangabad'})"
   ]
  },
  {
   "cell_type": "code",
   "execution_count": 31,
   "id": "61cdb74e",
   "metadata": {},
   "outputs": [
    {
     "name": "stdout",
     "output_type": "stream",
     "text": [
      "{'Name': 'Arvind', 'Emp_code': '4029', 'Company': 'Mirafra', 'Dept': ['SWE', 'HWE', 'Validation'], 'Relation': 'Father', 'City': 'Aurangabad'}\n"
     ]
    }
   ],
   "source": [
    "print(student)"
   ]
  },
  {
   "cell_type": "code",
   "execution_count": 32,
   "id": "1bf8c1dd",
   "metadata": {},
   "outputs": [],
   "source": [
    "del student['Emp_code']"
   ]
  },
  {
   "cell_type": "code",
   "execution_count": 33,
   "id": "f9292d73",
   "metadata": {},
   "outputs": [
    {
     "name": "stdout",
     "output_type": "stream",
     "text": [
      "{'Name': 'Arvind', 'Company': 'Mirafra', 'Dept': ['SWE', 'HWE', 'Validation'], 'Relation': 'Father', 'City': 'Aurangabad'}\n"
     ]
    }
   ],
   "source": [
    "print(student)"
   ]
  },
  {
   "cell_type": "code",
   "execution_count": 34,
   "id": "d81bdec8",
   "metadata": {},
   "outputs": [],
   "source": [
    "del student['Company']"
   ]
  },
  {
   "cell_type": "code",
   "execution_count": 35,
   "id": "407ce594",
   "metadata": {},
   "outputs": [
    {
     "name": "stdout",
     "output_type": "stream",
     "text": [
      "{'Name': 'Arvind', 'Dept': ['SWE', 'HWE', 'Validation'], 'Relation': 'Father', 'City': 'Aurangabad'}\n"
     ]
    }
   ],
   "source": [
    "print(student)"
   ]
  },
  {
   "cell_type": "code",
   "execution_count": 36,
   "id": "d79b26fb",
   "metadata": {},
   "outputs": [
    {
     "data": {
      "text/plain": [
       "4"
      ]
     },
     "execution_count": 36,
     "metadata": {},
     "output_type": "execute_result"
    }
   ],
   "source": [
    "len(student)"
   ]
  },
  {
   "cell_type": "code",
   "execution_count": 40,
   "id": "998b2a0c",
   "metadata": {},
   "outputs": [
    {
     "name": "stdout",
     "output_type": "stream",
     "text": [
      "dict_items([('Name', 'Arvind'), ('Dept', ['SWE', 'HWE', 'Validation']), ('Relation', 'Father'), ('City', 'Aurangabad')])\n"
     ]
    }
   ],
   "source": [
    "print(student.items())"
   ]
  },
  {
   "cell_type": "code",
   "execution_count": 43,
   "id": "aa0ac7e9",
   "metadata": {},
   "outputs": [
    {
     "name": "stdout",
     "output_type": "stream",
     "text": [
      "Name Arvind\n",
      "Dept ['SWE', 'HWE', 'Validation']\n",
      "Relation Father\n",
      "City Aurangabad\n"
     ]
    }
   ],
   "source": [
    "for key, values in student.items():\n",
    "    print(key,values)"
   ]
  },
  {
   "cell_type": "code",
   "execution_count": 47,
   "id": "a09e9454",
   "metadata": {},
   "outputs": [
    {
     "name": "stdout",
     "output_type": "stream",
     "text": [
      "Name Arvind\n",
      "Dept ['SWE', 'HWE', 'Validation']\n",
      "Relation Father\n",
      "City Aurangabad\n"
     ]
    }
   ],
   "source": [
    "for key,value in student.items():\n",
    "    print(key,value)"
   ]
  },
  {
   "cell_type": "code",
   "execution_count": 51,
   "id": "9cc12fa6",
   "metadata": {},
   "outputs": [
    {
     "data": {
      "text/plain": [
       "list"
      ]
     },
     "execution_count": 51,
     "metadata": {},
     "output_type": "execute_result"
    }
   ],
   "source": [
    "list_1 = [1,2,3]\n",
    "type(list_1)"
   ]
  },
  {
   "cell_type": "code",
   "execution_count": 55,
   "id": "f5dd9313",
   "metadata": {},
   "outputs": [
    {
     "name": "stdout",
     "output_type": "stream",
     "text": [
      "I am anand\n",
      "I am studing python\n"
     ]
    }
   ],
   "source": [
    "print('I am anand')\n",
    "print('I am studing python')"
   ]
  },
  {
   "cell_type": "code",
   "execution_count": 56,
   "id": "4ff98a26",
   "metadata": {},
   "outputs": [
    {
     "data": {
      "text/plain": [
       "'23'"
      ]
     },
     "execution_count": 56,
     "metadata": {},
     "output_type": "execute_result"
    }
   ],
   "source": [
    "'2'+'3'"
   ]
  },
  {
   "cell_type": "code",
   "execution_count": 57,
   "id": "7c32a5ba",
   "metadata": {},
   "outputs": [
    {
     "data": {
      "text/plain": [
       "5"
      ]
     },
     "execution_count": 57,
     "metadata": {},
     "output_type": "execute_result"
    }
   ],
   "source": [
    "2 + 3"
   ]
  },
  {
   "cell_type": "code",
   "execution_count": 62,
   "id": "c20b0596",
   "metadata": {},
   "outputs": [
    {
     "name": "stdout",
     "output_type": "stream",
     "text": [
      "0\n",
      "1\n",
      "2\n",
      "3\n",
      "4\n",
      "5\n",
      "6\n",
      "7\n",
      "8\n",
      "9\n",
      "10\n"
     ]
    }
   ],
   "source": [
    "x = 0\n",
    "while x <= 10:\n",
    "    print(x)\n",
    "    x += 1"
   ]
  },
  {
   "cell_type": "code",
   "execution_count": 68,
   "id": "1914ee51",
   "metadata": {},
   "outputs": [
    {
     "name": "stdout",
     "output_type": "stream",
     "text": [
      "1 A\n",
      "1 B\n",
      "1 D\n",
      "2 A\n",
      "2 B\n",
      "2 D\n",
      "3 A\n",
      "3 B\n",
      "3 D\n",
      "4 A\n",
      "4 B\n",
      "4 D\n"
     ]
    }
   ],
   "source": [
    "items = [1,2,3,4]\n",
    "for j in items:\n",
    "    for i in 'ABCD':\n",
    "        if i == 'C':\n",
    "            continue\n",
    "        print (j,i)"
   ]
  },
  {
   "cell_type": "code",
   "execution_count": 77,
   "id": "750cd883",
   "metadata": {},
   "outputs": [
    {
     "name": "stdout",
     "output_type": "stream",
     "text": [
      "It works fine!!\n",
      "It works fine!!\n"
     ]
    }
   ],
   "source": [
    "def first_func():\n",
    "    print(\"It works fine!!\")\n",
    "    \n",
    "first_func()\n",
    "first_func()"
   ]
  },
  {
   "cell_type": "code",
   "execution_count": 88,
   "id": "e12bfdb0",
   "metadata": {},
   "outputs": [
    {
     "name": "stdout",
     "output_type": "stream",
     "text": [
      "Enter a string:anand\n"
     ]
    }
   ],
   "source": [
    "result = (input('Enter a string:'))\n"
   ]
  },
  {
   "cell_type": "code",
   "execution_count": 89,
   "id": "d53a2add",
   "metadata": {},
   "outputs": [
    {
     "name": "stdout",
     "output_type": "stream",
     "text": [
      "anand\n"
     ]
    }
   ],
   "source": [
    "print(result)"
   ]
  },
  {
   "cell_type": "code",
   "execution_count": 90,
   "id": "c16f9ef2",
   "metadata": {},
   "outputs": [
    {
     "data": {
      "text/plain": [
       "str"
      ]
     },
     "execution_count": 90,
     "metadata": {},
     "output_type": "execute_result"
    }
   ],
   "source": [
    "type(result)"
   ]
  },
  {
   "cell_type": "code",
   "execution_count": 101,
   "id": "6ae11133",
   "metadata": {},
   "outputs": [],
   "source": [
    "mylist = [x**2 for x in range(0, 10) if x%2!=0]"
   ]
  },
  {
   "cell_type": "code",
   "execution_count": 102,
   "id": "0eae5a67",
   "metadata": {},
   "outputs": [
    {
     "data": {
      "text/plain": [
       "[1, 9, 25, 49, 81]"
      ]
     },
     "execution_count": 102,
     "metadata": {},
     "output_type": "execute_result"
    }
   ],
   "source": [
    "mylist"
   ]
  },
  {
   "cell_type": "code",
   "execution_count": 112,
   "id": "7f51cf40",
   "metadata": {},
   "outputs": [],
   "source": [
    "def new_entry(num1, num2):\n",
    "    result = num1+num2\n",
    "    print(f'Addition of {num1} and {num2} is {result}')"
   ]
  },
  {
   "cell_type": "code",
   "execution_count": 113,
   "id": "73abb713",
   "metadata": {},
   "outputs": [
    {
     "name": "stdout",
     "output_type": "stream",
     "text": [
      "Addition of 10 and 20 is 30\n"
     ]
    }
   ],
   "source": [
    "new_entry(10,20)"
   ]
  },
  {
   "cell_type": "code",
   "execution_count": 114,
   "id": "c7f88ea4",
   "metadata": {},
   "outputs": [],
   "source": [
    "def add_nums(a,b):\n",
    "    return a+b"
   ]
  },
  {
   "cell_type": "code",
   "execution_count": 115,
   "id": "15833f26",
   "metadata": {},
   "outputs": [],
   "source": [
    "result = add_nums(10,20)"
   ]
  },
  {
   "cell_type": "code",
   "execution_count": 118,
   "id": "4f5ba4de",
   "metadata": {},
   "outputs": [
    {
     "name": "stdout",
     "output_type": "stream",
     "text": [
      "Addition is 30\n"
     ]
    }
   ],
   "source": [
    "print(f'Addition is {result}')"
   ]
  },
  {
   "cell_type": "code",
   "execution_count": 142,
   "id": "7d839acf",
   "metadata": {},
   "outputs": [],
   "source": [
    "def even_check(my_list):\n",
    "    even_nums = []\n",
    "    for num in my_list:\n",
    "        if num%2==0:\n",
    "            even_nums.append(num)\n",
    "        else:\n",
    "            pass\n",
    "    return even_nums"
   ]
  },
  {
   "cell_type": "code",
   "execution_count": 144,
   "id": "c5734467",
   "metadata": {},
   "outputs": [],
   "source": [
    "result = even_check([1,2,3,4,5,6,7,8,9,10])"
   ]
  },
  {
   "cell_type": "code",
   "execution_count": 145,
   "id": "4a3c27ca",
   "metadata": {},
   "outputs": [
    {
     "name": "stdout",
     "output_type": "stream",
     "text": [
      "[2, 4, 6, 8, 10]\n"
     ]
    }
   ],
   "source": [
    "print(result)"
   ]
  },
  {
   "cell_type": "code",
   "execution_count": 146,
   "id": "dde33d08",
   "metadata": {},
   "outputs": [],
   "source": [
    "#Functions basics\n",
    "def odd_finder(my_list):\n",
    "    odd_nums = []\n",
    "    for num in my_list:\n",
    "        if num%2 != 0:\n",
    "            odd_nums.append(num)\n",
    "        else:\n",
    "            pass\n",
    "    return odd_nums"
   ]
  },
  {
   "cell_type": "code",
   "execution_count": 149,
   "id": "9e15b7af",
   "metadata": {},
   "outputs": [
    {
     "name": "stdout",
     "output_type": "stream",
     "text": [
      "[1, 3, 5, 7, 9, 11]\n"
     ]
    }
   ],
   "source": [
    "result = odd_finder([1,2,3,4,5,6,7,8,9,10,11])\n",
    "print(result)"
   ]
  },
  {
   "cell_type": "code",
   "execution_count": 151,
   "id": "32051dbc",
   "metadata": {},
   "outputs": [],
   "source": [
    "stock_prices = [('Apple',300),('Google',200),('Msoft',100)]"
   ]
  },
  {
   "cell_type": "code",
   "execution_count": 165,
   "id": "1b469145",
   "metadata": {},
   "outputs": [
    {
     "name": "stdout",
     "output_type": "stream",
     "text": [
      "After 10% hike\n",
      "Apple,330.0\n",
      "Google,220.0\n",
      "Msoft,110.0\n"
     ]
    }
   ],
   "source": [
    "print('After 10% hike') \n",
    "for tickers,value in stock_prices:\n",
    "    print(f'{tickers},{value+(0.1*value)}')"
   ]
  },
  {
   "cell_type": "code",
   "execution_count": 177,
   "id": "6dd69f75",
   "metadata": {},
   "outputs": [],
   "source": [
    "work_hrs = [('Abbie',100),('Shaggy',300),('Annie',350)]\n",
    "def emp_hrs (work_hrs):\n",
    "    max_hrs = 0\n",
    "    emp_name = ''\n",
    "    for name, hrs in work_hrs:\n",
    "        if hrs > max_hrs:\n",
    "            max_hrs = hrs\n",
    "            emp_name = name\n",
    "    return (emp_name, max_hrs)"
   ]
  },
  {
   "cell_type": "code",
   "execution_count": 178,
   "id": "9715bfcd",
   "metadata": {},
   "outputs": [],
   "source": [
    "name,hours = emp_hrs(work_hrs)"
   ]
  },
  {
   "cell_type": "code",
   "execution_count": 179,
   "id": "b8c21640",
   "metadata": {},
   "outputs": [
    {
     "name": "stdout",
     "output_type": "stream",
     "text": [
      "Employee of the month is Annie and has worked for 350 hours\n"
     ]
    }
   ],
   "source": [
    "print(f'Employee of the month is {name} and has worked for {hours} hours')"
   ]
  },
  {
   "cell_type": "code",
   "execution_count": null,
   "id": "209f5390",
   "metadata": {},
   "outputs": [],
   "source": [
    "\"\"\"costly car\"\"\"\n",
    "def car_cost (my_tuple):\n",
    "    model = ''\n",
    "    cost = 0\n",
    "    \n"
   ]
  },
  {
   "cell_type": "code",
   "execution_count": 181,
   "id": "9102a64f",
   "metadata": {},
   "outputs": [
    {
     "name": "stdout",
     "output_type": "stream",
     "text": [
      "Annie 350\n"
     ]
    }
   ],
   "source": [
    "print(name,hours)"
   ]
  },
  {
   "cell_type": "code",
   "execution_count": 186,
   "id": "a0625de1",
   "metadata": {},
   "outputs": [
    {
     "name": "stdout",
     "output_type": "stream",
     "text": [
      "Mello\n"
     ]
    }
   ],
   "source": [
    "s = \"Hello\"\n",
    "print('M' + s[1:] )"
   ]
  },
  {
   "cell_type": "code",
   "execution_count": 189,
   "id": "e0911de7",
   "metadata": {},
   "outputs": [
    {
     "data": {
      "text/plain": [
       "'olleH'"
      ]
     },
     "execution_count": 189,
     "metadata": {},
     "output_type": "execute_result"
    }
   ],
   "source": [
    "s[::-1]"
   ]
  },
  {
   "cell_type": "code",
   "execution_count": 190,
   "id": "d595cefc",
   "metadata": {},
   "outputs": [
    {
     "data": {
      "text/plain": [
       "'Hello'"
      ]
     },
     "execution_count": 190,
     "metadata": {},
     "output_type": "execute_result"
    }
   ],
   "source": [
    "s"
   ]
  },
  {
   "cell_type": "code",
   "execution_count": 191,
   "id": "4924e0de",
   "metadata": {},
   "outputs": [
    {
     "data": {
      "text/plain": [
       "'HELLO'"
      ]
     },
     "execution_count": 191,
     "metadata": {},
     "output_type": "execute_result"
    }
   ],
   "source": [
    "s.upper()"
   ]
  },
  {
   "cell_type": "code",
   "execution_count": 193,
   "id": "e6a59f9c",
   "metadata": {},
   "outputs": [
    {
     "name": "stdout",
     "output_type": "stream",
     "text": [
      "My name is Annie\n"
     ]
    }
   ],
   "source": [
    "print(f'My name is {name}')"
   ]
  },
  {
   "cell_type": "code",
   "execution_count": 194,
   "id": "f674c579",
   "metadata": {},
   "outputs": [
    {
     "data": {
      "text/plain": [
       "'Annie'"
      ]
     },
     "execution_count": 194,
     "metadata": {},
     "output_type": "execute_result"
    }
   ],
   "source": [
    "name"
   ]
  },
  {
   "cell_type": "code",
   "execution_count": 212,
   "id": "b69a570f",
   "metadata": {},
   "outputs": [
    {
     "name": "stdout",
     "output_type": "stream",
     "text": [
      "My name is Annie and my age is 26\n"
     ]
    }
   ],
   "source": [
    "age = 26\n",
    "print('My name is {} and my age is {}'.format(name, age))\n",
    "\n"
   ]
  },
  {
   "cell_type": "code",
   "execution_count": 214,
   "id": "e364c516",
   "metadata": {},
   "outputs": [
    {
     "name": "stdout",
     "output_type": "stream",
     "text": [
      "My name is Annie and I am 26 years old\n"
     ]
    }
   ],
   "source": [
    "aage = '26'\n",
    "print('My name is ' + name + ' and I am ' + aage + ' years old')"
   ]
  },
  {
   "cell_type": "code",
   "execution_count": 211,
   "id": "5bbc2e73",
   "metadata": {},
   "outputs": [
    {
     "name": "stdout",
     "output_type": "stream",
     "text": [
      "They said there names are 'ramesh' and suresh.\n"
     ]
    }
   ],
   "source": [
    "print('They said there names are %r and %s.'%('ramesh','suresh'))"
   ]
  },
  {
   "cell_type": "code",
   "execution_count": 216,
   "id": "03288886",
   "metadata": {},
   "outputs": [],
   "source": [
    "my_list = [1,2,3,'Name']"
   ]
  },
  {
   "cell_type": "code",
   "execution_count": 217,
   "id": "973de7e0",
   "metadata": {},
   "outputs": [],
   "source": [
    "my_list.append('Anand')"
   ]
  },
  {
   "cell_type": "code",
   "execution_count": 218,
   "id": "900aaeed",
   "metadata": {},
   "outputs": [
    {
     "data": {
      "text/plain": [
       "[1, 2, 3, 'Name', 'Anand']"
      ]
     },
     "execution_count": 218,
     "metadata": {},
     "output_type": "execute_result"
    }
   ],
   "source": [
    "my_list"
   ]
  },
  {
   "cell_type": "code",
   "execution_count": 219,
   "id": "9f9c8749",
   "metadata": {},
   "outputs": [],
   "source": [
    "popped = my_list.pop()"
   ]
  },
  {
   "cell_type": "code",
   "execution_count": 220,
   "id": "b812ec64",
   "metadata": {},
   "outputs": [
    {
     "data": {
      "text/plain": [
       "'Anand'"
      ]
     },
     "execution_count": 220,
     "metadata": {},
     "output_type": "execute_result"
    }
   ],
   "source": [
    "popped"
   ]
  },
  {
   "cell_type": "code",
   "execution_count": 221,
   "id": "49157941",
   "metadata": {},
   "outputs": [
    {
     "data": {
      "text/plain": [
       "[1, 2, 3, 'Name']"
      ]
     },
     "execution_count": 221,
     "metadata": {},
     "output_type": "execute_result"
    }
   ],
   "source": [
    "my_list"
   ]
  },
  {
   "cell_type": "code",
   "execution_count": 222,
   "id": "58e5c289",
   "metadata": {},
   "outputs": [],
   "source": [
    "my_list.reverse()"
   ]
  },
  {
   "cell_type": "code",
   "execution_count": 223,
   "id": "f056df94",
   "metadata": {},
   "outputs": [
    {
     "data": {
      "text/plain": [
       "['Name', 3, 2, 1]"
      ]
     },
     "execution_count": 223,
     "metadata": {},
     "output_type": "execute_result"
    }
   ],
   "source": [
    "my_list"
   ]
  },
  {
   "cell_type": "code",
   "execution_count": 225,
   "id": "d394aec4",
   "metadata": {},
   "outputs": [],
   "source": [
    "my_list.reverse()"
   ]
  },
  {
   "cell_type": "code",
   "execution_count": 226,
   "id": "5cf1984c",
   "metadata": {},
   "outputs": [
    {
     "data": {
      "text/plain": [
       "'Name'"
      ]
     },
     "execution_count": 226,
     "metadata": {},
     "output_type": "execute_result"
    }
   ],
   "source": [
    "my_list.pop()"
   ]
  },
  {
   "cell_type": "code",
   "execution_count": 227,
   "id": "2bf910ac",
   "metadata": {},
   "outputs": [],
   "source": [
    "my_list.sort()"
   ]
  },
  {
   "cell_type": "code",
   "execution_count": 229,
   "id": "2432102f",
   "metadata": {},
   "outputs": [],
   "source": [
    "my_list.reverse()"
   ]
  },
  {
   "cell_type": "code",
   "execution_count": 235,
   "id": "50250255",
   "metadata": {},
   "outputs": [
    {
     "data": {
      "text/plain": [
       "[1, 2, 3]"
      ]
     },
     "execution_count": 235,
     "metadata": {},
     "output_type": "execute_result"
    }
   ],
   "source": [
    "my_list[::-1]"
   ]
  },
  {
   "cell_type": "code",
   "execution_count": 239,
   "id": "846f0a6b",
   "metadata": {},
   "outputs": [],
   "source": [
    "my_dict = {'Name':'Anand',\"Emp_code\":'4096','Address':'N-9,M-2,65/1'}"
   ]
  },
  {
   "cell_type": "code",
   "execution_count": 244,
   "id": "c74386af",
   "metadata": {},
   "outputs": [
    {
     "data": {
      "text/plain": [
       "'n-9,m-2,65/1'"
      ]
     },
     "execution_count": 244,
     "metadata": {},
     "output_type": "execute_result"
    }
   ],
   "source": [
    "my_dict['Address'].lower()"
   ]
  },
  {
   "cell_type": "code",
   "execution_count": 245,
   "id": "2909ec6c",
   "metadata": {},
   "outputs": [],
   "source": [
    "d = {}"
   ]
  },
  {
   "cell_type": "code",
   "execution_count": 252,
   "id": "0568e870",
   "metadata": {},
   "outputs": [],
   "source": [
    "d['Animal1'] = 'Dog'"
   ]
  },
  {
   "cell_type": "code",
   "execution_count": 253,
   "id": "751eac20",
   "metadata": {},
   "outputs": [],
   "source": [
    "d['Habitate'] = 'Pet'"
   ]
  },
  {
   "cell_type": "code",
   "execution_count": 257,
   "id": "90ab0108",
   "metadata": {},
   "outputs": [
    {
     "data": {
      "text/plain": [
       "'Pet'"
      ]
     },
     "execution_count": 257,
     "metadata": {},
     "output_type": "execute_result"
    }
   ],
   "source": [
    "d.pop('Habitate')"
   ]
  },
  {
   "cell_type": "code",
   "execution_count": 262,
   "id": "6e5c1f7e",
   "metadata": {},
   "outputs": [],
   "source": [
    "d['Habitate'] = 'Pet'"
   ]
  },
  {
   "cell_type": "code",
   "execution_count": 263,
   "id": "2623630f",
   "metadata": {},
   "outputs": [
    {
     "data": {
      "text/plain": [
       "{'Animal': 'Dog', 'Animal1': 'Dog', 'Habitate': 'Pet'}"
      ]
     },
     "execution_count": 263,
     "metadata": {},
     "output_type": "execute_result"
    }
   ],
   "source": [
    "d"
   ]
  },
  {
   "cell_type": "code",
   "execution_count": 264,
   "id": "00932ab7",
   "metadata": {},
   "outputs": [
    {
     "data": {
      "text/plain": [
       "dict_keys(['Animal', 'Animal1', 'Habitate'])"
      ]
     },
     "execution_count": 264,
     "metadata": {},
     "output_type": "execute_result"
    }
   ],
   "source": [
    "d.keys()"
   ]
  },
  {
   "cell_type": "code",
   "execution_count": 265,
   "id": "894a75da",
   "metadata": {},
   "outputs": [
    {
     "data": {
      "text/plain": [
       "dict_items([('Animal', 'Dog'), ('Animal1', 'Dog'), ('Habitate', 'Pet')])"
      ]
     },
     "execution_count": 265,
     "metadata": {},
     "output_type": "execute_result"
    }
   ],
   "source": [
    "d.items()"
   ]
  },
  {
   "cell_type": "code",
   "execution_count": 266,
   "id": "da4b3cbd",
   "metadata": {},
   "outputs": [
    {
     "data": {
      "text/plain": [
       "dict_values(['Dog', 'Dog', 'Pet'])"
      ]
     },
     "execution_count": 266,
     "metadata": {},
     "output_type": "execute_result"
    }
   ],
   "source": [
    "d.values()"
   ]
  },
  {
   "cell_type": "code",
   "execution_count": 273,
   "id": "4dad0c31",
   "metadata": {},
   "outputs": [
    {
     "name": "stdout",
     "output_type": "stream",
     "text": [
      "1\n",
      "3\n"
     ]
    }
   ],
   "source": [
    "#its a tuple where object.count will give count of the number of times the argument has occured and object.index will give the index value.\n",
    "t = [1,2,4,4,4]\n",
    "print(t.index(2))\n",
    "print(t.count(4))"
   ]
  },
  {
   "cell_type": "code",
   "execution_count": 280,
   "id": "e363351a",
   "metadata": {},
   "outputs": [],
   "source": [
    "#square root\n",
    "sqr = 12**2"
   ]
  },
  {
   "cell_type": "code",
   "execution_count": 281,
   "id": "ab31adfa",
   "metadata": {},
   "outputs": [
    {
     "name": "stdout",
     "output_type": "stream",
     "text": [
      "144\n"
     ]
    }
   ],
   "source": [
    "print(sqr)"
   ]
  },
  {
   "cell_type": "code",
   "execution_count": 286,
   "id": "32bc031c",
   "metadata": {},
   "outputs": [
    {
     "data": {
      "text/plain": [
       "'o'"
      ]
     },
     "execution_count": 286,
     "metadata": {},
     "output_type": "execute_result"
    }
   ],
   "source": [
    "s='hello'\n",
    "s[4:]"
   ]
  },
  {
   "cell_type": "code",
   "execution_count": 289,
   "id": "1b57c6fd",
   "metadata": {},
   "outputs": [],
   "source": [
    "my_list = [0]"
   ]
  },
  {
   "cell_type": "code",
   "execution_count": 291,
   "id": "354cec6f",
   "metadata": {},
   "outputs": [
    {
     "data": {
      "text/plain": [
       "[0, 0, 0]"
      ]
     },
     "execution_count": 291,
     "metadata": {},
     "output_type": "execute_result"
    }
   ],
   "source": [
    "my_list*3"
   ]
  },
  {
   "cell_type": "code",
   "execution_count": 292,
   "id": "60a02581",
   "metadata": {},
   "outputs": [],
   "source": [
    "#replace hello with goodbye\n",
    "list3 = [1,2,[3,4,'hello']]\n",
    "list3[2][2] = 'goodbye'"
   ]
  },
  {
   "cell_type": "code",
   "execution_count": 293,
   "id": "9739eb8a",
   "metadata": {},
   "outputs": [
    {
     "data": {
      "text/plain": [
       "[1, 2, [3, 4, 'goodbye']]"
      ]
     },
     "execution_count": 293,
     "metadata": {},
     "output_type": "execute_result"
    }
   ],
   "source": [
    "list3"
   ]
  },
  {
   "cell_type": "code",
   "execution_count": 303,
   "id": "b476a8ed",
   "metadata": {},
   "outputs": [],
   "source": [
    "#sort the list\n",
    "list4 = [5,3,4,6,1]\n",
    "list4.sort()"
   ]
  },
  {
   "cell_type": "code",
   "execution_count": 304,
   "id": "56b65433",
   "metadata": {},
   "outputs": [
    {
     "data": {
      "text/plain": [
       "[1, 3, 4, 5, 6]"
      ]
     },
     "execution_count": 304,
     "metadata": {},
     "output_type": "execute_result"
    }
   ],
   "source": [
    "list4"
   ]
  },
  {
   "cell_type": "code",
   "execution_count": 308,
   "id": "08e4b1b3",
   "metadata": {},
   "outputs": [
    {
     "data": {
      "text/plain": [
       "'hello'"
      ]
     },
     "execution_count": 308,
     "metadata": {},
     "output_type": "execute_result"
    }
   ],
   "source": [
    "d = {'simple_key':'hello'}\n",
    "# Grab 'hello'\n",
    "d['simple_key']"
   ]
  },
  {
   "cell_type": "code",
   "execution_count": 310,
   "id": "b3dc009f",
   "metadata": {},
   "outputs": [
    {
     "data": {
      "text/plain": [
       "'hello'"
      ]
     },
     "execution_count": 310,
     "metadata": {},
     "output_type": "execute_result"
    }
   ],
   "source": [
    "d = {'k1':{'k2':'hello'}}\n",
    "# Grab 'hello'\n",
    "d['k1']['k2']"
   ]
  },
  {
   "cell_type": "code",
   "execution_count": 324,
   "id": "d3300bdb",
   "metadata": {},
   "outputs": [
    {
     "data": {
      "text/plain": [
       "['hello']"
      ]
     },
     "execution_count": 324,
     "metadata": {},
     "output_type": "execute_result"
    }
   ],
   "source": [
    "# Getting a little tricker\n",
    "d = {'k1':[{'nest_key':['this is deep',['hello']]}]}\n",
    "\n",
    "#Grab hello\n",
    "#updated = \n",
    "d['k1'][0]['nest_key'][1]"
   ]
  },
  {
   "cell_type": "code",
   "execution_count": 323,
   "id": "fb3971eb",
   "metadata": {},
   "outputs": [],
   "source": [
    "#updated['nest_key'][1]\n",
    "\n"
   ]
  },
  {
   "cell_type": "code",
   "execution_count": 325,
   "id": "4163a6ed",
   "metadata": {},
   "outputs": [],
   "source": [
    "# This will be hard and annoying!\n",
    "d = {'k1':[1,2,{'k2':['this is tricky',{'tough':[1,2,['hello']]}]}]}"
   ]
  },
  {
   "cell_type": "code",
   "execution_count": 338,
   "id": "85ddf858",
   "metadata": {},
   "outputs": [
    {
     "data": {
      "text/plain": [
       "['hello']"
      ]
     },
     "execution_count": 338,
     "metadata": {},
     "output_type": "execute_result"
    }
   ],
   "source": [
    "d['k1'][2]['k2'][1]['tough'][2]"
   ]
  },
  {
   "cell_type": "code",
   "execution_count": 339,
   "id": "1832093f",
   "metadata": {},
   "outputs": [],
   "source": [
    "list5 = [1,2,2,33,4,4,11,22,3,3,2]\n",
    "my_set = set(list5)"
   ]
  },
  {
   "cell_type": "code",
   "execution_count": 340,
   "id": "e39e792e",
   "metadata": {},
   "outputs": [
    {
     "data": {
      "text/plain": [
       "{1, 2, 3, 4, 11, 22, 33}"
      ]
     },
     "execution_count": 340,
     "metadata": {},
     "output_type": "execute_result"
    }
   ],
   "source": [
    "my_set"
   ]
  },
  {
   "cell_type": "code",
   "execution_count": 341,
   "id": "69adb9f9",
   "metadata": {},
   "outputs": [
    {
     "data": {
      "text/plain": [
       "False"
      ]
     },
     "execution_count": 341,
     "metadata": {},
     "output_type": "execute_result"
    }
   ],
   "source": [
    "# two nested lists\n",
    "l_one = [1,2,[3,4]]\n",
    "l_two = [1,2,{'k1':4}]\n",
    "\n",
    "# True or False?\n",
    "l_one[2][0] >= l_two[2]['k1']"
   ]
  },
  {
   "cell_type": "code",
   "execution_count": 342,
   "id": "62348f7c",
   "metadata": {},
   "outputs": [],
   "source": [
    "example = [1,7,2,4,10]\n",
    "from random import shuffle"
   ]
  },
  {
   "cell_type": "code",
   "execution_count": 345,
   "id": "19903e67",
   "metadata": {},
   "outputs": [],
   "source": [
    "shuffle(example)"
   ]
  },
  {
   "cell_type": "code",
   "execution_count": 346,
   "id": "17c71720",
   "metadata": {},
   "outputs": [
    {
     "data": {
      "text/plain": [
       "[2, 10, 1, 7, 4]"
      ]
     },
     "execution_count": 346,
     "metadata": {},
     "output_type": "execute_result"
    }
   ],
   "source": [
    "example\n"
   ]
  },
  {
   "cell_type": "code",
   "execution_count": 355,
   "id": "7a2dd67f",
   "metadata": {},
   "outputs": [],
   "source": [
    "#5% of sum of a and b\n",
    "def myfunc(a,b):\n",
    "    return sum((a,b))*0.05"
   ]
  },
  {
   "cell_type": "code",
   "execution_count": 356,
   "id": "4b432130",
   "metadata": {},
   "outputs": [
    {
     "data": {
      "text/plain": [
       "5.0"
      ]
     },
     "execution_count": 356,
     "metadata": {},
     "output_type": "execute_result"
    }
   ],
   "source": [
    "myfunc(40,60)"
   ]
  },
  {
   "cell_type": "code",
   "execution_count": 357,
   "id": "86e6e968",
   "metadata": {},
   "outputs": [],
   "source": [
    "def myfunc (*args):\n",
    "    return sum(args) * 0.05\n"
   ]
  },
  {
   "cell_type": "code",
   "execution_count": 358,
   "id": "4df1a9a0",
   "metadata": {},
   "outputs": [
    {
     "data": {
      "text/plain": [
       "5.0"
      ]
     },
     "execution_count": 358,
     "metadata": {},
     "output_type": "execute_result"
    }
   ],
   "source": [
    "myfunc (10,20,30,40)"
   ]
  },
  {
   "cell_type": "code",
   "execution_count": 359,
   "id": "cdf59cf9",
   "metadata": {},
   "outputs": [],
   "source": [
    "def myfunc (a,b,c):\n",
    "    return sum((a,b,c))*0.05"
   ]
  },
  {
   "cell_type": "code",
   "execution_count": 360,
   "id": "7ed44d6b",
   "metadata": {},
   "outputs": [
    {
     "data": {
      "text/plain": [
       "3.0"
      ]
     },
     "execution_count": 360,
     "metadata": {},
     "output_type": "execute_result"
    }
   ],
   "source": [
    "myfunc (10,20,30)"
   ]
  },
  {
   "cell_type": "code",
   "execution_count": 363,
   "id": "fbdb9b0c",
   "metadata": {},
   "outputs": [],
   "source": [
    "def myfunc (*args):\n",
    "    for item in args:\n",
    "        print(item)"
   ]
  },
  {
   "cell_type": "code",
   "execution_count": 364,
   "id": "ee0310fe",
   "metadata": {},
   "outputs": [
    {
     "name": "stdout",
     "output_type": "stream",
     "text": [
      "10\n",
      "20\n",
      "30\n"
     ]
    }
   ],
   "source": [
    "myfunc (10,20,30)"
   ]
  },
  {
   "cell_type": "code",
   "execution_count": 371,
   "id": "5213e6b5",
   "metadata": {},
   "outputs": [
    {
     "data": {
      "text/plain": [
       "function"
      ]
     },
     "execution_count": 371,
     "metadata": {},
     "output_type": "execute_result"
    }
   ],
   "source": [
    "type(myfunc)"
   ]
  },
  {
   "cell_type": "code",
   "execution_count": 372,
   "id": "a41c92cf",
   "metadata": {},
   "outputs": [],
   "source": [
    "def myfunc (*args, **kwargs):\n",
    "    if 'food' in kwargs:\n",
    "        print('I would like to have {} {}'.format(args[0],kwargs['food']))"
   ]
  },
  {
   "cell_type": "code",
   "execution_count": 373,
   "id": "a308fd0f",
   "metadata": {},
   "outputs": [
    {
     "name": "stdout",
     "output_type": "stream",
     "text": [
      "I would like to have 10 eggs\n"
     ]
    }
   ],
   "source": [
    "myfunc (10,20,30,food = 'eggs',veggie = 'cabbage')"
   ]
  },
  {
   "cell_type": "code",
   "execution_count": null,
   "id": "016ea1c9",
   "metadata": {},
   "outputs": [],
   "source": []
  },
  {
   "cell_type": "code",
   "execution_count": 374,
   "id": "5259c1cd",
   "metadata": {},
   "outputs": [],
   "source": [
    "def myfunc (**kwargs):\n",
    "    if 'foods' in kwargs:\n",
    "        print(\"I would have {}\".format(kwargs['foods']))"
   ]
  },
  {
   "cell_type": "code",
   "execution_count": 375,
   "id": "1cb903cc",
   "metadata": {},
   "outputs": [
    {
     "name": "stdout",
     "output_type": "stream",
     "text": [
      "I would have puff\n"
     ]
    }
   ],
   "source": [
    "myfunc (fruit='apple',foods='puff')"
   ]
  },
  {
   "cell_type": "code",
   "execution_count": null,
   "id": "07641c14",
   "metadata": {},
   "outputs": [],
   "source": [
    "\n"
   ]
  },
  {
   "cell_type": "code",
   "execution_count": 383,
   "id": "bfe25190",
   "metadata": {},
   "outputs": [],
   "source": [
    "def myfunc (*args, **kwargs):\n",
    "    #if 'deserts' in kwargs:\n",
    "        print('I can eat {}kgs of {}'.format(args[0], kwargs['fruits']))"
   ]
  },
  {
   "cell_type": "code",
   "execution_count": 384,
   "id": "0040ea51",
   "metadata": {},
   "outputs": [
    {
     "name": "stdout",
     "output_type": "stream",
     "text": [
      "I can eat 1kgs of Apple\n"
     ]
    }
   ],
   "source": [
    "myfunc (1,2,3,fruits='Apple',deserts='Cake')"
   ]
  },
  {
   "cell_type": "code",
   "execution_count": 394,
   "id": "a5d422a7",
   "metadata": {},
   "outputs": [],
   "source": [
    "def myfunc (my_list) :\n",
    "    for i in my_list:\n",
    "        if (my_list[int(i)] % 2) == 0:\n",
    "            return my_list[i]\n",
    "        \n",
    "        "
   ]
  },
  {
   "cell_type": "code",
   "execution_count": 395,
   "id": "cad096a3",
   "metadata": {},
   "outputs": [
    {
     "data": {
      "text/plain": [
       "[0]"
      ]
     },
     "execution_count": 395,
     "metadata": {},
     "output_type": "execute_result"
    }
   ],
   "source": [
    "my_list"
   ]
  },
  {
   "cell_type": "code",
   "execution_count": 400,
   "id": "3c559b72",
   "metadata": {},
   "outputs": [],
   "source": [
    "mylist = 'mirafra'"
   ]
  },
  {
   "cell_type": "code",
   "execution_count": 417,
   "id": "698682fe",
   "metadata": {},
   "outputs": [
    {
     "data": {
      "text/plain": [
       "'iarMRFA'"
      ]
     },
     "execution_count": 417,
     "metadata": {},
     "output_type": "execute_result"
    }
   ],
   "source": [
    "mylist[1::2].lower() + mylist[::2].upper()"
   ]
  },
  {
   "cell_type": "code",
   "execution_count": 421,
   "id": "10ee67ec",
   "metadata": {},
   "outputs": [
    {
     "data": {
      "text/plain": [
       "'Amacdonald'"
      ]
     },
     "execution_count": 421,
     "metadata": {},
     "output_type": "execute_result"
    }
   ],
   "source": [
    "'amacdonald'.capitalize()"
   ]
  },
  {
   "cell_type": "code",
   "execution_count": 428,
   "id": "0ad10c98",
   "metadata": {},
   "outputs": [],
   "source": [
    "def myfunc (name):\n",
    "    new_name = []\n",
    "    for i in range(len(name)):\n",
    "        if i%2==0:\n",
    "            new_name.append(name[i].upper())\n",
    "        else:\n",
    "            new_name.append(name[i].lower())\n",
    "    return ''.join(new_name)"
   ]
  },
  {
   "cell_type": "code",
   "execution_count": 429,
   "id": "c6b68688",
   "metadata": {},
   "outputs": [
    {
     "data": {
      "text/plain": [
       "'MiRaFrA'"
      ]
     },
     "execution_count": 429,
     "metadata": {},
     "output_type": "execute_result"
    }
   ],
   "source": [
    "myfunc (\"mirafra\")"
   ]
  },
  {
   "cell_type": "code",
   "execution_count": 430,
   "id": "61fa7698",
   "metadata": {},
   "outputs": [],
   "source": [
    "def myfunc (name):\n",
    "    new_name = []\n",
    "    for i in range(len(name)):\n",
    "        if i==0 or i==3:\n",
    "            new_name.append(name[i].upper())\n",
    "        else:\n",
    "            new_name.append(name[i])\n",
    "    return ''.join(new_name)"
   ]
  },
  {
   "cell_type": "code",
   "execution_count": 432,
   "id": "ffcf75ad",
   "metadata": {},
   "outputs": [
    {
     "data": {
      "text/plain": [
       "'MacDonald'"
      ]
     },
     "execution_count": 432,
     "metadata": {},
     "output_type": "execute_result"
    }
   ],
   "source": [
    "myfunc ('macdonald')"
   ]
  },
  {
   "cell_type": "code",
   "execution_count": 477,
   "id": "d9086050",
   "metadata": {},
   "outputs": [],
   "source": [
    "tar = 'How are you'"
   ]
  },
  {
   "cell_type": "code",
   "execution_count": 478,
   "id": "60bc5b6a",
   "metadata": {},
   "outputs": [],
   "source": [
    "var = tar.split(' ')"
   ]
  },
  {
   "cell_type": "code",
   "execution_count": 479,
   "id": "02568f3c",
   "metadata": {},
   "outputs": [
    {
     "name": "stdout",
     "output_type": "stream",
     "text": [
      "['How', 'are', 'you']\n"
     ]
    }
   ],
   "source": [
    "#for i in range(len(var)):\n",
    "print(var)"
   ]
  },
  {
   "cell_type": "code",
   "execution_count": 480,
   "id": "7a6f93bd",
   "metadata": {},
   "outputs": [],
   "source": [
    "def myfunc (var):\n",
    "    for i in range(len(var)):\n",
    "        new_list = [var[2], var[1], var[0]]\n",
    "        #new_list.append(var[i])\n",
    "    return ' '.join(new_list)\n"
   ]
  },
  {
   "cell_type": "code",
   "execution_count": 491,
   "id": "a821e016",
   "metadata": {},
   "outputs": [
    {
     "data": {
      "text/plain": [
       "['w o H', 'e r a', 'u o y']"
      ]
     },
     "execution_count": 491,
     "metadata": {},
     "output_type": "execute_result"
    }
   ],
   "source": [
    "list(map(myfunc,var))"
   ]
  },
  {
   "cell_type": "code",
   "execution_count": 492,
   "id": "a0f92f17",
   "metadata": {},
   "outputs": [],
   "source": [
    "def myfunc (*args, **kwargs):\n",
    "    if 'fruits' in kwargs or 'snacks' in kwargs:\n",
    "        print('We accept orders of {} upto {} kgs and {} also upto {} kgs'.format(kwargs['fruits'], args[0], kwargs['snacks'],args[1]))\n",
    "    else:\n",
    "        print('We do not accept any party orders.')\n",
    "        "
   ]
  },
  {
   "cell_type": "code",
   "execution_count": 451,
   "id": "5493e0e4",
   "metadata": {},
   "outputs": [
    {
     "name": "stdout",
     "output_type": "stream",
     "text": [
      "We accept orders of Fruits Salad upto 100 kgs and Tortella also upto 75 kgs\n"
     ]
    }
   ],
   "source": [
    "myfunc (100,75,fruits='Fruits Salad', snacks='Tortella')"
   ]
  },
  {
   "cell_type": "code",
   "execution_count": 485,
   "id": "babb0c99",
   "metadata": {},
   "outputs": [
    {
     "name": "stdout",
     "output_type": "stream",
     "text": [
      "1\n",
      "2\n",
      "3\n",
      "4\n",
      "[5, 6, 7, 1, 2, 3, 4]\n"
     ]
    }
   ],
   "source": [
    "l = [1,2,3,4,5,6,7]\n",
    "N = 4\n",
    "\n",
    "for index in range(N):\n",
    "    element = l.pop(0)\n",
    "    #print(element)\n",
    "    l.append(element)\n",
    "\n",
    "print(l)"
   ]
  },
  {
   "cell_type": "code",
   "execution_count": 484,
   "id": "e4c3d92b",
   "metadata": {},
   "outputs": [
    {
     "data": {
      "text/plain": [
       "range(0, 4)"
      ]
     },
     "execution_count": 484,
     "metadata": {},
     "output_type": "execute_result"
    }
   ],
   "source": [
    "range(N)"
   ]
  },
  {
   "cell_type": "code",
   "execution_count": 486,
   "id": "1c091ba5",
   "metadata": {},
   "outputs": [],
   "source": [
    "def square (num):\n",
    "    return num**2"
   ]
  },
  {
   "cell_type": "code",
   "execution_count": 494,
   "id": "67ff92bd",
   "metadata": {},
   "outputs": [
    {
     "data": {
      "text/plain": [
       "[1, 4, 9, 16, 25]"
      ]
     },
     "execution_count": 494,
     "metadata": {},
     "output_type": "execute_result"
    }
   ],
   "source": [
    "mylist = [1,2,3,4,5]\n",
    "list(map(square,mylist))\n",
    "#for item in map(square,mylist):\n",
    "#    print(item)"
   ]
  },
  {
   "cell_type": "code",
   "execution_count": 495,
   "id": "5a60e519",
   "metadata": {},
   "outputs": [
    {
     "data": {
      "text/plain": [
       "['Even', 'E', 'S']"
      ]
     },
     "execution_count": 495,
     "metadata": {},
     "output_type": "execute_result"
    }
   ],
   "source": [
    "def splicer (mystring):\n",
    "    if len(mystring)%2==0:\n",
    "        return 'Even'\n",
    "    else:\n",
    "        return mystring[0]\n",
    "\n",
    "mystring = ['Andy','Eve','Sabby']\n",
    "list(map(splicer,mystring))"
   ]
  },
  {
   "cell_type": "code",
   "execution_count": 519,
   "id": "bc3d4e07",
   "metadata": {},
   "outputs": [],
   "source": [
    "def check_even (num):\n",
    "    return num%2==0"
   ]
  },
  {
   "cell_type": "code",
   "execution_count": 524,
   "id": "ed7b6b21",
   "metadata": {},
   "outputs": [
    {
     "data": {
      "text/plain": [
       "[2, 4, 6, 8]"
      ]
     },
     "execution_count": 524,
     "metadata": {},
     "output_type": "execute_result"
    }
   ],
   "source": [
    "list(filter(lambda num : num%2==0, var_list))"
   ]
  },
  {
   "cell_type": "code",
   "execution_count": 512,
   "id": "cf2b025a",
   "metadata": {},
   "outputs": [],
   "source": [
    "var_list = [1,2,3,4,5,6,7,8]"
   ]
  },
  {
   "cell_type": "code",
   "execution_count": 513,
   "id": "973c8eac",
   "metadata": {},
   "outputs": [],
   "source": [
    "#will return only those values which are returned true for the function. \n",
    "#list(filter(check_even,my_list))"
   ]
  },
  {
   "cell_type": "code",
   "execution_count": 515,
   "id": "419f4faa",
   "metadata": {},
   "outputs": [
    {
     "name": "stdout",
     "output_type": "stream",
     "text": [
      "2\n",
      "4\n",
      "6\n",
      "8\n"
     ]
    }
   ],
   "source": [
    "for n in filter(check_even,var_list):\n",
    "    print(n)"
   ]
  },
  {
   "cell_type": "code",
   "execution_count": 517,
   "id": "3db87b4d",
   "metadata": {},
   "outputs": [
    {
     "data": {
      "text/plain": [
       "[1, 4, 9, 16, 25, 36, 49, 64]"
      ]
     },
     "execution_count": 517,
     "metadata": {},
     "output_type": "execute_result"
    }
   ],
   "source": [
    "#we convert the function into a lambda expression and then use it.\n",
    "list(map(lambda num : num**2, var_list))"
   ]
  },
  {
   "cell_type": "code",
   "execution_count": 518,
   "id": "70f3d94f",
   "metadata": {},
   "outputs": [
    {
     "data": {
      "text/plain": [
       "[2, 4, 6, 8]"
      ]
     },
     "execution_count": 518,
     "metadata": {},
     "output_type": "execute_result"
    }
   ],
   "source": [
    "list(filter(check_even,var_list))"
   ]
  },
  {
   "cell_type": "code",
   "execution_count": 3,
   "id": "053d79fc",
   "metadata": {},
   "outputs": [
    {
     "name": "stdout",
     "output_type": "stream",
     "text": [
      "Guess game!!!\n",
      "Guess a number.\n",
      "19\n",
      "You won!!\n",
      "You won!!\n",
      "You won!!\n",
      "You won!!\n",
      "You won!!\n",
      "You won!!\n",
      "You won!!\n",
      "You won!!\n",
      "You won!!\n"
     ]
    }
   ],
   "source": [
    "ans = 19\n",
    "guess = 1\n",
    "print(\"Guess game!!!\")\n",
    "print(\"Guess a number.\")\n",
    "usr_in = int(input())\n",
    "while (guess<=9):\n",
    "    if ans == usr_in:\n",
    "        print(\"You won!!\")\n",
    "    guess += 1"
   ]
  },
  {
   "cell_type": "code",
   "execution_count": null,
   "id": "e7e9f1d6",
   "metadata": {},
   "outputs": [],
   "source": []
  }
 ],
 "metadata": {
  "kernelspec": {
   "display_name": "Python 3 (ipykernel)",
   "language": "python",
   "name": "python3"
  },
  "language_info": {
   "codemirror_mode": {
    "name": "ipython",
    "version": 3
   },
   "file_extension": ".py",
   "mimetype": "text/x-python",
   "name": "python",
   "nbconvert_exporter": "python",
   "pygments_lexer": "ipython3",
   "version": "3.9.7"
  }
 },
 "nbformat": 4,
 "nbformat_minor": 5
}
