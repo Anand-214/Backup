{
 "cells": [
  {
   "cell_type": "code",
   "execution_count": 1,
   "id": "51389dce",
   "metadata": {},
   "outputs": [],
   "source": [
    "name = ['Andy','Sally','Eve']"
   ]
  },
  {
   "cell_type": "code",
   "execution_count": 8,
   "id": "c1d8e4ad",
   "metadata": {},
   "outputs": [
    {
     "data": {
      "text/plain": [
       "['ydnA', 'yllaS', 'evE']"
      ]
     },
     "execution_count": 8,
     "metadata": {},
     "output_type": "execute_result"
    }
   ],
   "source": [
    "list(map(lambda x : x[::-1], name))"
   ]
  },
  {
   "cell_type": "code",
   "execution_count": 17,
   "id": "8a57e369",
   "metadata": {},
   "outputs": [],
   "source": [
    "#swap\n",
    "def swap (a,b):\n",
    "    temp = a\n",
    "    a = b\n",
    "    b = temp\n",
    "    return a,b"
   ]
  },
  {
   "cell_type": "code",
   "execution_count": 23,
   "id": "c0fe9bb0",
   "metadata": {},
   "outputs": [
    {
     "data": {
      "text/plain": [
       "(20, 10)"
      ]
     },
     "execution_count": 23,
     "metadata": {},
     "output_type": "execute_result"
    }
   ],
   "source": [
    "swap(10,20)"
   ]
  },
  {
   "cell_type": "code",
   "execution_count": 39,
   "id": "5811d331",
   "metadata": {},
   "outputs": [],
   "source": [
    "upper = 0\n",
    "def count_upper_lower (name):\n",
    "    upper  = 0\n",
    "    for i in range(len(name)):\n",
    "        if name.isupper():\n",
    "            upper += 1\n",
    "    print(upper)"
   ]
  },
  {
   "cell_type": "code",
   "execution_count": 40,
   "id": "808b3909",
   "metadata": {},
   "outputs": [
    {
     "name": "stdout",
     "output_type": "stream",
     "text": [
      "0\n"
     ]
    }
   ],
   "source": [
    "count_upper_lower(\"My name is ANAND Arvind Kulkarni\")"
   ]
  },
  {
   "cell_type": "code",
   "execution_count": 50,
   "id": "7c6770fb",
   "metadata": {},
   "outputs": [],
   "source": [
    "stud = (\"Anand\",\"Anand\",\"Mirafra\",\"Anand\",\"Anand\")"
   ]
  },
  {
   "cell_type": "code",
   "execution_count": 58,
   "id": "15a3dedc",
   "metadata": {},
   "outputs": [
    {
     "name": "stdout",
     "output_type": "stream",
     "text": [
      "Enter the name to check its occurance:Mirafra\n",
      "The name Mirafra occured 1 times\n"
     ]
    }
   ],
   "source": [
    "result = (input('Enter the name to check its occurance:'))\n",
    "count = 0\n",
    "for i in stud:\n",
    "    if i == result:\n",
    "        count += 1\n",
    "print('The name {} occured {} times'.format(result, count))\n",
    "    "
   ]
  },
  {
   "cell_type": "code",
   "execution_count": 70,
   "id": "8a4e8332",
   "metadata": {},
   "outputs": [],
   "source": [
    "#OOP starts"
   ]
  },
  {
   "cell_type": "code",
   "execution_count": 71,
   "id": "608e3b54",
   "metadata": {},
   "outputs": [],
   "source": [
    "class Dog():\n",
    "    def __init__ (self, breed, name, spots):\n",
    "        self.breed = breed\n",
    "        self.name = name\n",
    "        self.spots = spots\n",
    "        "
   ]
  },
  {
   "cell_type": "code",
   "execution_count": 72,
   "id": "19ccc9a8",
   "metadata": {},
   "outputs": [],
   "source": [
    "my_dog = Dog (breed='Lab', name='Brego', spots=False)"
   ]
  },
  {
   "cell_type": "code",
   "execution_count": 78,
   "id": "5096031f",
   "metadata": {},
   "outputs": [
    {
     "data": {
      "text/plain": [
       "'Brego'"
      ]
     },
     "execution_count": 78,
     "metadata": {},
     "output_type": "execute_result"
    }
   ],
   "source": [
    "my_dog.name"
   ]
  },
  {
   "cell_type": "code",
   "execution_count": 80,
   "id": "07632c82",
   "metadata": {},
   "outputs": [],
   "source": [
    "class Dog():\n",
    "    species = 'Mammal'\n",
    "    \n",
    "    def __init__ (self,name,breed):\n",
    "        self.name = name\n",
    "        self.breed = breed\n",
    "    \n",
    "    def Bark(self, number):\n",
    "        print('WOOF!!! My name is {} and number is {}'.format(self.name,number))\n",
    "        \n",
    "    "
   ]
  },
  {
   "cell_type": "code",
   "execution_count": 83,
   "id": "c28cb714",
   "metadata": {},
   "outputs": [],
   "source": [
    "my_dog = Dog('Brego','Lab')"
   ]
  },
  {
   "cell_type": "code",
   "execution_count": 84,
   "id": "8b1ef9ff",
   "metadata": {},
   "outputs": [
    {
     "data": {
      "text/plain": [
       "__main__.Dog"
      ]
     },
     "execution_count": 84,
     "metadata": {},
     "output_type": "execute_result"
    }
   ],
   "source": [
    "type(my_dog)"
   ]
  },
  {
   "cell_type": "code",
   "execution_count": 89,
   "id": "df2fadbc",
   "metadata": {},
   "outputs": [
    {
     "name": "stdout",
     "output_type": "stream",
     "text": [
      "WOOF!!! My name is Brego and number is 10\n"
     ]
    }
   ],
   "source": [
    "my_dog.Bark(10)"
   ]
  },
  {
   "cell_type": "code",
   "execution_count": null,
   "id": "2d069cb4",
   "metadata": {},
   "outputs": [],
   "source": []
  },
  {
   "cell_type": "code",
   "execution_count": null,
   "id": "f769730c",
   "metadata": {},
   "outputs": [],
   "source": []
  },
  {
   "cell_type": "code",
   "execution_count": null,
   "id": "d10a8fc7",
   "metadata": {},
   "outputs": [],
   "source": []
  },
  {
   "cell_type": "code",
   "execution_count": 93,
   "id": "80c1f9a3",
   "metadata": {},
   "outputs": [],
   "source": [
    "class Circle():\n",
    "    #Class object attribute (always present)\n",
    "    pi = 3.14\n",
    "    \n",
    "    def __init__ (self,radius=1):\n",
    "        self.radius = radius\n",
    "    \n",
    "    def circumference (self):\n",
    "        return self.radius * self.pi * 2\n",
    "     "
   ]
  },
  {
   "cell_type": "code",
   "execution_count": 108,
   "id": "633f39b6",
   "metadata": {},
   "outputs": [],
   "source": [
    "my_circle = Circle(2)"
   ]
  },
  {
   "cell_type": "code",
   "execution_count": 109,
   "id": "4e593feb",
   "metadata": {},
   "outputs": [
    {
     "data": {
      "text/plain": [
       "12.56"
      ]
     },
     "execution_count": 109,
     "metadata": {},
     "output_type": "execute_result"
    }
   ],
   "source": [
    "my_circle.circumference()"
   ]
  },
  {
   "cell_type": "code",
   "execution_count": 106,
   "id": "dd93e6ac",
   "metadata": {},
   "outputs": [
    {
     "data": {
      "text/plain": [
       "3.14"
      ]
     },
     "execution_count": 106,
     "metadata": {},
     "output_type": "execute_result"
    }
   ],
   "source": [
    "my_circle.pi"
   ]
  },
  {
   "cell_type": "code",
   "execution_count": 107,
   "id": "7a637075",
   "metadata": {},
   "outputs": [
    {
     "data": {
      "text/plain": [
       "1"
      ]
     },
     "execution_count": 107,
     "metadata": {},
     "output_type": "execute_result"
    }
   ],
   "source": [
    "my_circle.radius"
   ]
  },
  {
   "cell_type": "code",
   "execution_count": null,
   "id": "b8afbe35",
   "metadata": {},
   "outputs": [],
   "source": []
  },
  {
   "cell_type": "code",
   "execution_count": null,
   "id": "16addcb6",
   "metadata": {},
   "outputs": [],
   "source": []
  },
  {
   "cell_type": "code",
   "execution_count": 130,
   "id": "9db5a58e",
   "metadata": {},
   "outputs": [],
   "source": [
    "class Animal():\n",
    "    def __init__(self):\n",
    "        print('Animal Created')\n",
    "        \n",
    "    def who_am_i(self):\n",
    "        print(\"I am an animal\")\n",
    "        \n",
    "    def eat(self):\n",
    "        print('I am eating')\n",
    "    "
   ]
  },
  {
   "cell_type": "code",
   "execution_count": 131,
   "id": "b24afb7f",
   "metadata": {},
   "outputs": [],
   "source": [
    "#class Dog(Animal):\n",
    "#    def __init__ (self):\n",
    "#        Animal.__init__(self)\n",
    "#       #Animal.who_am_i(self)\n",
    "#       #Animal.eat(self)\n",
    "#        print('Dog Created')"
   ]
  },
  {
   "cell_type": "code",
   "execution_count": 144,
   "id": "4eb84a68",
   "metadata": {},
   "outputs": [
    {
     "ename": "NameError",
     "evalue": "name 'self' is not defined",
     "output_type": "error",
     "traceback": [
      "\u001b[1;31m---------------------------------------------------------------------------\u001b[0m",
      "\u001b[1;31mNameError\u001b[0m                                 Traceback (most recent call last)",
      "\u001b[1;32m~\\AppData\\Local\\Temp/ipykernel_26904/405605020.py\u001b[0m in \u001b[0;36m<module>\u001b[1;34m\u001b[0m\n\u001b[1;32m----> 1\u001b[1;33m \u001b[0mAnimal\u001b[0m\u001b[1;33m.\u001b[0m\u001b[0mwho_am_i\u001b[0m\u001b[1;33m(\u001b[0m\u001b[0mself\u001b[0m\u001b[1;33m)\u001b[0m\u001b[1;33m\u001b[0m\u001b[1;33m\u001b[0m\u001b[0m\n\u001b[0m",
      "\u001b[1;31mNameError\u001b[0m: name 'self' is not defined"
     ]
    }
   ],
   "source": [
    "Animal.who_am_i()"
   ]
  },
  {
   "cell_type": "code",
   "execution_count": 139,
   "id": "33c284e3",
   "metadata": {},
   "outputs": [
    {
     "ename": "NameError",
     "evalue": "name 'self' is not defined",
     "output_type": "error",
     "traceback": [
      "\u001b[1;31m---------------------------------------------------------------------------\u001b[0m",
      "\u001b[1;31mNameError\u001b[0m                                 Traceback (most recent call last)",
      "\u001b[1;32m~\\AppData\\Local\\Temp/ipykernel_26904/302876050.py\u001b[0m in \u001b[0;36m<module>\u001b[1;34m\u001b[0m\n\u001b[1;32m----> 1\u001b[1;33m \u001b[0mAnimal\u001b[0m\u001b[1;33m.\u001b[0m\u001b[0meat\u001b[0m\u001b[1;33m(\u001b[0m\u001b[0mself\u001b[0m\u001b[1;33m)\u001b[0m\u001b[1;33m\u001b[0m\u001b[1;33m\u001b[0m\u001b[0m\n\u001b[0m",
      "\u001b[1;31mNameError\u001b[0m: name 'self' is not defined"
     ]
    }
   ],
   "source": []
  },
  {
   "cell_type": "code",
   "execution_count": null,
   "id": "ae80439e",
   "metadata": {},
   "outputs": [],
   "source": [
    "4/3* pi * r**3"
   ]
  },
  {
   "cell_type": "code",
   "execution_count": 3,
   "id": "c331034e",
   "metadata": {},
   "outputs": [],
   "source": [
    "class Sphere():\n",
    "    pi = 3.14\n",
    "    def __init__ (self,radius):\n",
    "        self.radius = radius\n",
    "    \n",
    "    def Vol (self):\n",
    "        return (4/3) * self.pi * (self.radius**3)"
   ]
  },
  {
   "cell_type": "code",
   "execution_count": 4,
   "id": "d8c7eb3f",
   "metadata": {},
   "outputs": [],
   "source": [
    "my_vol = Sphere(2)"
   ]
  },
  {
   "cell_type": "code",
   "execution_count": 8,
   "id": "1e5ac09e",
   "metadata": {},
   "outputs": [
    {
     "data": {
      "text/plain": [
       "33.49333333333333"
      ]
     },
     "execution_count": 8,
     "metadata": {},
     "output_type": "execute_result"
    }
   ],
   "source": [
    "my_vol.Vol()"
   ]
  },
  {
   "cell_type": "code",
   "execution_count": 9,
   "id": "a2abe5b4",
   "metadata": {},
   "outputs": [
    {
     "data": {
      "text/plain": [
       "33.49333333333333"
      ]
     },
     "execution_count": 9,
     "metadata": {},
     "output_type": "execute_result"
    }
   ],
   "source": [
    "(4/3)*3.14*(2**3)"
   ]
  },
  {
   "cell_type": "code",
   "execution_count": null,
   "id": "22dfdf38",
   "metadata": {},
   "outputs": [],
   "source": []
  },
  {
   "cell_type": "code",
   "execution_count": 10,
   "id": "d5cea722",
   "metadata": {},
   "outputs": [],
   "source": [
    "s = 'Global Variable'\n",
    "\n",
    "def check_for_locals():\n",
    "    print(locals())"
   ]
  },
  {
   "cell_type": "code",
   "execution_count": 13,
   "id": "67abb29e",
   "metadata": {},
   "outputs": [
    {
     "name": "stdout",
     "output_type": "stream",
     "text": [
      "{}\n"
     ]
    }
   ],
   "source": [
    "res = check_for_locals()"
   ]
  },
  {
   "cell_type": "code",
   "execution_count": 14,
   "id": "77251cee",
   "metadata": {},
   "outputs": [],
   "source": [
    "def new_decorator(original_func):\n",
    "    def wrap_func ():\n",
    "        print('some lines before')\n",
    "        original_func()\n",
    "        print('Some lines after.')\n",
    "    return wrap_func\n",
    "        \n"
   ]
  },
  {
   "cell_type": "code",
   "execution_count": 25,
   "id": "91f3d0c8",
   "metadata": {},
   "outputs": [],
   "source": [
    "@new_decorator\n",
    "def func_gett():\n",
    "    print('I am decorated')"
   ]
  },
  {
   "cell_type": "code",
   "execution_count": 26,
   "id": "5d2b31d7",
   "metadata": {},
   "outputs": [
    {
     "name": "stdout",
     "output_type": "stream",
     "text": [
      "some lines before\n",
      "I am decorated\n",
      "Some lines after.\n"
     ]
    }
   ],
   "source": [
    "func_gett()"
   ]
  },
  {
   "cell_type": "code",
   "execution_count": 27,
   "id": "36c14c7b",
   "metadata": {},
   "outputs": [],
   "source": [
    "#generators (yield keyword)\n",
    "#generate series of cubes of number till n\n",
    "def gen_cubes(n):\n",
    "    for i in range(n):\n",
    "        yield i**3 "
   ]
  },
  {
   "cell_type": "code",
   "execution_count": 31,
   "id": "846f733b",
   "metadata": {},
   "outputs": [
    {
     "name": "stdout",
     "output_type": "stream",
     "text": [
      "0\n",
      "1\n",
      "8\n",
      "27\n",
      "64\n",
      "125\n",
      "216\n",
      "343\n",
      "512\n",
      "729\n",
      "1000\n"
     ]
    }
   ],
   "source": [
    "for num in gen_cubes(11):\n",
    "    print(num)"
   ]
  },
  {
   "cell_type": "code",
   "execution_count": 36,
   "id": "9afe147a",
   "metadata": {},
   "outputs": [],
   "source": [
    "#Problem 1\n",
    "#Create a generator that generates the squares of numbers up to some number N.\n",
    "def gen_square(n):\n",
    "    for i in range(1,n+1):\n",
    "        yield i**2"
   ]
  },
  {
   "cell_type": "code",
   "execution_count": 37,
   "id": "9145a68d",
   "metadata": {},
   "outputs": [
    {
     "name": "stdout",
     "output_type": "stream",
     "text": [
      "Enter the number:10\n",
      "1\n",
      "4\n",
      "9\n",
      "16\n",
      "25\n",
      "36\n",
      "49\n",
      "64\n",
      "81\n",
      "100\n"
     ]
    }
   ],
   "source": [
    "res = int(input('Enter the number:'))\n",
    "for item in gen_square(res):\n",
    "    print(item)"
   ]
  },
  {
   "cell_type": "code",
   "execution_count": 38,
   "id": "23594481",
   "metadata": {},
   "outputs": [],
   "source": [
    "import random"
   ]
  },
  {
   "cell_type": "code",
   "execution_count": 42,
   "id": "5c469f3c",
   "metadata": {},
   "outputs": [
    {
     "data": {
      "text/plain": [
       "3"
      ]
     },
     "execution_count": 42,
     "metadata": {},
     "output_type": "execute_result"
    }
   ],
   "source": [
    "random.randint(1,10)"
   ]
  },
  {
   "cell_type": "code",
   "execution_count": 45,
   "id": "0d1afc1e",
   "metadata": {},
   "outputs": [],
   "source": [
    "def gen_rand(low,high,n):\n",
    "    import random\n",
    "    for i in range(n):\n",
    "        yield random.randint(low,high)"
   ]
  },
  {
   "cell_type": "code",
   "execution_count": 49,
   "id": "56d5e825",
   "metadata": {},
   "outputs": [
    {
     "name": "stdout",
     "output_type": "stream",
     "text": [
      "17\n",
      "19\n"
     ]
    }
   ],
   "source": [
    "for item in gen_rand(10,20,2):\n",
    "    print(item)"
   ]
  },
  {
   "cell_type": "code",
   "execution_count": 51,
   "id": "f3ce8779",
   "metadata": {},
   "outputs": [],
   "source": [
    "g = gen_rand(0,20,5)"
   ]
  },
  {
   "cell_type": "code",
   "execution_count": 52,
   "id": "fc8c86bd",
   "metadata": {},
   "outputs": [
    {
     "name": "stdout",
     "output_type": "stream",
     "text": [
      "10\n"
     ]
    }
   ],
   "source": [
    "print(next(g))"
   ]
  },
  {
   "cell_type": "code",
   "execution_count": 53,
   "id": "4fc8f5c1",
   "metadata": {},
   "outputs": [
    {
     "name": "stdout",
     "output_type": "stream",
     "text": [
      "6\n"
     ]
    }
   ],
   "source": [
    "print(next(g))"
   ]
  },
  {
   "cell_type": "code",
   "execution_count": 54,
   "id": "530eb5d2",
   "metadata": {},
   "outputs": [
    {
     "name": "stdout",
     "output_type": "stream",
     "text": [
      "15\n"
     ]
    }
   ],
   "source": [
    "print(next(g))"
   ]
  },
  {
   "cell_type": "code",
   "execution_count": 55,
   "id": "8e6b8235",
   "metadata": {},
   "outputs": [
    {
     "name": "stdout",
     "output_type": "stream",
     "text": [
      "12\n"
     ]
    }
   ],
   "source": [
    "print(next(g))"
   ]
  },
  {
   "cell_type": "code",
   "execution_count": 60,
   "id": "9f31d1b7",
   "metadata": {},
   "outputs": [],
   "source": [
    "address = 'N-9, M-2, 65/1'"
   ]
  },
  {
   "cell_type": "code",
   "execution_count": 61,
   "id": "af87e5ca",
   "metadata": {},
   "outputs": [
    {
     "name": "stdout",
     "output_type": "stream",
     "text": [
      "Ship the order to N-9, M-2, 65/1\n"
     ]
    }
   ],
   "source": [
    "print(f'Ship the order to {address}')"
   ]
  },
  {
   "cell_type": "code",
   "execution_count": 62,
   "id": "6a131ac4",
   "metadata": {},
   "outputs": [],
   "source": [
    "my_list = ['a','z','w','y','g']"
   ]
  },
  {
   "cell_type": "code",
   "execution_count": 63,
   "id": "4f9ee8c4",
   "metadata": {},
   "outputs": [],
   "source": [
    "my_list.sort()"
   ]
  },
  {
   "cell_type": "code",
   "execution_count": 64,
   "id": "b342f146",
   "metadata": {},
   "outputs": [
    {
     "data": {
      "text/plain": [
       "['a', 'g', 'w', 'y', 'z']"
      ]
     },
     "execution_count": 64,
     "metadata": {},
     "output_type": "execute_result"
    }
   ],
   "source": [
    "my_list"
   ]
  },
  {
   "cell_type": "code",
   "execution_count": 73,
   "id": "5dd5b5b5",
   "metadata": {},
   "outputs": [],
   "source": [
    "my_list = [x**2 for x in range(0,11) if x % 2 != 0]"
   ]
  },
  {
   "cell_type": "code",
   "execution_count": 74,
   "id": "27d220d3",
   "metadata": {},
   "outputs": [
    {
     "data": {
      "text/plain": [
       "[1, 9, 25, 49, 81]"
      ]
     },
     "execution_count": 74,
     "metadata": {},
     "output_type": "execute_result"
    }
   ],
   "source": [
    "my_list"
   ]
  },
  {
   "cell_type": "code",
   "execution_count": 77,
   "id": "4c0ab72a",
   "metadata": {},
   "outputs": [],
   "source": [
    "str1 = \"Hello World\" "
   ]
  },
  {
   "cell_type": "code",
   "execution_count": null,
   "id": "68f97747",
   "metadata": {},
   "outputs": [],
   "source": []
  },
  {
   "cell_type": "code",
   "execution_count": 96,
   "id": "5a5e2ca9",
   "metadata": {},
   "outputs": [],
   "source": [
    "my_list = [1,2,3,4,5,6,7,8,9,10,100]"
   ]
  },
  {
   "cell_type": "code",
   "execution_count": 97,
   "id": "a9298103",
   "metadata": {},
   "outputs": [],
   "source": [
    "def check_even(my_list):\n",
    "    count = 0\n",
    "    for item in my_list:\n",
    "        if item % 2 == 0:\n",
    "            count += 1\n",
    "        else:\n",
    "            pass\n",
    "    return count\n",
    "            "
   ]
  },
  {
   "cell_type": "code",
   "execution_count": 98,
   "id": "66ad8984",
   "metadata": {},
   "outputs": [
    {
     "data": {
      "text/plain": [
       "6"
      ]
     },
     "execution_count": 98,
     "metadata": {},
     "output_type": "execute_result"
    }
   ],
   "source": [
    "check_even(my_list)"
   ]
  },
  {
   "cell_type": "code",
   "execution_count": 99,
   "id": "dacc5fe8",
   "metadata": {},
   "outputs": [],
   "source": [
    "example = [1,2,3,4,7,5,10]\n",
    "from random import shuffle"
   ]
  },
  {
   "cell_type": "code",
   "execution_count": 103,
   "id": "e9b84f19",
   "metadata": {},
   "outputs": [],
   "source": [
    "shuffle(example)"
   ]
  },
  {
   "cell_type": "code",
   "execution_count": 104,
   "id": "dde2ac73",
   "metadata": {},
   "outputs": [
    {
     "name": "stdout",
     "output_type": "stream",
     "text": [
      "[7, 4, 2, 10, 5, 1, 3]\n"
     ]
    }
   ],
   "source": [
    "print(example)"
   ]
  },
  {
   "cell_type": "code",
   "execution_count": 106,
   "id": "0bf59e12",
   "metadata": {},
   "outputs": [],
   "source": [
    "def myfunc (*args):\n",
    "    return sum(args)"
   ]
  },
  {
   "cell_type": "code",
   "execution_count": 107,
   "id": "daa3fc70",
   "metadata": {},
   "outputs": [
    {
     "data": {
      "text/plain": [
       "60"
      ]
     },
     "execution_count": 107,
     "metadata": {},
     "output_type": "execute_result"
    }
   ],
   "source": [
    "myfunc(10,20,30)"
   ]
  },
  {
   "cell_type": "code",
   "execution_count": 109,
   "id": "6ead61c5",
   "metadata": {},
   "outputs": [],
   "source": [
    "#advanced python modules"
   ]
  },
  {
   "cell_type": "code",
   "execution_count": 110,
   "id": "ef78417b",
   "metadata": {},
   "outputs": [],
   "source": [
    "my_list = [1,2,3,1,1,1,3,4,2,2,4,3,4]"
   ]
  },
  {
   "cell_type": "code",
   "execution_count": 111,
   "id": "f42ab5ee",
   "metadata": {},
   "outputs": [
    {
     "data": {
      "text/plain": [
       "Counter({1: 4, 2: 3, 3: 3, 4: 3})"
      ]
     },
     "execution_count": 111,
     "metadata": {},
     "output_type": "execute_result"
    }
   ],
   "source": [
    "from collections import Counter\n",
    "Counter(my_list)"
   ]
  },
  {
   "cell_type": "code",
   "execution_count": 112,
   "id": "84c37b39",
   "metadata": {},
   "outputs": [],
   "source": [
    "my_new = {'key1':1,'key2':2}"
   ]
  },
  {
   "cell_type": "code",
   "execution_count": 114,
   "id": "55203b1f",
   "metadata": {},
   "outputs": [
    {
     "data": {
      "text/plain": [
       "['key1', 'key2']"
      ]
     },
     "execution_count": 114,
     "metadata": {},
     "output_type": "execute_result"
    }
   ],
   "source": [
    "list(my_new)"
   ]
  },
  {
   "cell_type": "code",
   "execution_count": 116,
   "id": "94ffa3a4",
   "metadata": {},
   "outputs": [],
   "source": [
    "c = Counter('aaaabbbbccccddddddd')"
   ]
  },
  {
   "cell_type": "code",
   "execution_count": 122,
   "id": "ff2f3048",
   "metadata": {},
   "outputs": [
    {
     "name": "stdout",
     "output_type": "stream",
     "text": [
      "Help on method update in module collections:\n",
      "\n",
      "update(iterable=None, /, **kwds) method of collections.Counter instance\n",
      "    Like dict.update() but add counts instead of replacing them.\n",
      "    \n",
      "    Source can be an iterable, a dictionary, or another Counter instance.\n",
      "    \n",
      "    >>> c = Counter('which')\n",
      "    >>> c.update('witch')           # add elements from another iterable\n",
      "    >>> d = Counter('watch')\n",
      "    >>> c.update(d)                 # add elements from another counter\n",
      "    >>> c['h']                      # four 'h' in which, witch, and watch\n",
      "    4\n",
      "\n"
     ]
    }
   ],
   "source": [
    "help(c.update)"
   ]
  },
  {
   "cell_type": "code",
   "execution_count": 123,
   "id": "5c8f019f",
   "metadata": {},
   "outputs": [],
   "source": [
    "from collections import defaultdict\n"
   ]
  },
  {
   "cell_type": "code",
   "execution_count": 124,
   "id": "d072568a",
   "metadata": {},
   "outputs": [],
   "source": [
    "d = {'key1': 10,'key2': 20}"
   ]
  },
  {
   "cell_type": "code",
   "execution_count": 125,
   "id": "175fed8c",
   "metadata": {},
   "outputs": [
    {
     "ename": "KeyError",
     "evalue": "'key3'",
     "output_type": "error",
     "traceback": [
      "\u001b[1;31m---------------------------------------------------------------------------\u001b[0m",
      "\u001b[1;31mKeyError\u001b[0m                                  Traceback (most recent call last)",
      "\u001b[1;32m~\\AppData\\Local\\Temp/ipykernel_6968/3265982285.py\u001b[0m in \u001b[0;36m<module>\u001b[1;34m\u001b[0m\n\u001b[1;32m----> 1\u001b[1;33m \u001b[0md\u001b[0m\u001b[1;33m[\u001b[0m\u001b[1;34m'key3'\u001b[0m\u001b[1;33m]\u001b[0m\u001b[1;33m\u001b[0m\u001b[1;33m\u001b[0m\u001b[0m\n\u001b[0m",
      "\u001b[1;31mKeyError\u001b[0m: 'key3'"
     ]
    }
   ],
   "source": [
    "d['key3']"
   ]
  },
  {
   "cell_type": "code",
   "execution_count": 128,
   "id": "dca31481",
   "metadata": {},
   "outputs": [],
   "source": [
    "d = defaultdict(lambda:0)"
   ]
  },
  {
   "cell_type": "code",
   "execution_count": 129,
   "id": "ddd7ede1",
   "metadata": {},
   "outputs": [
    {
     "data": {
      "text/plain": [
       "0"
      ]
     },
     "execution_count": 129,
     "metadata": {},
     "output_type": "execute_result"
    }
   ],
   "source": [
    "d['key3']"
   ]
  },
  {
   "cell_type": "code",
   "execution_count": 130,
   "id": "0a0426cc",
   "metadata": {},
   "outputs": [
    {
     "data": {
      "text/plain": [
       "defaultdict(<function __main__.<lambda>()>, {'key3': 0})"
      ]
     },
     "execution_count": 130,
     "metadata": {},
     "output_type": "execute_result"
    }
   ],
   "source": [
    "d"
   ]
  },
  {
   "cell_type": "code",
   "execution_count": 135,
   "id": "3bab8877",
   "metadata": {},
   "outputs": [],
   "source": [
    "from collections import namedtuple"
   ]
  },
  {
   "cell_type": "code",
   "execution_count": 3,
   "id": "0f9e76bd",
   "metadata": {},
   "outputs": [
    {
     "ename": "NameError",
     "evalue": "name 'namedtuple' is not defined",
     "output_type": "error",
     "traceback": [
      "\u001b[0;31m---------------------------------------------------------------------------\u001b[0m",
      "\u001b[0;31mNameError\u001b[0m                                 Traceback (most recent call last)",
      "\u001b[0;32m/tmp/ipykernel_11736/89626810.py\u001b[0m in \u001b[0;36m<module>\u001b[0;34m\u001b[0m\n\u001b[0;32m----> 1\u001b[0;31m \u001b[0mDog\u001b[0m \u001b[0;34m=\u001b[0m \u001b[0mnamedtuple\u001b[0m\u001b[0;34m(\u001b[0m\u001b[0;34m'Dog'\u001b[0m\u001b[0;34m,\u001b[0m\u001b[0;34m[\u001b[0m\u001b[0;34m'age'\u001b[0m\u001b[0;34m,\u001b[0m\u001b[0;34m'breed'\u001b[0m\u001b[0;34m,\u001b[0m\u001b[0;34m'name'\u001b[0m\u001b[0;34m]\u001b[0m\u001b[0;34m)\u001b[0m\u001b[0;34m\u001b[0m\u001b[0;34m\u001b[0m\u001b[0m\n\u001b[0m",
      "\u001b[0;31mNameError\u001b[0m: name 'namedtuple' is not defined"
     ]
    }
   ],
   "source": [
    "Dog = namedtuple('Dog',['age','breed','name'])"
   ]
  },
  {
   "cell_type": "code",
   "execution_count": 7,
   "id": "b563b9d4",
   "metadata": {},
   "outputs": [
    {
     "name": "stdout",
     "output_type": "stream",
     "text": [
      "[1, 2, 3, 0, 1, 2]\n"
     ]
    }
   ],
   "source": [
    "blank = []\n",
    "var = [1,2,3]\n",
    "var2 = [7,8,9]\n",
    "\n",
    "for i in range(len(var2)):\n",
    "    var.append(i)\n",
    "    \n",
    "print(var)\n"
   ]
  },
  {
   "cell_type": "code",
   "execution_count": null,
   "id": "ace3459d",
   "metadata": {},
   "outputs": [],
   "source": []
  }
 ],
 "metadata": {
  "kernelspec": {
   "display_name": "Python 3 (ipykernel)",
   "language": "python",
   "name": "python3"
  },
  "language_info": {
   "codemirror_mode": {
    "name": "ipython",
    "version": 3
   },
   "file_extension": ".py",
   "mimetype": "text/x-python",
   "name": "python",
   "nbconvert_exporter": "python",
   "pygments_lexer": "ipython3",
   "version": "3.9.7"
  }
 },
 "nbformat": 4,
 "nbformat_minor": 5
}
